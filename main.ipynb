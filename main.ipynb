{
 "cells": [
  {
   "cell_type": "code",
   "execution_count": 1,
   "id": "NGNen-wQAzqr",
   "metadata": {
    "colab": {
     "base_uri": "https://localhost:8080/",
     "height": 73
    },
    "executionInfo": {
     "elapsed": 17715,
     "status": "ok",
     "timestamp": 1687495418764,
     "user": {
      "displayName": "Sony Somanagurthy",
      "userId": "04008675568867142584"
     },
     "user_tz": -330
    },
    "id": "NGNen-wQAzqr",
    "outputId": "51e6812b-89ca-4666-be0e-c04837d03be8"
   },
   "outputs": [],
   "source": [
    "#from google.colab import files\n",
    "#uploaded = files.upload()"
   ]
  },
  {
   "cell_type": "code",
   "execution_count": 2,
   "id": "0b66820a",
   "metadata": {
    "executionInfo": {
     "elapsed": 360,
     "status": "ok",
     "timestamp": 1687512829009,
     "user": {
      "displayName": "Sony Somanagurthy",
      "userId": "04008675568867142584"
     },
     "user_tz": -330
    },
    "id": "0b66820a"
   },
   "outputs": [],
   "source": [
    "import matplotlib.pyplot as plt\n",
    "import seaborn as sns\n",
    "import numpy as np\n",
    "import pandas as pd\n",
    "import datetime as dt\n",
    "pd.set_option(\"display.max_columns\",100)\n",
    "pd.set_option(\"display.max_rows\",100)\n"
   ]
  },
  {
   "cell_type": "code",
   "execution_count": 3,
   "id": "1bc947f0",
   "metadata": {
    "executionInfo": {
     "elapsed": 845,
     "status": "ok",
     "timestamp": 1687512830520,
     "user": {
      "displayName": "Sony Somanagurthy",
      "userId": "04008675568867142584"
     },
     "user_tz": -330
    },
    "id": "1bc947f0"
   },
   "outputs": [],
   "source": [
    "df =pd.read_csv(\"C:/Users/Adithya/OneDrive/Documents/Projects/Project-3/marketing_campaign1.csv\")"
   ]
  },
  {
   "cell_type": "code",
   "execution_count": 4,
   "id": "070c04c2",
   "metadata": {
    "colab": {
     "base_uri": "https://localhost:8080/",
     "height": 270
    },
    "executionInfo": {
     "elapsed": 59,
     "status": "ok",
     "timestamp": 1687512830520,
     "user": {
      "displayName": "Sony Somanagurthy",
      "userId": "04008675568867142584"
     },
     "user_tz": -330
    },
    "id": "070c04c2",
    "outputId": "610712cc-2727-4a47-cb92-098290f1563b"
   },
   "outputs": [
    {
     "data": {
      "text/html": [
       "<div>\n",
       "<style scoped>\n",
       "    .dataframe tbody tr th:only-of-type {\n",
       "        vertical-align: middle;\n",
       "    }\n",
       "\n",
       "    .dataframe tbody tr th {\n",
       "        vertical-align: top;\n",
       "    }\n",
       "\n",
       "    .dataframe thead th {\n",
       "        text-align: right;\n",
       "    }\n",
       "</style>\n",
       "<table border=\"1\" class=\"dataframe\">\n",
       "  <thead>\n",
       "    <tr style=\"text-align: right;\">\n",
       "      <th></th>\n",
       "      <th>ID</th>\n",
       "      <th>Year_Birth</th>\n",
       "      <th>Education</th>\n",
       "      <th>Marital_Status</th>\n",
       "      <th>Income</th>\n",
       "      <th>Kidhome</th>\n",
       "      <th>Teenhome</th>\n",
       "      <th>Dt_Customer</th>\n",
       "      <th>Recency</th>\n",
       "      <th>MntWines</th>\n",
       "      <th>MntFruits</th>\n",
       "      <th>MntMeatProducts</th>\n",
       "      <th>MntFishProducts</th>\n",
       "      <th>MntSweetProducts</th>\n",
       "      <th>MntGoldProds</th>\n",
       "      <th>NumDealsPurchases</th>\n",
       "      <th>NumWebPurchases</th>\n",
       "      <th>NumCatalogPurchases</th>\n",
       "      <th>NumStorePurchases</th>\n",
       "      <th>NumWebVisitsMonth</th>\n",
       "      <th>AcceptedCmp3</th>\n",
       "      <th>AcceptedCmp4</th>\n",
       "      <th>AcceptedCmp5</th>\n",
       "      <th>AcceptedCmp1</th>\n",
       "      <th>AcceptedCmp2</th>\n",
       "      <th>Complain</th>\n",
       "      <th>Z_CostContact</th>\n",
       "      <th>Z_Revenue</th>\n",
       "      <th>Response</th>\n",
       "    </tr>\n",
       "  </thead>\n",
       "  <tbody>\n",
       "    <tr>\n",
       "      <th>0</th>\n",
       "      <td>5524</td>\n",
       "      <td>1957</td>\n",
       "      <td>Graduation</td>\n",
       "      <td>Single</td>\n",
       "      <td>58138.0</td>\n",
       "      <td>0</td>\n",
       "      <td>0</td>\n",
       "      <td>04-09-2012</td>\n",
       "      <td>58</td>\n",
       "      <td>635</td>\n",
       "      <td>88</td>\n",
       "      <td>546</td>\n",
       "      <td>172</td>\n",
       "      <td>88</td>\n",
       "      <td>88</td>\n",
       "      <td>3</td>\n",
       "      <td>8</td>\n",
       "      <td>10</td>\n",
       "      <td>4</td>\n",
       "      <td>7</td>\n",
       "      <td>0</td>\n",
       "      <td>0</td>\n",
       "      <td>0</td>\n",
       "      <td>0</td>\n",
       "      <td>0</td>\n",
       "      <td>0</td>\n",
       "      <td>3</td>\n",
       "      <td>11</td>\n",
       "      <td>1</td>\n",
       "    </tr>\n",
       "    <tr>\n",
       "      <th>1</th>\n",
       "      <td>2174</td>\n",
       "      <td>1954</td>\n",
       "      <td>Graduation</td>\n",
       "      <td>Single</td>\n",
       "      <td>46344.0</td>\n",
       "      <td>1</td>\n",
       "      <td>1</td>\n",
       "      <td>08-03-2014</td>\n",
       "      <td>38</td>\n",
       "      <td>11</td>\n",
       "      <td>1</td>\n",
       "      <td>6</td>\n",
       "      <td>2</td>\n",
       "      <td>1</td>\n",
       "      <td>6</td>\n",
       "      <td>2</td>\n",
       "      <td>1</td>\n",
       "      <td>1</td>\n",
       "      <td>2</td>\n",
       "      <td>5</td>\n",
       "      <td>0</td>\n",
       "      <td>0</td>\n",
       "      <td>0</td>\n",
       "      <td>0</td>\n",
       "      <td>0</td>\n",
       "      <td>0</td>\n",
       "      <td>3</td>\n",
       "      <td>11</td>\n",
       "      <td>0</td>\n",
       "    </tr>\n",
       "    <tr>\n",
       "      <th>2</th>\n",
       "      <td>4141</td>\n",
       "      <td>1965</td>\n",
       "      <td>Graduation</td>\n",
       "      <td>Together</td>\n",
       "      <td>71613.0</td>\n",
       "      <td>0</td>\n",
       "      <td>0</td>\n",
       "      <td>21-08-2013</td>\n",
       "      <td>26</td>\n",
       "      <td>426</td>\n",
       "      <td>49</td>\n",
       "      <td>127</td>\n",
       "      <td>111</td>\n",
       "      <td>21</td>\n",
       "      <td>42</td>\n",
       "      <td>1</td>\n",
       "      <td>8</td>\n",
       "      <td>2</td>\n",
       "      <td>10</td>\n",
       "      <td>4</td>\n",
       "      <td>0</td>\n",
       "      <td>0</td>\n",
       "      <td>0</td>\n",
       "      <td>0</td>\n",
       "      <td>0</td>\n",
       "      <td>0</td>\n",
       "      <td>3</td>\n",
       "      <td>11</td>\n",
       "      <td>0</td>\n",
       "    </tr>\n",
       "    <tr>\n",
       "      <th>3</th>\n",
       "      <td>6182</td>\n",
       "      <td>1984</td>\n",
       "      <td>Graduation</td>\n",
       "      <td>Together</td>\n",
       "      <td>26646.0</td>\n",
       "      <td>1</td>\n",
       "      <td>0</td>\n",
       "      <td>10-02-2014</td>\n",
       "      <td>26</td>\n",
       "      <td>11</td>\n",
       "      <td>4</td>\n",
       "      <td>20</td>\n",
       "      <td>10</td>\n",
       "      <td>3</td>\n",
       "      <td>5</td>\n",
       "      <td>2</td>\n",
       "      <td>2</td>\n",
       "      <td>0</td>\n",
       "      <td>4</td>\n",
       "      <td>6</td>\n",
       "      <td>0</td>\n",
       "      <td>0</td>\n",
       "      <td>0</td>\n",
       "      <td>0</td>\n",
       "      <td>0</td>\n",
       "      <td>0</td>\n",
       "      <td>3</td>\n",
       "      <td>11</td>\n",
       "      <td>0</td>\n",
       "    </tr>\n",
       "    <tr>\n",
       "      <th>4</th>\n",
       "      <td>5324</td>\n",
       "      <td>1981</td>\n",
       "      <td>PhD</td>\n",
       "      <td>Married</td>\n",
       "      <td>58293.0</td>\n",
       "      <td>1</td>\n",
       "      <td>0</td>\n",
       "      <td>19-01-2014</td>\n",
       "      <td>94</td>\n",
       "      <td>173</td>\n",
       "      <td>43</td>\n",
       "      <td>118</td>\n",
       "      <td>46</td>\n",
       "      <td>27</td>\n",
       "      <td>15</td>\n",
       "      <td>5</td>\n",
       "      <td>5</td>\n",
       "      <td>3</td>\n",
       "      <td>6</td>\n",
       "      <td>5</td>\n",
       "      <td>0</td>\n",
       "      <td>0</td>\n",
       "      <td>0</td>\n",
       "      <td>0</td>\n",
       "      <td>0</td>\n",
       "      <td>0</td>\n",
       "      <td>3</td>\n",
       "      <td>11</td>\n",
       "      <td>0</td>\n",
       "    </tr>\n",
       "  </tbody>\n",
       "</table>\n",
       "</div>"
      ],
      "text/plain": [
       "     ID  Year_Birth   Education Marital_Status   Income  Kidhome  Teenhome  \\\n",
       "0  5524        1957  Graduation         Single  58138.0        0         0   \n",
       "1  2174        1954  Graduation         Single  46344.0        1         1   \n",
       "2  4141        1965  Graduation       Together  71613.0        0         0   \n",
       "3  6182        1984  Graduation       Together  26646.0        1         0   \n",
       "4  5324        1981         PhD        Married  58293.0        1         0   \n",
       "\n",
       "  Dt_Customer  Recency  MntWines  MntFruits  MntMeatProducts  MntFishProducts  \\\n",
       "0  04-09-2012       58       635         88              546              172   \n",
       "1  08-03-2014       38        11          1                6                2   \n",
       "2  21-08-2013       26       426         49              127              111   \n",
       "3  10-02-2014       26        11          4               20               10   \n",
       "4  19-01-2014       94       173         43              118               46   \n",
       "\n",
       "   MntSweetProducts  MntGoldProds  NumDealsPurchases  NumWebPurchases  \\\n",
       "0                88            88                  3                8   \n",
       "1                 1             6                  2                1   \n",
       "2                21            42                  1                8   \n",
       "3                 3             5                  2                2   \n",
       "4                27            15                  5                5   \n",
       "\n",
       "   NumCatalogPurchases  NumStorePurchases  NumWebVisitsMonth  AcceptedCmp3  \\\n",
       "0                   10                  4                  7             0   \n",
       "1                    1                  2                  5             0   \n",
       "2                    2                 10                  4             0   \n",
       "3                    0                  4                  6             0   \n",
       "4                    3                  6                  5             0   \n",
       "\n",
       "   AcceptedCmp4  AcceptedCmp5  AcceptedCmp1  AcceptedCmp2  Complain  \\\n",
       "0             0             0             0             0         0   \n",
       "1             0             0             0             0         0   \n",
       "2             0             0             0             0         0   \n",
       "3             0             0             0             0         0   \n",
       "4             0             0             0             0         0   \n",
       "\n",
       "   Z_CostContact  Z_Revenue  Response  \n",
       "0              3         11         1  \n",
       "1              3         11         0  \n",
       "2              3         11         0  \n",
       "3              3         11         0  \n",
       "4              3         11         0  "
      ]
     },
     "execution_count": 4,
     "metadata": {},
     "output_type": "execute_result"
    }
   ],
   "source": [
    "\n",
    "df.head()"
   ]
  },
  {
   "cell_type": "code",
   "execution_count": 5,
   "id": "c6e78eff",
   "metadata": {
    "colab": {
     "base_uri": "https://localhost:8080/"
    },
    "executionInfo": {
     "elapsed": 58,
     "status": "ok",
     "timestamp": 1687512830521,
     "user": {
      "displayName": "Sony Somanagurthy",
      "userId": "04008675568867142584"
     },
     "user_tz": -330
    },
    "id": "c6e78eff",
    "outputId": "e221b769-d22c-4d96-8173-454f7914752c"
   },
   "outputs": [
    {
     "data": {
      "text/plain": [
       "(2240, 29)"
      ]
     },
     "execution_count": 5,
     "metadata": {},
     "output_type": "execute_result"
    }
   ],
   "source": [
    "df.shape"
   ]
  },
  {
   "cell_type": "code",
   "execution_count": 6,
   "id": "c917c602",
   "metadata": {
    "colab": {
     "base_uri": "https://localhost:8080/"
    },
    "executionInfo": {
     "elapsed": 51,
     "status": "ok",
     "timestamp": 1687512830521,
     "user": {
      "displayName": "Sony Somanagurthy",
      "userId": "04008675568867142584"
     },
     "user_tz": -330
    },
    "id": "c917c602",
    "outputId": "69c9ceee-6856-45be-cb55-5c4b028c956d"
   },
   "outputs": [
    {
     "name": "stdout",
     "output_type": "stream",
     "text": [
      "<class 'pandas.core.frame.DataFrame'>\n",
      "RangeIndex: 2240 entries, 0 to 2239\n",
      "Data columns (total 29 columns):\n",
      " #   Column               Non-Null Count  Dtype  \n",
      "---  ------               --------------  -----  \n",
      " 0   ID                   2240 non-null   int64  \n",
      " 1   Year_Birth           2240 non-null   int64  \n",
      " 2   Education            2240 non-null   object \n",
      " 3   Marital_Status       2240 non-null   object \n",
      " 4   Income               2216 non-null   float64\n",
      " 5   Kidhome              2240 non-null   int64  \n",
      " 6   Teenhome             2240 non-null   int64  \n",
      " 7   Dt_Customer          2240 non-null   object \n",
      " 8   Recency              2240 non-null   int64  \n",
      " 9   MntWines             2240 non-null   int64  \n",
      " 10  MntFruits            2240 non-null   int64  \n",
      " 11  MntMeatProducts      2240 non-null   int64  \n",
      " 12  MntFishProducts      2240 non-null   int64  \n",
      " 13  MntSweetProducts     2240 non-null   int64  \n",
      " 14  MntGoldProds         2240 non-null   int64  \n",
      " 15  NumDealsPurchases    2240 non-null   int64  \n",
      " 16  NumWebPurchases      2240 non-null   int64  \n",
      " 17  NumCatalogPurchases  2240 non-null   int64  \n",
      " 18  NumStorePurchases    2240 non-null   int64  \n",
      " 19  NumWebVisitsMonth    2240 non-null   int64  \n",
      " 20  AcceptedCmp3         2240 non-null   int64  \n",
      " 21  AcceptedCmp4         2240 non-null   int64  \n",
      " 22  AcceptedCmp5         2240 non-null   int64  \n",
      " 23  AcceptedCmp1         2240 non-null   int64  \n",
      " 24  AcceptedCmp2         2240 non-null   int64  \n",
      " 25  Complain             2240 non-null   int64  \n",
      " 26  Z_CostContact        2240 non-null   int64  \n",
      " 27  Z_Revenue            2240 non-null   int64  \n",
      " 28  Response             2240 non-null   int64  \n",
      "dtypes: float64(1), int64(25), object(3)\n",
      "memory usage: 507.6+ KB\n"
     ]
    }
   ],
   "source": [
    "df.info()"
   ]
  },
  {
   "cell_type": "code",
   "execution_count": 7,
   "id": "3f13ef72",
   "metadata": {
    "colab": {
     "base_uri": "https://localhost:8080/"
    },
    "executionInfo": {
     "elapsed": 49,
     "status": "ok",
     "timestamp": 1687512830522,
     "user": {
      "displayName": "Sony Somanagurthy",
      "userId": "04008675568867142584"
     },
     "user_tz": -330
    },
    "id": "3f13ef72",
    "outputId": "f49f2321-d1a6-4a1d-b9d0-9c14c51afa52"
   },
   "outputs": [
    {
     "data": {
      "text/plain": [
       "ID                      0\n",
       "Year_Birth              0\n",
       "Education               0\n",
       "Marital_Status          0\n",
       "Income                 24\n",
       "Kidhome                 0\n",
       "Teenhome                0\n",
       "Dt_Customer             0\n",
       "Recency                 0\n",
       "MntWines                0\n",
       "MntFruits               0\n",
       "MntMeatProducts         0\n",
       "MntFishProducts         0\n",
       "MntSweetProducts        0\n",
       "MntGoldProds            0\n",
       "NumDealsPurchases       0\n",
       "NumWebPurchases         0\n",
       "NumCatalogPurchases     0\n",
       "NumStorePurchases       0\n",
       "NumWebVisitsMonth       0\n",
       "AcceptedCmp3            0\n",
       "AcceptedCmp4            0\n",
       "AcceptedCmp5            0\n",
       "AcceptedCmp1            0\n",
       "AcceptedCmp2            0\n",
       "Complain                0\n",
       "Z_CostContact           0\n",
       "Z_Revenue               0\n",
       "Response                0\n",
       "dtype: int64"
      ]
     },
     "execution_count": 7,
     "metadata": {},
     "output_type": "execute_result"
    }
   ],
   "source": [
    "df.isnull().sum()"
   ]
  },
  {
   "cell_type": "code",
   "execution_count": 8,
   "id": "63a655a3",
   "metadata": {
    "colab": {
     "base_uri": "https://localhost:8080/"
    },
    "executionInfo": {
     "elapsed": 45,
     "status": "ok",
     "timestamp": 1687512830522,
     "user": {
      "displayName": "Sony Somanagurthy",
      "userId": "04008675568867142584"
     },
     "user_tz": -330
    },
    "id": "63a655a3",
    "outputId": "49080ed2-7673-480a-cfb0-3a11d09d8806"
   },
   "outputs": [
    {
     "data": {
      "text/plain": [
       "ID                     0.000000\n",
       "Year_Birth             0.000000\n",
       "Education              0.000000\n",
       "Marital_Status         0.000000\n",
       "Income                 1.083032\n",
       "Kidhome                0.000000\n",
       "Teenhome               0.000000\n",
       "Dt_Customer            0.000000\n",
       "Recency                0.000000\n",
       "MntWines               0.000000\n",
       "MntFruits              0.000000\n",
       "MntMeatProducts        0.000000\n",
       "MntFishProducts        0.000000\n",
       "MntSweetProducts       0.000000\n",
       "MntGoldProds           0.000000\n",
       "NumDealsPurchases      0.000000\n",
       "NumWebPurchases        0.000000\n",
       "NumCatalogPurchases    0.000000\n",
       "NumStorePurchases      0.000000\n",
       "NumWebVisitsMonth      0.000000\n",
       "AcceptedCmp3           0.000000\n",
       "AcceptedCmp4           0.000000\n",
       "AcceptedCmp5           0.000000\n",
       "AcceptedCmp1           0.000000\n",
       "AcceptedCmp2           0.000000\n",
       "Complain               0.000000\n",
       "Z_CostContact          0.000000\n",
       "Z_Revenue              0.000000\n",
       "Response               0.000000\n",
       "dtype: float64"
      ]
     },
     "execution_count": 8,
     "metadata": {},
     "output_type": "execute_result"
    }
   ],
   "source": [
    "(df.isnull().sum()/ df.count()) * 100"
   ]
  },
  {
   "cell_type": "code",
   "execution_count": 9,
   "id": "abdc3639",
   "metadata": {
    "executionInfo": {
     "elapsed": 42,
     "status": "ok",
     "timestamp": 1687512830522,
     "user": {
      "displayName": "Sony Somanagurthy",
      "userId": "04008675568867142584"
     },
     "user_tz": -330
    },
    "id": "abdc3639"
   },
   "outputs": [],
   "source": [
    "df.dropna(inplace = True)"
   ]
  },
  {
   "cell_type": "code",
   "execution_count": 10,
   "id": "5aeecb95",
   "metadata": {
    "colab": {
     "base_uri": "https://localhost:8080/"
    },
    "executionInfo": {
     "elapsed": 42,
     "status": "ok",
     "timestamp": 1687512830523,
     "user": {
      "displayName": "Sony Somanagurthy",
      "userId": "04008675568867142584"
     },
     "user_tz": -330
    },
    "id": "5aeecb95",
    "outputId": "3b314854-a2e2-46fe-b3da-3db66974a80a"
   },
   "outputs": [
    {
     "data": {
      "text/plain": [
       "ID                     0.0\n",
       "Year_Birth             0.0\n",
       "Education              0.0\n",
       "Marital_Status         0.0\n",
       "Income                 0.0\n",
       "Kidhome                0.0\n",
       "Teenhome               0.0\n",
       "Dt_Customer            0.0\n",
       "Recency                0.0\n",
       "MntWines               0.0\n",
       "MntFruits              0.0\n",
       "MntMeatProducts        0.0\n",
       "MntFishProducts        0.0\n",
       "MntSweetProducts       0.0\n",
       "MntGoldProds           0.0\n",
       "NumDealsPurchases      0.0\n",
       "NumWebPurchases        0.0\n",
       "NumCatalogPurchases    0.0\n",
       "NumStorePurchases      0.0\n",
       "NumWebVisitsMonth      0.0\n",
       "AcceptedCmp3           0.0\n",
       "AcceptedCmp4           0.0\n",
       "AcceptedCmp5           0.0\n",
       "AcceptedCmp1           0.0\n",
       "AcceptedCmp2           0.0\n",
       "Complain               0.0\n",
       "Z_CostContact          0.0\n",
       "Z_Revenue              0.0\n",
       "Response               0.0\n",
       "dtype: float64"
      ]
     },
     "execution_count": 10,
     "metadata": {},
     "output_type": "execute_result"
    }
   ],
   "source": [
    "(df.isnull().sum()/ df.count()) * 100"
   ]
  },
  {
   "cell_type": "code",
   "execution_count": 11,
   "id": "e7b9ef02",
   "metadata": {
    "executionInfo": {
     "elapsed": 39,
     "status": "ok",
     "timestamp": 1687512830523,
     "user": {
      "displayName": "Sony Somanagurthy",
      "userId": "04008675568867142584"
     },
     "user_tz": -330
    },
    "id": "e7b9ef02"
   },
   "outputs": [],
   "source": [
    "# creating columns\n",
    "# Age\n",
    "df['Age'] = 2023 - df['Year_Birth']"
   ]
  },
  {
   "cell_type": "code",
   "execution_count": 12,
   "id": "cad7b4f3",
   "metadata": {
    "colab": {
     "base_uri": "https://localhost:8080/",
     "height": 270
    },
    "executionInfo": {
     "elapsed": 40,
     "status": "ok",
     "timestamp": 1687512830524,
     "user": {
      "displayName": "Sony Somanagurthy",
      "userId": "04008675568867142584"
     },
     "user_tz": -330
    },
    "id": "cad7b4f3",
    "outputId": "d9b7d95b-1fad-4142-c5db-37bf3f5a9523"
   },
   "outputs": [
    {
     "data": {
      "text/html": [
       "<div>\n",
       "<style scoped>\n",
       "    .dataframe tbody tr th:only-of-type {\n",
       "        vertical-align: middle;\n",
       "    }\n",
       "\n",
       "    .dataframe tbody tr th {\n",
       "        vertical-align: top;\n",
       "    }\n",
       "\n",
       "    .dataframe thead th {\n",
       "        text-align: right;\n",
       "    }\n",
       "</style>\n",
       "<table border=\"1\" class=\"dataframe\">\n",
       "  <thead>\n",
       "    <tr style=\"text-align: right;\">\n",
       "      <th></th>\n",
       "      <th>ID</th>\n",
       "      <th>Year_Birth</th>\n",
       "      <th>Education</th>\n",
       "      <th>Marital_Status</th>\n",
       "      <th>Income</th>\n",
       "      <th>Kidhome</th>\n",
       "      <th>Teenhome</th>\n",
       "      <th>Dt_Customer</th>\n",
       "      <th>Recency</th>\n",
       "      <th>MntWines</th>\n",
       "      <th>MntFruits</th>\n",
       "      <th>MntMeatProducts</th>\n",
       "      <th>MntFishProducts</th>\n",
       "      <th>MntSweetProducts</th>\n",
       "      <th>MntGoldProds</th>\n",
       "      <th>NumDealsPurchases</th>\n",
       "      <th>NumWebPurchases</th>\n",
       "      <th>NumCatalogPurchases</th>\n",
       "      <th>NumStorePurchases</th>\n",
       "      <th>NumWebVisitsMonth</th>\n",
       "      <th>AcceptedCmp3</th>\n",
       "      <th>AcceptedCmp4</th>\n",
       "      <th>AcceptedCmp5</th>\n",
       "      <th>AcceptedCmp1</th>\n",
       "      <th>AcceptedCmp2</th>\n",
       "      <th>Complain</th>\n",
       "      <th>Z_CostContact</th>\n",
       "      <th>Z_Revenue</th>\n",
       "      <th>Response</th>\n",
       "      <th>Age</th>\n",
       "    </tr>\n",
       "  </thead>\n",
       "  <tbody>\n",
       "    <tr>\n",
       "      <th>0</th>\n",
       "      <td>5524</td>\n",
       "      <td>1957</td>\n",
       "      <td>Graduation</td>\n",
       "      <td>Single</td>\n",
       "      <td>58138.0</td>\n",
       "      <td>0</td>\n",
       "      <td>0</td>\n",
       "      <td>04-09-2012</td>\n",
       "      <td>58</td>\n",
       "      <td>635</td>\n",
       "      <td>88</td>\n",
       "      <td>546</td>\n",
       "      <td>172</td>\n",
       "      <td>88</td>\n",
       "      <td>88</td>\n",
       "      <td>3</td>\n",
       "      <td>8</td>\n",
       "      <td>10</td>\n",
       "      <td>4</td>\n",
       "      <td>7</td>\n",
       "      <td>0</td>\n",
       "      <td>0</td>\n",
       "      <td>0</td>\n",
       "      <td>0</td>\n",
       "      <td>0</td>\n",
       "      <td>0</td>\n",
       "      <td>3</td>\n",
       "      <td>11</td>\n",
       "      <td>1</td>\n",
       "      <td>66</td>\n",
       "    </tr>\n",
       "    <tr>\n",
       "      <th>1</th>\n",
       "      <td>2174</td>\n",
       "      <td>1954</td>\n",
       "      <td>Graduation</td>\n",
       "      <td>Single</td>\n",
       "      <td>46344.0</td>\n",
       "      <td>1</td>\n",
       "      <td>1</td>\n",
       "      <td>08-03-2014</td>\n",
       "      <td>38</td>\n",
       "      <td>11</td>\n",
       "      <td>1</td>\n",
       "      <td>6</td>\n",
       "      <td>2</td>\n",
       "      <td>1</td>\n",
       "      <td>6</td>\n",
       "      <td>2</td>\n",
       "      <td>1</td>\n",
       "      <td>1</td>\n",
       "      <td>2</td>\n",
       "      <td>5</td>\n",
       "      <td>0</td>\n",
       "      <td>0</td>\n",
       "      <td>0</td>\n",
       "      <td>0</td>\n",
       "      <td>0</td>\n",
       "      <td>0</td>\n",
       "      <td>3</td>\n",
       "      <td>11</td>\n",
       "      <td>0</td>\n",
       "      <td>69</td>\n",
       "    </tr>\n",
       "    <tr>\n",
       "      <th>2</th>\n",
       "      <td>4141</td>\n",
       "      <td>1965</td>\n",
       "      <td>Graduation</td>\n",
       "      <td>Together</td>\n",
       "      <td>71613.0</td>\n",
       "      <td>0</td>\n",
       "      <td>0</td>\n",
       "      <td>21-08-2013</td>\n",
       "      <td>26</td>\n",
       "      <td>426</td>\n",
       "      <td>49</td>\n",
       "      <td>127</td>\n",
       "      <td>111</td>\n",
       "      <td>21</td>\n",
       "      <td>42</td>\n",
       "      <td>1</td>\n",
       "      <td>8</td>\n",
       "      <td>2</td>\n",
       "      <td>10</td>\n",
       "      <td>4</td>\n",
       "      <td>0</td>\n",
       "      <td>0</td>\n",
       "      <td>0</td>\n",
       "      <td>0</td>\n",
       "      <td>0</td>\n",
       "      <td>0</td>\n",
       "      <td>3</td>\n",
       "      <td>11</td>\n",
       "      <td>0</td>\n",
       "      <td>58</td>\n",
       "    </tr>\n",
       "    <tr>\n",
       "      <th>3</th>\n",
       "      <td>6182</td>\n",
       "      <td>1984</td>\n",
       "      <td>Graduation</td>\n",
       "      <td>Together</td>\n",
       "      <td>26646.0</td>\n",
       "      <td>1</td>\n",
       "      <td>0</td>\n",
       "      <td>10-02-2014</td>\n",
       "      <td>26</td>\n",
       "      <td>11</td>\n",
       "      <td>4</td>\n",
       "      <td>20</td>\n",
       "      <td>10</td>\n",
       "      <td>3</td>\n",
       "      <td>5</td>\n",
       "      <td>2</td>\n",
       "      <td>2</td>\n",
       "      <td>0</td>\n",
       "      <td>4</td>\n",
       "      <td>6</td>\n",
       "      <td>0</td>\n",
       "      <td>0</td>\n",
       "      <td>0</td>\n",
       "      <td>0</td>\n",
       "      <td>0</td>\n",
       "      <td>0</td>\n",
       "      <td>3</td>\n",
       "      <td>11</td>\n",
       "      <td>0</td>\n",
       "      <td>39</td>\n",
       "    </tr>\n",
       "    <tr>\n",
       "      <th>4</th>\n",
       "      <td>5324</td>\n",
       "      <td>1981</td>\n",
       "      <td>PhD</td>\n",
       "      <td>Married</td>\n",
       "      <td>58293.0</td>\n",
       "      <td>1</td>\n",
       "      <td>0</td>\n",
       "      <td>19-01-2014</td>\n",
       "      <td>94</td>\n",
       "      <td>173</td>\n",
       "      <td>43</td>\n",
       "      <td>118</td>\n",
       "      <td>46</td>\n",
       "      <td>27</td>\n",
       "      <td>15</td>\n",
       "      <td>5</td>\n",
       "      <td>5</td>\n",
       "      <td>3</td>\n",
       "      <td>6</td>\n",
       "      <td>5</td>\n",
       "      <td>0</td>\n",
       "      <td>0</td>\n",
       "      <td>0</td>\n",
       "      <td>0</td>\n",
       "      <td>0</td>\n",
       "      <td>0</td>\n",
       "      <td>3</td>\n",
       "      <td>11</td>\n",
       "      <td>0</td>\n",
       "      <td>42</td>\n",
       "    </tr>\n",
       "  </tbody>\n",
       "</table>\n",
       "</div>"
      ],
      "text/plain": [
       "     ID  Year_Birth   Education Marital_Status   Income  Kidhome  Teenhome  \\\n",
       "0  5524        1957  Graduation         Single  58138.0        0         0   \n",
       "1  2174        1954  Graduation         Single  46344.0        1         1   \n",
       "2  4141        1965  Graduation       Together  71613.0        0         0   \n",
       "3  6182        1984  Graduation       Together  26646.0        1         0   \n",
       "4  5324        1981         PhD        Married  58293.0        1         0   \n",
       "\n",
       "  Dt_Customer  Recency  MntWines  MntFruits  MntMeatProducts  MntFishProducts  \\\n",
       "0  04-09-2012       58       635         88              546              172   \n",
       "1  08-03-2014       38        11          1                6                2   \n",
       "2  21-08-2013       26       426         49              127              111   \n",
       "3  10-02-2014       26        11          4               20               10   \n",
       "4  19-01-2014       94       173         43              118               46   \n",
       "\n",
       "   MntSweetProducts  MntGoldProds  NumDealsPurchases  NumWebPurchases  \\\n",
       "0                88            88                  3                8   \n",
       "1                 1             6                  2                1   \n",
       "2                21            42                  1                8   \n",
       "3                 3             5                  2                2   \n",
       "4                27            15                  5                5   \n",
       "\n",
       "   NumCatalogPurchases  NumStorePurchases  NumWebVisitsMonth  AcceptedCmp3  \\\n",
       "0                   10                  4                  7             0   \n",
       "1                    1                  2                  5             0   \n",
       "2                    2                 10                  4             0   \n",
       "3                    0                  4                  6             0   \n",
       "4                    3                  6                  5             0   \n",
       "\n",
       "   AcceptedCmp4  AcceptedCmp5  AcceptedCmp1  AcceptedCmp2  Complain  \\\n",
       "0             0             0             0             0         0   \n",
       "1             0             0             0             0         0   \n",
       "2             0             0             0             0         0   \n",
       "3             0             0             0             0         0   \n",
       "4             0             0             0             0         0   \n",
       "\n",
       "   Z_CostContact  Z_Revenue  Response  Age  \n",
       "0              3         11         1   66  \n",
       "1              3         11         0   69  \n",
       "2              3         11         0   58  \n",
       "3              3         11         0   39  \n",
       "4              3         11         0   42  "
      ]
     },
     "execution_count": 12,
     "metadata": {},
     "output_type": "execute_result"
    }
   ],
   "source": [
    "df.head()"
   ]
  },
  {
   "cell_type": "code",
   "execution_count": 13,
   "id": "42e68f79",
   "metadata": {
    "colab": {
     "base_uri": "https://localhost:8080/",
     "height": 447
    },
    "executionInfo": {
     "elapsed": 39,
     "status": "ok",
     "timestamp": 1687512830524,
     "user": {
      "displayName": "Sony Somanagurthy",
      "userId": "04008675568867142584"
     },
     "user_tz": -330
    },
    "id": "42e68f79",
    "outputId": "dc06a71e-a9e6-4602-e83a-b35c32f2f257"
   },
   "outputs": [
    {
     "name": "stderr",
     "output_type": "stream",
     "text": [
      "C:\\ProgramData\\Anaconda3\\lib\\site-packages\\seaborn\\_decorators.py:36: FutureWarning: Pass the following variable as a keyword arg: x. From version 0.12, the only valid positional argument will be `data`, and passing other arguments without an explicit keyword will result in an error or misinterpretation.\n",
      "  warnings.warn(\n"
     ]
    },
    {
     "data": {
      "text/plain": [
       "<AxesSubplot:xlabel='Age'>"
      ]
     },
     "execution_count": 13,
     "metadata": {},
     "output_type": "execute_result"
    },
    {
     "data": {
      "image/png": "[encoded data removed]",
      "text/plain": [
       "<Figure size 432x288 with 1 Axes>"
      ]
     },
     "metadata": {
      "needs_background": "light"
     },
     "output_type": "display_data"
    }
   ],
   "source": [
    "sns.boxplot(df['Age'])"
   ]
  },
  {
   "cell_type": "code",
   "execution_count": 14,
   "id": "992c4efe",
   "metadata": {
    "executionInfo": {
     "elapsed": 34,
     "status": "ok",
     "timestamp": 1687512830524,
     "user": {
      "displayName": "Sony Somanagurthy",
      "userId": "04008675568867142584"
     },
     "user_tz": -330
    },
    "id": "992c4efe"
   },
   "outputs": [],
   "source": [
    "#Age Group\n"
   ]
  },
  {
   "cell_type": "code",
   "execution_count": 15,
   "id": "c72029be",
   "metadata": {
    "executionInfo": {
     "elapsed": 35,
     "status": "ok",
     "timestamp": 1687512830525,
     "user": {
      "displayName": "Sony Somanagurthy",
      "userId": "04008675568867142584"
     },
     "user_tz": -330
    },
    "id": "c72029be"
   },
   "outputs": [],
   "source": [
    "df.loc[df['Age'] <= 19, 'AgeGroup'] = \"Teens\"\n",
    "df.loc[(df['Age'] >= 20) & (df['Age'] <= 59), 'AgeGroup'] = \"Adults\"\n",
    "df.loc[df['Age'] >= 60, 'AgeGroup'] = \"Seniors\"\n"
   ]
  },
  {
   "cell_type": "code",
   "execution_count": 16,
   "id": "b7cf501b",
   "metadata": {
    "colab": {
     "base_uri": "https://localhost:8080/",
     "height": 270
    },
    "executionInfo": {
     "elapsed": 35,
     "status": "ok",
     "timestamp": 1687512830525,
     "user": {
      "displayName": "Sony Somanagurthy",
      "userId": "04008675568867142584"
     },
     "user_tz": -330
    },
    "id": "b7cf501b",
    "outputId": "ec59b5e5-b235-4d48-9cb7-a84ee086ae19"
   },
   "outputs": [
    {
     "data": {
      "text/html": [
       "<div>\n",
       "<style scoped>\n",
       "    .dataframe tbody tr th:only-of-type {\n",
       "        vertical-align: middle;\n",
       "    }\n",
       "\n",
       "    .dataframe tbody tr th {\n",
       "        vertical-align: top;\n",
       "    }\n",
       "\n",
       "    .dataframe thead th {\n",
       "        text-align: right;\n",
       "    }\n",
       "</style>\n",
       "<table border=\"1\" class=\"dataframe\">\n",
       "  <thead>\n",
       "    <tr style=\"text-align: right;\">\n",
       "      <th></th>\n",
       "      <th>ID</th>\n",
       "      <th>Year_Birth</th>\n",
       "      <th>Education</th>\n",
       "      <th>Marital_Status</th>\n",
       "      <th>Income</th>\n",
       "      <th>Kidhome</th>\n",
       "      <th>Teenhome</th>\n",
       "      <th>Dt_Customer</th>\n",
       "      <th>Recency</th>\n",
       "      <th>MntWines</th>\n",
       "      <th>MntFruits</th>\n",
       "      <th>MntMeatProducts</th>\n",
       "      <th>MntFishProducts</th>\n",
       "      <th>MntSweetProducts</th>\n",
       "      <th>MntGoldProds</th>\n",
       "      <th>NumDealsPurchases</th>\n",
       "      <th>NumWebPurchases</th>\n",
       "      <th>NumCatalogPurchases</th>\n",
       "      <th>NumStorePurchases</th>\n",
       "      <th>NumWebVisitsMonth</th>\n",
       "      <th>AcceptedCmp3</th>\n",
       "      <th>AcceptedCmp4</th>\n",
       "      <th>AcceptedCmp5</th>\n",
       "      <th>AcceptedCmp1</th>\n",
       "      <th>AcceptedCmp2</th>\n",
       "      <th>Complain</th>\n",
       "      <th>Z_CostContact</th>\n",
       "      <th>Z_Revenue</th>\n",
       "      <th>Response</th>\n",
       "      <th>Age</th>\n",
       "      <th>AgeGroup</th>\n",
       "    </tr>\n",
       "  </thead>\n",
       "  <tbody>\n",
       "    <tr>\n",
       "      <th>0</th>\n",
       "      <td>5524</td>\n",
       "      <td>1957</td>\n",
       "      <td>Graduation</td>\n",
       "      <td>Single</td>\n",
       "      <td>58138.0</td>\n",
       "      <td>0</td>\n",
       "      <td>0</td>\n",
       "      <td>04-09-2012</td>\n",
       "      <td>58</td>\n",
       "      <td>635</td>\n",
       "      <td>88</td>\n",
       "      <td>546</td>\n",
       "      <td>172</td>\n",
       "      <td>88</td>\n",
       "      <td>88</td>\n",
       "      <td>3</td>\n",
       "      <td>8</td>\n",
       "      <td>10</td>\n",
       "      <td>4</td>\n",
       "      <td>7</td>\n",
       "      <td>0</td>\n",
       "      <td>0</td>\n",
       "      <td>0</td>\n",
       "      <td>0</td>\n",
       "      <td>0</td>\n",
       "      <td>0</td>\n",
       "      <td>3</td>\n",
       "      <td>11</td>\n",
       "      <td>1</td>\n",
       "      <td>66</td>\n",
       "      <td>Seniors</td>\n",
       "    </tr>\n",
       "    <tr>\n",
       "      <th>1</th>\n",
       "      <td>2174</td>\n",
       "      <td>1954</td>\n",
       "      <td>Graduation</td>\n",
       "      <td>Single</td>\n",
       "      <td>46344.0</td>\n",
       "      <td>1</td>\n",
       "      <td>1</td>\n",
       "      <td>08-03-2014</td>\n",
       "      <td>38</td>\n",
       "      <td>11</td>\n",
       "      <td>1</td>\n",
       "      <td>6</td>\n",
       "      <td>2</td>\n",
       "      <td>1</td>\n",
       "      <td>6</td>\n",
       "      <td>2</td>\n",
       "      <td>1</td>\n",
       "      <td>1</td>\n",
       "      <td>2</td>\n",
       "      <td>5</td>\n",
       "      <td>0</td>\n",
       "      <td>0</td>\n",
       "      <td>0</td>\n",
       "      <td>0</td>\n",
       "      <td>0</td>\n",
       "      <td>0</td>\n",
       "      <td>3</td>\n",
       "      <td>11</td>\n",
       "      <td>0</td>\n",
       "      <td>69</td>\n",
       "      <td>Seniors</td>\n",
       "    </tr>\n",
       "    <tr>\n",
       "      <th>2</th>\n",
       "      <td>4141</td>\n",
       "      <td>1965</td>\n",
       "      <td>Graduation</td>\n",
       "      <td>Together</td>\n",
       "      <td>71613.0</td>\n",
       "      <td>0</td>\n",
       "      <td>0</td>\n",
       "      <td>21-08-2013</td>\n",
       "      <td>26</td>\n",
       "      <td>426</td>\n",
       "      <td>49</td>\n",
       "      <td>127</td>\n",
       "      <td>111</td>\n",
       "      <td>21</td>\n",
       "      <td>42</td>\n",
       "      <td>1</td>\n",
       "      <td>8</td>\n",
       "      <td>2</td>\n",
       "      <td>10</td>\n",
       "      <td>4</td>\n",
       "      <td>0</td>\n",
       "      <td>0</td>\n",
       "      <td>0</td>\n",
       "      <td>0</td>\n",
       "      <td>0</td>\n",
       "      <td>0</td>\n",
       "      <td>3</td>\n",
       "      <td>11</td>\n",
       "      <td>0</td>\n",
       "      <td>58</td>\n",
       "      <td>Adults</td>\n",
       "    </tr>\n",
       "    <tr>\n",
       "      <th>3</th>\n",
       "      <td>6182</td>\n",
       "      <td>1984</td>\n",
       "      <td>Graduation</td>\n",
       "      <td>Together</td>\n",
       "      <td>26646.0</td>\n",
       "      <td>1</td>\n",
       "      <td>0</td>\n",
       "      <td>10-02-2014</td>\n",
       "      <td>26</td>\n",
       "      <td>11</td>\n",
       "      <td>4</td>\n",
       "      <td>20</td>\n",
       "      <td>10</td>\n",
       "      <td>3</td>\n",
       "      <td>5</td>\n",
       "      <td>2</td>\n",
       "      <td>2</td>\n",
       "      <td>0</td>\n",
       "      <td>4</td>\n",
       "      <td>6</td>\n",
       "      <td>0</td>\n",
       "      <td>0</td>\n",
       "      <td>0</td>\n",
       "      <td>0</td>\n",
       "      <td>0</td>\n",
       "      <td>0</td>\n",
       "      <td>3</td>\n",
       "      <td>11</td>\n",
       "      <td>0</td>\n",
       "      <td>39</td>\n",
       "      <td>Adults</td>\n",
       "    </tr>\n",
       "    <tr>\n",
       "      <th>4</th>\n",
       "      <td>5324</td>\n",
       "      <td>1981</td>\n",
       "      <td>PhD</td>\n",
       "      <td>Married</td>\n",
       "      <td>58293.0</td>\n",
       "      <td>1</td>\n",
       "      <td>0</td>\n",
       "      <td>19-01-2014</td>\n",
       "      <td>94</td>\n",
       "      <td>173</td>\n",
       "      <td>43</td>\n",
       "      <td>118</td>\n",
       "      <td>46</td>\n",
       "      <td>27</td>\n",
       "      <td>15</td>\n",
       "      <td>5</td>\n",
       "      <td>5</td>\n",
       "      <td>3</td>\n",
       "      <td>6</td>\n",
       "      <td>5</td>\n",
       "      <td>0</td>\n",
       "      <td>0</td>\n",
       "      <td>0</td>\n",
       "      <td>0</td>\n",
       "      <td>0</td>\n",
       "      <td>0</td>\n",
       "      <td>3</td>\n",
       "      <td>11</td>\n",
       "      <td>0</td>\n",
       "      <td>42</td>\n",
       "      <td>Adults</td>\n",
       "    </tr>\n",
       "  </tbody>\n",
       "</table>\n",
       "</div>"
      ],
      "text/plain": [
       "     ID  Year_Birth   Education Marital_Status   Income  Kidhome  Teenhome  \\\n",
       "0  5524        1957  Graduation         Single  58138.0        0         0   \n",
       "1  2174        1954  Graduation         Single  46344.0        1         1   \n",
       "2  4141        1965  Graduation       Together  71613.0        0         0   \n",
       "3  6182        1984  Graduation       Together  26646.0        1         0   \n",
       "4  5324        1981         PhD        Married  58293.0        1         0   \n",
       "\n",
       "  Dt_Customer  Recency  MntWines  MntFruits  MntMeatProducts  MntFishProducts  \\\n",
       "0  04-09-2012       58       635         88              546              172   \n",
       "1  08-03-2014       38        11          1                6                2   \n",
       "2  21-08-2013       26       426         49              127              111   \n",
       "3  10-02-2014       26        11          4               20               10   \n",
       "4  19-01-2014       94       173         43              118               46   \n",
       "\n",
       "   MntSweetProducts  MntGoldProds  NumDealsPurchases  NumWebPurchases  \\\n",
       "0                88            88                  3                8   \n",
       "1                 1             6                  2                1   \n",
       "2                21            42                  1                8   \n",
       "3                 3             5                  2                2   \n",
       "4                27            15                  5                5   \n",
       "\n",
       "   NumCatalogPurchases  NumStorePurchases  NumWebVisitsMonth  AcceptedCmp3  \\\n",
       "0                   10                  4                  7             0   \n",
       "1                    1                  2                  5             0   \n",
       "2                    2                 10                  4             0   \n",
       "3                    0                  4                  6             0   \n",
       "4                    3                  6                  5             0   \n",
       "\n",
       "   AcceptedCmp4  AcceptedCmp5  AcceptedCmp1  AcceptedCmp2  Complain  \\\n",
       "0             0             0             0             0         0   \n",
       "1             0             0             0             0         0   \n",
       "2             0             0             0             0         0   \n",
       "3             0             0             0             0         0   \n",
       "4             0             0             0             0         0   \n",
       "\n",
       "   Z_CostContact  Z_Revenue  Response  Age AgeGroup  \n",
       "0              3         11         1   66  Seniors  \n",
       "1              3         11         0   69  Seniors  \n",
       "2              3         11         0   58   Adults  \n",
       "3              3         11         0   39   Adults  \n",
       "4              3         11         0   42   Adults  "
      ]
     },
     "execution_count": 16,
     "metadata": {},
     "output_type": "execute_result"
    }
   ],
   "source": [
    "df.head()"
   ]
  },
  {
   "cell_type": "code",
   "execution_count": 17,
   "id": "6ff4e0c7",
   "metadata": {
    "executionInfo": {
     "elapsed": 34,
     "status": "ok",
     "timestamp": 1687512830525,
     "user": {
      "displayName": "Sony Somanagurthy",
      "userId": "04008675568867142584"
     },
     "user_tz": -330
    },
    "id": "6ff4e0c7"
   },
   "outputs": [],
   "source": [
    "df['TotalSpendings'] = df['MntFruits']+df['MntWines']+df['MntMeatProducts']+df['MntFishProducts']+df['MntSweetProducts']+df['MntGoldProds']"
   ]
  },
  {
   "cell_type": "code",
   "execution_count": 18,
   "id": "c4968675",
   "metadata": {
    "executionInfo": {
     "elapsed": 35,
     "status": "ok",
     "timestamp": 1687512830526,
     "user": {
      "displayName": "Sony Somanagurthy",
      "userId": "04008675568867142584"
     },
     "user_tz": -330
    },
    "id": "c4968675"
   },
   "outputs": [],
   "source": [
    "df['Children'] = df['Kidhome'] + df['Teenhome']"
   ]
  },
  {
   "cell_type": "code",
   "execution_count": 19,
   "id": "GtFI9VUa29TP",
   "metadata": {
    "executionInfo": {
     "elapsed": 34,
     "status": "ok",
     "timestamp": 1687512830526,
     "user": {
      "displayName": "Sony Somanagurthy",
      "userId": "04008675568867142584"
     },
     "user_tz": -330
    },
    "id": "GtFI9VUa29TP"
   },
   "outputs": [],
   "source": [
    "df['PlaceSpendings'] = df['NumCatalogPurchases'] + df['NumDealsPurchases'] + df['NumStorePurchases'] + df['NumWebPurchases']\n"
   ]
  },
  {
   "cell_type": "code",
   "execution_count": 20,
   "id": "U95afkvm58HP",
   "metadata": {
    "executionInfo": {
     "elapsed": 34,
     "status": "ok",
     "timestamp": 1687512830526,
     "user": {
      "displayName": "Sony Somanagurthy",
      "userId": "04008675568867142584"
     },
     "user_tz": -330
    },
    "id": "U95afkvm58HP"
   },
   "outputs": [],
   "source": [
    "df['Accepting_Cmps'] = df['AcceptedCmp1'] + df['AcceptedCmp2'] + df['AcceptedCmp3'] + df['AcceptedCmp4'] + df['AcceptedCmp5']"
   ]
  },
  {
   "cell_type": "code",
   "execution_count": 21,
   "id": "kR2XUbxz6Yzs",
   "metadata": {
    "colab": {
     "base_uri": "https://localhost:8080/",
     "height": 270
    },
    "executionInfo": {
     "elapsed": 34,
     "status": "ok",
     "timestamp": 1687512830527,
     "user": {
      "displayName": "Sony Somanagurthy",
      "userId": "04008675568867142584"
     },
     "user_tz": -330
    },
    "id": "kR2XUbxz6Yzs",
    "outputId": "17a8953c-fb43-4a2b-9294-82eb03b89e0f"
   },
   "outputs": [
    {
     "data": {
      "text/html": [
       "<div>\n",
       "<style scoped>\n",
       "    .dataframe tbody tr th:only-of-type {\n",
       "        vertical-align: middle;\n",
       "    }\n",
       "\n",
       "    .dataframe tbody tr th {\n",
       "        vertical-align: top;\n",
       "    }\n",
       "\n",
       "    .dataframe thead th {\n",
       "        text-align: right;\n",
       "    }\n",
       "</style>\n",
       "<table border=\"1\" class=\"dataframe\">\n",
       "  <thead>\n",
       "    <tr style=\"text-align: right;\">\n",
       "      <th></th>\n",
       "      <th>ID</th>\n",
       "      <th>Year_Birth</th>\n",
       "      <th>Education</th>\n",
       "      <th>Marital_Status</th>\n",
       "      <th>Income</th>\n",
       "      <th>Kidhome</th>\n",
       "      <th>Teenhome</th>\n",
       "      <th>Dt_Customer</th>\n",
       "      <th>Recency</th>\n",
       "      <th>MntWines</th>\n",
       "      <th>MntFruits</th>\n",
       "      <th>MntMeatProducts</th>\n",
       "      <th>MntFishProducts</th>\n",
       "      <th>MntSweetProducts</th>\n",
       "      <th>MntGoldProds</th>\n",
       "      <th>NumDealsPurchases</th>\n",
       "      <th>NumWebPurchases</th>\n",
       "      <th>NumCatalogPurchases</th>\n",
       "      <th>NumStorePurchases</th>\n",
       "      <th>NumWebVisitsMonth</th>\n",
       "      <th>AcceptedCmp3</th>\n",
       "      <th>AcceptedCmp4</th>\n",
       "      <th>AcceptedCmp5</th>\n",
       "      <th>AcceptedCmp1</th>\n",
       "      <th>AcceptedCmp2</th>\n",
       "      <th>Complain</th>\n",
       "      <th>Z_CostContact</th>\n",
       "      <th>Z_Revenue</th>\n",
       "      <th>Response</th>\n",
       "      <th>Age</th>\n",
       "      <th>AgeGroup</th>\n",
       "      <th>TotalSpendings</th>\n",
       "      <th>Children</th>\n",
       "      <th>PlaceSpendings</th>\n",
       "      <th>Accepting_Cmps</th>\n",
       "    </tr>\n",
       "  </thead>\n",
       "  <tbody>\n",
       "    <tr>\n",
       "      <th>0</th>\n",
       "      <td>5524</td>\n",
       "      <td>1957</td>\n",
       "      <td>Graduation</td>\n",
       "      <td>Single</td>\n",
       "      <td>58138.0</td>\n",
       "      <td>0</td>\n",
       "      <td>0</td>\n",
       "      <td>04-09-2012</td>\n",
       "      <td>58</td>\n",
       "      <td>635</td>\n",
       "      <td>88</td>\n",
       "      <td>546</td>\n",
       "      <td>172</td>\n",
       "      <td>88</td>\n",
       "      <td>88</td>\n",
       "      <td>3</td>\n",
       "      <td>8</td>\n",
       "      <td>10</td>\n",
       "      <td>4</td>\n",
       "      <td>7</td>\n",
       "      <td>0</td>\n",
       "      <td>0</td>\n",
       "      <td>0</td>\n",
       "      <td>0</td>\n",
       "      <td>0</td>\n",
       "      <td>0</td>\n",
       "      <td>3</td>\n",
       "      <td>11</td>\n",
       "      <td>1</td>\n",
       "      <td>66</td>\n",
       "      <td>Seniors</td>\n",
       "      <td>1617</td>\n",
       "      <td>0</td>\n",
       "      <td>25</td>\n",
       "      <td>0</td>\n",
       "    </tr>\n",
       "    <tr>\n",
       "      <th>1</th>\n",
       "      <td>2174</td>\n",
       "      <td>1954</td>\n",
       "      <td>Graduation</td>\n",
       "      <td>Single</td>\n",
       "      <td>46344.0</td>\n",
       "      <td>1</td>\n",
       "      <td>1</td>\n",
       "      <td>08-03-2014</td>\n",
       "      <td>38</td>\n",
       "      <td>11</td>\n",
       "      <td>1</td>\n",
       "      <td>6</td>\n",
       "      <td>2</td>\n",
       "      <td>1</td>\n",
       "      <td>6</td>\n",
       "      <td>2</td>\n",
       "      <td>1</td>\n",
       "      <td>1</td>\n",
       "      <td>2</td>\n",
       "      <td>5</td>\n",
       "      <td>0</td>\n",
       "      <td>0</td>\n",
       "      <td>0</td>\n",
       "      <td>0</td>\n",
       "      <td>0</td>\n",
       "      <td>0</td>\n",
       "      <td>3</td>\n",
       "      <td>11</td>\n",
       "      <td>0</td>\n",
       "      <td>69</td>\n",
       "      <td>Seniors</td>\n",
       "      <td>27</td>\n",
       "      <td>2</td>\n",
       "      <td>6</td>\n",
       "      <td>0</td>\n",
       "    </tr>\n",
       "    <tr>\n",
       "      <th>2</th>\n",
       "      <td>4141</td>\n",
       "      <td>1965</td>\n",
       "      <td>Graduation</td>\n",
       "      <td>Together</td>\n",
       "      <td>71613.0</td>\n",
       "      <td>0</td>\n",
       "      <td>0</td>\n",
       "      <td>21-08-2013</td>\n",
       "      <td>26</td>\n",
       "      <td>426</td>\n",
       "      <td>49</td>\n",
       "      <td>127</td>\n",
       "      <td>111</td>\n",
       "      <td>21</td>\n",
       "      <td>42</td>\n",
       "      <td>1</td>\n",
       "      <td>8</td>\n",
       "      <td>2</td>\n",
       "      <td>10</td>\n",
       "      <td>4</td>\n",
       "      <td>0</td>\n",
       "      <td>0</td>\n",
       "      <td>0</td>\n",
       "      <td>0</td>\n",
       "      <td>0</td>\n",
       "      <td>0</td>\n",
       "      <td>3</td>\n",
       "      <td>11</td>\n",
       "      <td>0</td>\n",
       "      <td>58</td>\n",
       "      <td>Adults</td>\n",
       "      <td>776</td>\n",
       "      <td>0</td>\n",
       "      <td>21</td>\n",
       "      <td>0</td>\n",
       "    </tr>\n",
       "    <tr>\n",
       "      <th>3</th>\n",
       "      <td>6182</td>\n",
       "      <td>1984</td>\n",
       "      <td>Graduation</td>\n",
       "      <td>Together</td>\n",
       "      <td>26646.0</td>\n",
       "      <td>1</td>\n",
       "      <td>0</td>\n",
       "      <td>10-02-2014</td>\n",
       "      <td>26</td>\n",
       "      <td>11</td>\n",
       "      <td>4</td>\n",
       "      <td>20</td>\n",
       "      <td>10</td>\n",
       "      <td>3</td>\n",
       "      <td>5</td>\n",
       "      <td>2</td>\n",
       "      <td>2</td>\n",
       "      <td>0</td>\n",
       "      <td>4</td>\n",
       "      <td>6</td>\n",
       "      <td>0</td>\n",
       "      <td>0</td>\n",
       "      <td>0</td>\n",
       "      <td>0</td>\n",
       "      <td>0</td>\n",
       "      <td>0</td>\n",
       "      <td>3</td>\n",
       "      <td>11</td>\n",
       "      <td>0</td>\n",
       "      <td>39</td>\n",
       "      <td>Adults</td>\n",
       "      <td>53</td>\n",
       "      <td>1</td>\n",
       "      <td>8</td>\n",
       "      <td>0</td>\n",
       "    </tr>\n",
       "    <tr>\n",
       "      <th>4</th>\n",
       "      <td>5324</td>\n",
       "      <td>1981</td>\n",
       "      <td>PhD</td>\n",
       "      <td>Married</td>\n",
       "      <td>58293.0</td>\n",
       "      <td>1</td>\n",
       "      <td>0</td>\n",
       "      <td>19-01-2014</td>\n",
       "      <td>94</td>\n",
       "      <td>173</td>\n",
       "      <td>43</td>\n",
       "      <td>118</td>\n",
       "      <td>46</td>\n",
       "      <td>27</td>\n",
       "      <td>15</td>\n",
       "      <td>5</td>\n",
       "      <td>5</td>\n",
       "      <td>3</td>\n",
       "      <td>6</td>\n",
       "      <td>5</td>\n",
       "      <td>0</td>\n",
       "      <td>0</td>\n",
       "      <td>0</td>\n",
       "      <td>0</td>\n",
       "      <td>0</td>\n",
       "      <td>0</td>\n",
       "      <td>3</td>\n",
       "      <td>11</td>\n",
       "      <td>0</td>\n",
       "      <td>42</td>\n",
       "      <td>Adults</td>\n",
       "      <td>422</td>\n",
       "      <td>1</td>\n",
       "      <td>19</td>\n",
       "      <td>0</td>\n",
       "    </tr>\n",
       "  </tbody>\n",
       "</table>\n",
       "</div>"
      ],
      "text/plain": [
       "     ID  Year_Birth   Education Marital_Status   Income  Kidhome  Teenhome  \\\n",
       "0  5524        1957  Graduation         Single  58138.0        0         0   \n",
       "1  2174        1954  Graduation         Single  46344.0        1         1   \n",
       "2  4141        1965  Graduation       Together  71613.0        0         0   \n",
       "3  6182        1984  Graduation       Together  26646.0        1         0   \n",
       "4  5324        1981         PhD        Married  58293.0        1         0   \n",
       "\n",
       "  Dt_Customer  Recency  MntWines  MntFruits  MntMeatProducts  MntFishProducts  \\\n",
       "0  04-09-2012       58       635         88              546              172   \n",
       "1  08-03-2014       38        11          1                6                2   \n",
       "2  21-08-2013       26       426         49              127              111   \n",
       "3  10-02-2014       26        11          4               20               10   \n",
       "4  19-01-2014       94       173         43              118               46   \n",
       "\n",
       "   MntSweetProducts  MntGoldProds  NumDealsPurchases  NumWebPurchases  \\\n",
       "0                88            88                  3                8   \n",
       "1                 1             6                  2                1   \n",
       "2                21            42                  1                8   \n",
       "3                 3             5                  2                2   \n",
       "4                27            15                  5                5   \n",
       "\n",
       "   NumCatalogPurchases  NumStorePurchases  NumWebVisitsMonth  AcceptedCmp3  \\\n",
       "0                   10                  4                  7             0   \n",
       "1                    1                  2                  5             0   \n",
       "2                    2                 10                  4             0   \n",
       "3                    0                  4                  6             0   \n",
       "4                    3                  6                  5             0   \n",
       "\n",
       "   AcceptedCmp4  AcceptedCmp5  AcceptedCmp1  AcceptedCmp2  Complain  \\\n",
       "0             0             0             0             0         0   \n",
       "1             0             0             0             0         0   \n",
       "2             0             0             0             0         0   \n",
       "3             0             0             0             0         0   \n",
       "4             0             0             0             0         0   \n",
       "\n",
       "   Z_CostContact  Z_Revenue  Response  Age AgeGroup  TotalSpendings  Children  \\\n",
       "0              3         11         1   66  Seniors            1617         0   \n",
       "1              3         11         0   69  Seniors              27         2   \n",
       "2              3         11         0   58   Adults             776         0   \n",
       "3              3         11         0   39   Adults              53         1   \n",
       "4              3         11         0   42   Adults             422         1   \n",
       "\n",
       "   PlaceSpendings  Accepting_Cmps  \n",
       "0              25               0  \n",
       "1               6               0  \n",
       "2              21               0  \n",
       "3               8               0  \n",
       "4              19               0  "
      ]
     },
     "execution_count": 21,
     "metadata": {},
     "output_type": "execute_result"
    }
   ],
   "source": [
    "df.head()"
   ]
  },
  {
   "cell_type": "code",
   "execution_count": 22,
   "id": "df652e07",
   "metadata": {
    "colab": {
     "base_uri": "https://localhost:8080/"
    },
    "executionInfo": {
     "elapsed": 33,
     "status": "ok",
     "timestamp": 1687512830527,
     "user": {
      "displayName": "Sony Somanagurthy",
      "userId": "04008675568867142584"
     },
     "user_tz": -330
    },
    "id": "df652e07",
    "outputId": "51bc0c9b-1352-446a-d605-18c6cdd11564"
   },
   "outputs": [
    {
     "data": {
      "text/plain": [
       "Graduation    1116\n",
       "PhD            481\n",
       "Master         365\n",
       "2n Cycle       200\n",
       "Basic           54\n",
       "Name: Education, dtype: int64"
      ]
     },
     "execution_count": 22,
     "metadata": {},
     "output_type": "execute_result"
    }
   ],
   "source": [
    "df.Education.value_counts()"
   ]
  },
  {
   "cell_type": "markdown",
   "id": "qk7z7yf66ViF",
   "metadata": {
    "id": "qk7z7yf66ViF"
   },
   "source": []
  },
  {
   "cell_type": "code",
   "execution_count": 23,
   "id": "Qjt4Rdev08cf",
   "metadata": {
    "executionInfo": {
     "elapsed": 30,
     "status": "ok",
     "timestamp": 1687512830528,
     "user": {
      "displayName": "Sony Somanagurthy",
      "userId": "04008675568867142584"
     },
     "user_tz": -330
    },
    "id": "Qjt4Rdev08cf"
   },
   "outputs": [],
   "source": [
    "df['Education'] = df['Education'].replace({\n",
    "    \"Graduation \": \"Graduation \",\n",
    "    \"PhD\": \"Advance Education\",\n",
    "    \"Master\": \"Advance Education\",\n",
    "    \"2n Cycle\": \"Advance Education\",\n",
    "  })"
   ]
  },
  {
   "cell_type": "code",
   "execution_count": 24,
   "id": "28d6ea28",
   "metadata": {
    "colab": {
     "base_uri": "https://localhost:8080/"
    },
    "executionInfo": {
     "elapsed": 30,
     "status": "ok",
     "timestamp": 1687512830528,
     "user": {
      "displayName": "Sony Somanagurthy",
      "userId": "04008675568867142584"
     },
     "user_tz": -330
    },
    "id": "28d6ea28",
    "outputId": "4cf8efe5-f59f-4a4e-ad91-ee9e17f58348"
   },
   "outputs": [
    {
     "data": {
      "text/plain": [
       "Married     857\n",
       "Together    573\n",
       "Single      471\n",
       "Divorced    232\n",
       "Widow        76\n",
       "Alone         3\n",
       "Absurd        2\n",
       "YOLO          2\n",
       "Name: Marital_Status, dtype: int64"
      ]
     },
     "execution_count": 24,
     "metadata": {},
     "output_type": "execute_result"
    }
   ],
   "source": [
    "df.Marital_Status.value_counts()"
   ]
  },
  {
   "cell_type": "code",
   "execution_count": 25,
   "id": "6d86449e",
   "metadata": {
    "executionInfo": {
     "elapsed": 26,
     "status": "ok",
     "timestamp": 1687512830528,
     "user": {
      "displayName": "Sony Somanagurthy",
      "userId": "04008675568867142584"
     },
     "user_tz": -330
    },
    "id": "6d86449e"
   },
   "outputs": [],
   "source": [
    "df['Marital_Status'] = df['Marital_Status'].replace({\n",
    "    \"Together\": \"Partners\",\n",
    "    \"Married\": \"Partners\",\n",
    "    \"Divorced\": \"Single\",\n",
    "    \"Widow\": \"Single\",\n",
    "    \"Alone\": \"Single\",\n",
    "    \"Absurd\": \"Single\",\n",
    "    \"YOLO\": \"Single\"\n",
    "})\n"
   ]
  },
  {
   "cell_type": "code",
   "execution_count": 26,
   "id": "EbrSJAW006sQ",
   "metadata": {
    "executionInfo": {
     "elapsed": 27,
     "status": "ok",
     "timestamp": 1687512830529,
     "user": {
      "displayName": "Sony Somanagurthy",
      "userId": "04008675568867142584"
     },
     "user_tz": -330
    },
    "id": "EbrSJAW006sQ"
   },
   "outputs": [],
   "source": [
    "# Assuming you have a DataFrame called 'data' containing the column 'NumWebVisitsMonth'\n",
    "df.rename(columns={'NumWebVisitsMonth': 'WebEnrollment'}, inplace=True)\n"
   ]
  },
  {
   "cell_type": "code",
   "execution_count": 27,
   "id": "ed490458",
   "metadata": {
    "executionInfo": {
     "elapsed": 28,
     "status": "ok",
     "timestamp": 1687512830530,
     "user": {
      "displayName": "Sony Somanagurthy",
      "userId": "04008675568867142584"
     },
     "user_tz": -330
    },
    "id": "ed490458"
   },
   "outputs": [],
   "source": [
    "# Months of Enrollment -\n"
   ]
  },
  {
   "cell_type": "code",
   "execution_count": 28,
   "id": "c9f7bfbd",
   "metadata": {
    "executionInfo": {
     "elapsed": 432,
     "status": "ok",
     "timestamp": 1687512830935,
     "user": {
      "displayName": "Sony Somanagurthy",
      "userId": "04008675568867142584"
     },
     "user_tz": -330
    },
    "id": "c9f7bfbd"
   },
   "outputs": [
    {
     "name": "stderr",
     "output_type": "stream",
     "text": [
      "C:\\Users\\Adithya\\AppData\\Local\\Temp\\ipykernel_9104\\2417510565.py:1: UserWarning: Parsing '21-08-2013' in DD/MM/YYYY format. Provide format or specify infer_datetime_format=True for consistent parsing.\n",
      "  df.Dt_Customer = pd.to_datetime(df.Dt_Customer)\n",
      "C:\\Users\\Adithya\\AppData\\Local\\Temp\\ipykernel_9104\\2417510565.py:1: UserWarning: Parsing '19-01-2014' in DD/MM/YYYY format. Provide format or specify infer_datetime_format=True for consistent parsing.\n",
      "  df.Dt_Customer = pd.to_datetime(df.Dt_Customer)\n",
      "C:\\Users\\Adithya\\AppData\\Local\\Temp\\ipykernel_9104\\2417510565.py:1: UserWarning: Parsing '13-11-2012' in DD/MM/YYYY format. Provide format or specify infer_datetime_format=True for consistent parsing.\n",
      "  df.Dt_Customer = pd.to_datetime(df.Dt_Customer)\n",
      "C:\\Users\\Adithya\\AppData\\Local\\Temp\\ipykernel_9104\\2417510565.py:1: UserWarning: Parsing '13-03-2014' in DD/MM/YYYY format. Provide format or specify infer_datetime_format=True for consistent parsing.\n",
      "  df.Dt_Customer = pd.to_datetime(df.Dt_Customer)\n",
      "C:\\Users\\Adithya\\AppData\\Local\\Temp\\ipykernel_9104\\2417510565.py:1: UserWarning: Parsing '15-11-2013' in DD/MM/YYYY format. Provide format or specify infer_datetime_format=True for consistent parsing.\n",
      "  df.Dt_Customer = pd.to_datetime(df.Dt_Customer)\n",
      "C:\\Users\\Adithya\\AppData\\Local\\Temp\\ipykernel_9104\\2417510565.py:1: UserWarning: Parsing '24-11-2012' in DD/MM/YYYY format. Provide format or specify infer_datetime_format=True for consistent parsing.\n",
      "  df.Dt_Customer = pd.to_datetime(df.Dt_Customer)\n",
      "C:\\Users\\Adithya\\AppData\\Local\\Temp\\ipykernel_9104\\2417510565.py:1: UserWarning: Parsing '24-12-2012' in DD/MM/YYYY format. Provide format or specify infer_datetime_format=True for consistent parsing.\n",
      "  df.Dt_Customer = pd.to_datetime(df.Dt_Customer)\n",
      "C:\\Users\\Adithya\\AppData\\Local\\Temp\\ipykernel_9104\\2417510565.py:1: UserWarning: Parsing '31-08-2012' in DD/MM/YYYY format. Provide format or specify infer_datetime_format=True for consistent parsing.\n",
      "  df.Dt_Customer = pd.to_datetime(df.Dt_Customer)\n",
      "C:\\Users\\Adithya\\AppData\\Local\\Temp\\ipykernel_9104\\2417510565.py:1: UserWarning: Parsing '28-03-2013' in DD/MM/YYYY format. Provide format or specify infer_datetime_format=True for consistent parsing.\n",
      "  df.Dt_Customer = pd.to_datetime(df.Dt_Customer)\n",
      "C:\\Users\\Adithya\\AppData\\Local\\Temp\\ipykernel_9104\\2417510565.py:1: UserWarning: Parsing '23-12-2012' in DD/MM/YYYY format. Provide format or specify infer_datetime_format=True for consistent parsing.\n",
      "  df.Dt_Customer = pd.to_datetime(df.Dt_Customer)\n",
      "C:\\Users\\Adithya\\AppData\\Local\\Temp\\ipykernel_9104\\2417510565.py:1: UserWarning: Parsing '18-03-2013' in DD/MM/YYYY format. Provide format or specify infer_datetime_format=True for consistent parsing.\n",
      "  df.Dt_Customer = pd.to_datetime(df.Dt_Customer)\n",
      "C:\\Users\\Adithya\\AppData\\Local\\Temp\\ipykernel_9104\\2417510565.py:1: UserWarning: Parsing '27-05-2013' in DD/MM/YYYY format. Provide format or specify infer_datetime_format=True for consistent parsing.\n",
      "  df.Dt_Customer = pd.to_datetime(df.Dt_Customer)\n",
      "C:\\Users\\Adithya\\AppData\\Local\\Temp\\ipykernel_9104\\2417510565.py:1: UserWarning: Parsing '31-05-2013' in DD/MM/YYYY format. Provide format or specify infer_datetime_format=True for consistent parsing.\n",
      "  df.Dt_Customer = pd.to_datetime(df.Dt_Customer)\n",
      "C:\\Users\\Adithya\\AppData\\Local\\Temp\\ipykernel_9104\\2417510565.py:1: UserWarning: Parsing '22-11-2013' in DD/MM/YYYY format. Provide format or specify infer_datetime_format=True for consistent parsing.\n",
      "  df.Dt_Customer = pd.to_datetime(df.Dt_Customer)\n",
      "C:\\Users\\Adithya\\AppData\\Local\\Temp\\ipykernel_9104\\2417510565.py:1: UserWarning: Parsing '22-05-2014' in DD/MM/YYYY format. Provide format or specify infer_datetime_format=True for consistent parsing.\n",
      "  df.Dt_Customer = pd.to_datetime(df.Dt_Customer)\n",
      "C:\\Users\\Adithya\\AppData\\Local\\Temp\\ipykernel_9104\\2417510565.py:1: UserWarning: Parsing '29-10-2012' in DD/MM/YYYY format. Provide format or specify infer_datetime_format=True for consistent parsing.\n",
      "  df.Dt_Customer = pd.to_datetime(df.Dt_Customer)\n",
      "C:\\Users\\Adithya\\AppData\\Local\\Temp\\ipykernel_9104\\2417510565.py:1: UserWarning: Parsing '20-02-2013' in DD/MM/YYYY format. Provide format or specify infer_datetime_format=True for consistent parsing.\n",
      "  df.Dt_Customer = pd.to_datetime(df.Dt_Customer)\n",
      "C:\\Users\\Adithya\\AppData\\Local\\Temp\\ipykernel_9104\\2417510565.py:1: UserWarning: Parsing '29-08-2013' in DD/MM/YYYY format. Provide format or specify infer_datetime_format=True for consistent parsing.\n",
      "  df.Dt_Customer = pd.to_datetime(df.Dt_Customer)\n",
      "C:\\Users\\Adithya\\AppData\\Local\\Temp\\ipykernel_9104\\2417510565.py:1: UserWarning: Parsing '31-12-2013' in DD/MM/YYYY format. Provide format or specify infer_datetime_format=True for consistent parsing.\n",
      "  df.Dt_Customer = pd.to_datetime(df.Dt_Customer)\n",
      "C:\\Users\\Adithya\\AppData\\Local\\Temp\\ipykernel_9104\\2417510565.py:1: UserWarning: Parsing '29-04-2013' in DD/MM/YYYY format. Provide format or specify infer_datetime_format=True for consistent parsing.\n",
      "  df.Dt_Customer = pd.to_datetime(df.Dt_Customer)\n",
      "C:\\Users\\Adithya\\AppData\\Local\\Temp\\ipykernel_9104\\2417510565.py:1: UserWarning: Parsing '28-06-2014' in DD/MM/YYYY format. Provide format or specify infer_datetime_format=True for consistent parsing.\n",
      "  df.Dt_Customer = pd.to_datetime(df.Dt_Customer)\n",
      "C:\\Users\\Adithya\\AppData\\Local\\Temp\\ipykernel_9104\\2417510565.py:1: UserWarning: Parsing '24-05-2013' in DD/MM/YYYY format. Provide format or specify infer_datetime_format=True for consistent parsing.\n",
      "  df.Dt_Customer = pd.to_datetime(df.Dt_Customer)\n",
      "C:\\Users\\Adithya\\AppData\\Local\\Temp\\ipykernel_9104\\2417510565.py:1: UserWarning: Parsing '19-11-2012' in DD/MM/YYYY format. Provide format or specify infer_datetime_format=True for consistent parsing.\n",
      "  df.Dt_Customer = pd.to_datetime(df.Dt_Customer)\n",
      "C:\\Users\\Adithya\\AppData\\Local\\Temp\\ipykernel_9104\\2417510565.py:1: UserWarning: Parsing '28-04-2014' in DD/MM/YYYY format. Provide format or specify infer_datetime_format=True for consistent parsing.\n",
      "  df.Dt_Customer = pd.to_datetime(df.Dt_Customer)\n",
      "C:\\Users\\Adithya\\AppData\\Local\\Temp\\ipykernel_9104\\2417510565.py:1: UserWarning: Parsing '18-02-2013' in DD/MM/YYYY format. Provide format or specify infer_datetime_format=True for consistent parsing.\n",
      "  df.Dt_Customer = pd.to_datetime(df.Dt_Customer)\n",
      "C:\\Users\\Adithya\\AppData\\Local\\Temp\\ipykernel_9104\\2417510565.py:1: UserWarning: Parsing '21-05-2013' in DD/MM/YYYY format. Provide format or specify infer_datetime_format=True for consistent parsing.\n",
      "  df.Dt_Customer = pd.to_datetime(df.Dt_Customer)\n",
      "C:\\Users\\Adithya\\AppData\\Local\\Temp\\ipykernel_9104\\2417510565.py:1: UserWarning: Parsing '19-03-2014' in DD/MM/YYYY format. Provide format or specify infer_datetime_format=True for consistent parsing.\n",
      "  df.Dt_Customer = pd.to_datetime(df.Dt_Customer)\n",
      "C:\\Users\\Adithya\\AppData\\Local\\Temp\\ipykernel_9104\\2417510565.py:1: UserWarning: Parsing '27-09-2013' in DD/MM/YYYY format. Provide format or specify infer_datetime_format=True for consistent parsing.\n",
      "  df.Dt_Customer = pd.to_datetime(df.Dt_Customer)\n",
      "C:\\Users\\Adithya\\AppData\\Local\\Temp\\ipykernel_9104\\2417510565.py:1: UserWarning: Parsing '17-03-2013' in DD/MM/YYYY format. Provide format or specify infer_datetime_format=True for consistent parsing.\n",
      "  df.Dt_Customer = pd.to_datetime(df.Dt_Customer)\n",
      "C:\\Users\\Adithya\\AppData\\Local\\Temp\\ipykernel_9104\\2417510565.py:1: UserWarning: Parsing '30-04-2014' in DD/MM/YYYY format. Provide format or specify infer_datetime_format=True for consistent parsing.\n",
      "  df.Dt_Customer = pd.to_datetime(df.Dt_Customer)\n",
      "C:\\Users\\Adithya\\AppData\\Local\\Temp\\ipykernel_9104\\2417510565.py:1: UserWarning: Parsing '19-12-2012' in DD/MM/YYYY format. Provide format or specify infer_datetime_format=True for consistent parsing.\n",
      "  df.Dt_Customer = pd.to_datetime(df.Dt_Customer)\n",
      "C:\\Users\\Adithya\\AppData\\Local\\Temp\\ipykernel_9104\\2417510565.py:1: UserWarning: Parsing '27-08-2012' in DD/MM/YYYY format. Provide format or specify infer_datetime_format=True for consistent parsing.\n",
      "  df.Dt_Customer = pd.to_datetime(df.Dt_Customer)\n",
      "C:\\Users\\Adithya\\AppData\\Local\\Temp\\ipykernel_9104\\2417510565.py:1: UserWarning: Parsing '29-08-2012' in DD/MM/YYYY format. Provide format or specify infer_datetime_format=True for consistent parsing.\n",
      "  df.Dt_Customer = pd.to_datetime(df.Dt_Customer)\n",
      "C:\\Users\\Adithya\\AppData\\Local\\Temp\\ipykernel_9104\\2417510565.py:1: UserWarning: Parsing '23-06-2013' in DD/MM/YYYY format. Provide format or specify infer_datetime_format=True for consistent parsing.\n",
      "  df.Dt_Customer = pd.to_datetime(df.Dt_Customer)\n",
      "C:\\Users\\Adithya\\AppData\\Local\\Temp\\ipykernel_9104\\2417510565.py:1: UserWarning: Parsing '25-02-2014' in DD/MM/YYYY format. Provide format or specify infer_datetime_format=True for consistent parsing.\n",
      "  df.Dt_Customer = pd.to_datetime(df.Dt_Customer)\n",
      "C:\\Users\\Adithya\\AppData\\Local\\Temp\\ipykernel_9104\\2417510565.py:1: UserWarning: Parsing '16-07-2013' in DD/MM/YYYY format. Provide format or specify infer_datetime_format=True for consistent parsing.\n",
      "  df.Dt_Customer = pd.to_datetime(df.Dt_Customer)\n",
      "C:\\Users\\Adithya\\AppData\\Local\\Temp\\ipykernel_9104\\2417510565.py:1: UserWarning: Parsing '28-05-2014' in DD/MM/YYYY format. Provide format or specify infer_datetime_format=True for consistent parsing.\n",
      "  df.Dt_Customer = pd.to_datetime(df.Dt_Customer)\n",
      "C:\\Users\\Adithya\\AppData\\Local\\Temp\\ipykernel_9104\\2417510565.py:1: UserWarning: Parsing '21-01-2014' in DD/MM/YYYY format. Provide format or specify infer_datetime_format=True for consistent parsing.\n",
      "  df.Dt_Customer = pd.to_datetime(df.Dt_Customer)\n",
      "C:\\Users\\Adithya\\AppData\\Local\\Temp\\ipykernel_9104\\2417510565.py:1: UserWarning: Parsing '23-03-2014' in DD/MM/YYYY format. Provide format or specify infer_datetime_format=True for consistent parsing.\n",
      "  df.Dt_Customer = pd.to_datetime(df.Dt_Customer)\n",
      "C:\\Users\\Adithya\\AppData\\Local\\Temp\\ipykernel_9104\\2417510565.py:1: UserWarning: Parsing '24-05-2014' in DD/MM/YYYY format. Provide format or specify infer_datetime_format=True for consistent parsing.\n",
      "  df.Dt_Customer = pd.to_datetime(df.Dt_Customer)\n",
      "C:\\Users\\Adithya\\AppData\\Local\\Temp\\ipykernel_9104\\2417510565.py:1: UserWarning: Parsing '22-11-2012' in DD/MM/YYYY format. Provide format or specify infer_datetime_format=True for consistent parsing.\n",
      "  df.Dt_Customer = pd.to_datetime(df.Dt_Customer)\n",
      "C:\\Users\\Adithya\\AppData\\Local\\Temp\\ipykernel_9104\\2417510565.py:1: UserWarning: Parsing '20-06-2013' in DD/MM/YYYY format. Provide format or specify infer_datetime_format=True for consistent parsing.\n",
      "  df.Dt_Customer = pd.to_datetime(df.Dt_Customer)\n",
      "C:\\Users\\Adithya\\AppData\\Local\\Temp\\ipykernel_9104\\2417510565.py:1: UserWarning: Parsing '23-07-2013' in DD/MM/YYYY format. Provide format or specify infer_datetime_format=True for consistent parsing.\n",
      "  df.Dt_Customer = pd.to_datetime(df.Dt_Customer)\n",
      "C:\\Users\\Adithya\\AppData\\Local\\Temp\\ipykernel_9104\\2417510565.py:1: UserWarning: Parsing '30-03-2014' in DD/MM/YYYY format. Provide format or specify infer_datetime_format=True for consistent parsing.\n",
      "  df.Dt_Customer = pd.to_datetime(df.Dt_Customer)\n",
      "C:\\Users\\Adithya\\AppData\\Local\\Temp\\ipykernel_9104\\2417510565.py:1: UserWarning: Parsing '20-04-2013' in DD/MM/YYYY format. Provide format or specify infer_datetime_format=True for consistent parsing.\n",
      "  df.Dt_Customer = pd.to_datetime(df.Dt_Customer)\n",
      "C:\\Users\\Adithya\\AppData\\Local\\Temp\\ipykernel_9104\\2417510565.py:1: UserWarning: Parsing '17-05-2013' in DD/MM/YYYY format. Provide format or specify infer_datetime_format=True for consistent parsing.\n",
      "  df.Dt_Customer = pd.to_datetime(df.Dt_Customer)\n",
      "C:\\Users\\Adithya\\AppData\\Local\\Temp\\ipykernel_9104\\2417510565.py:1: UserWarning: Parsing '24-09-2013' in DD/MM/YYYY format. Provide format or specify infer_datetime_format=True for consistent parsing.\n",
      "  df.Dt_Customer = pd.to_datetime(df.Dt_Customer)\n",
      "C:\\Users\\Adithya\\AppData\\Local\\Temp\\ipykernel_9104\\2417510565.py:1: UserWarning: Parsing '25-06-2014' in DD/MM/YYYY format. Provide format or specify infer_datetime_format=True for consistent parsing.\n",
      "  df.Dt_Customer = pd.to_datetime(df.Dt_Customer)\n",
      "C:\\Users\\Adithya\\AppData\\Local\\Temp\\ipykernel_9104\\2417510565.py:1: UserWarning: Parsing '24-01-2014' in DD/MM/YYYY format. Provide format or specify infer_datetime_format=True for consistent parsing.\n",
      "  df.Dt_Customer = pd.to_datetime(df.Dt_Customer)\n",
      "C:\\Users\\Adithya\\AppData\\Local\\Temp\\ipykernel_9104\\2417510565.py:1: UserWarning: Parsing '19-02-2013' in DD/MM/YYYY format. Provide format or specify infer_datetime_format=True for consistent parsing.\n",
      "  df.Dt_Customer = pd.to_datetime(df.Dt_Customer)\n",
      "C:\\Users\\Adithya\\AppData\\Local\\Temp\\ipykernel_9104\\2417510565.py:1: UserWarning: Parsing '14-11-2013' in DD/MM/YYYY format. Provide format or specify infer_datetime_format=True for consistent parsing.\n",
      "  df.Dt_Customer = pd.to_datetime(df.Dt_Customer)\n",
      "C:\\Users\\Adithya\\AppData\\Local\\Temp\\ipykernel_9104\\2417510565.py:1: UserWarning: Parsing '24-02-2014' in DD/MM/YYYY format. Provide format or specify infer_datetime_format=True for consistent parsing.\n",
      "  df.Dt_Customer = pd.to_datetime(df.Dt_Customer)\n",
      "C:\\Users\\Adithya\\AppData\\Local\\Temp\\ipykernel_9104\\2417510565.py:1: UserWarning: Parsing '22-04-2013' in DD/MM/YYYY format. Provide format or specify infer_datetime_format=True for consistent parsing.\n",
      "  df.Dt_Customer = pd.to_datetime(df.Dt_Customer)\n",
      "C:\\Users\\Adithya\\AppData\\Local\\Temp\\ipykernel_9104\\2417510565.py:1: UserWarning: Parsing '21-04-2013' in DD/MM/YYYY format. Provide format or specify infer_datetime_format=True for consistent parsing.\n",
      "  df.Dt_Customer = pd.to_datetime(df.Dt_Customer)\n",
      "C:\\Users\\Adithya\\AppData\\Local\\Temp\\ipykernel_9104\\2417510565.py:1: UserWarning: Parsing '30-09-2013' in DD/MM/YYYY format. Provide format or specify infer_datetime_format=True for consistent parsing.\n",
      "  df.Dt_Customer = pd.to_datetime(df.Dt_Customer)\n",
      "C:\\Users\\Adithya\\AppData\\Local\\Temp\\ipykernel_9104\\2417510565.py:1: UserWarning: Parsing '14-08-2013' in DD/MM/YYYY format. Provide format or specify infer_datetime_format=True for consistent parsing.\n",
      "  df.Dt_Customer = pd.to_datetime(df.Dt_Customer)\n",
      "C:\\Users\\Adithya\\AppData\\Local\\Temp\\ipykernel_9104\\2417510565.py:1: UserWarning: Parsing '19-05-2014' in DD/MM/YYYY format. Provide format or specify infer_datetime_format=True for consistent parsing.\n",
      "  df.Dt_Customer = pd.to_datetime(df.Dt_Customer)\n",
      "C:\\Users\\Adithya\\AppData\\Local\\Temp\\ipykernel_9104\\2417510565.py:1: UserWarning: Parsing '28-07-2013' in DD/MM/YYYY format. Provide format or specify infer_datetime_format=True for consistent parsing.\n",
      "  df.Dt_Customer = pd.to_datetime(df.Dt_Customer)\n",
      "C:\\Users\\Adithya\\AppData\\Local\\Temp\\ipykernel_9104\\2417510565.py:1: UserWarning: Parsing '19-10-2012' in DD/MM/YYYY format. Provide format or specify infer_datetime_format=True for consistent parsing.\n",
      "  df.Dt_Customer = pd.to_datetime(df.Dt_Customer)\n",
      "C:\\Users\\Adithya\\AppData\\Local\\Temp\\ipykernel_9104\\2417510565.py:1: UserWarning: Parsing '19-04-2013' in DD/MM/YYYY format. Provide format or specify infer_datetime_format=True for consistent parsing.\n",
      "  df.Dt_Customer = pd.to_datetime(df.Dt_Customer)\n",
      "C:\\Users\\Adithya\\AppData\\Local\\Temp\\ipykernel_9104\\2417510565.py:1: UserWarning: Parsing '28-08-2013' in DD/MM/YYYY format. Provide format or specify infer_datetime_format=True for consistent parsing.\n",
      "  df.Dt_Customer = pd.to_datetime(df.Dt_Customer)\n",
      "C:\\Users\\Adithya\\AppData\\Local\\Temp\\ipykernel_9104\\2417510565.py:1: UserWarning: Parsing '19-03-2013' in DD/MM/YYYY format. Provide format or specify infer_datetime_format=True for consistent parsing.\n",
      "  df.Dt_Customer = pd.to_datetime(df.Dt_Customer)\n",
      "C:\\Users\\Adithya\\AppData\\Local\\Temp\\ipykernel_9104\\2417510565.py:1: UserWarning: Parsing '18-10-2012' in DD/MM/YYYY format. Provide format or specify infer_datetime_format=True for consistent parsing.\n",
      "  df.Dt_Customer = pd.to_datetime(df.Dt_Customer)\n",
      "C:\\Users\\Adithya\\AppData\\Local\\Temp\\ipykernel_9104\\2417510565.py:1: UserWarning: Parsing '28-10-2012' in DD/MM/YYYY format. Provide format or specify infer_datetime_format=True for consistent parsing.\n",
      "  df.Dt_Customer = pd.to_datetime(df.Dt_Customer)\n",
      "C:\\Users\\Adithya\\AppData\\Local\\Temp\\ipykernel_9104\\2417510565.py:1: UserWarning: Parsing '22-08-2012' in DD/MM/YYYY format. Provide format or specify infer_datetime_format=True for consistent parsing.\n",
      "  df.Dt_Customer = pd.to_datetime(df.Dt_Customer)\n",
      "C:\\Users\\Adithya\\AppData\\Local\\Temp\\ipykernel_9104\\2417510565.py:1: UserWarning: Parsing '21-06-2014' in DD/MM/YYYY format. Provide format or specify infer_datetime_format=True for consistent parsing.\n",
      "  df.Dt_Customer = pd.to_datetime(df.Dt_Customer)\n",
      "C:\\Users\\Adithya\\AppData\\Local\\Temp\\ipykernel_9104\\2417510565.py:1: UserWarning: Parsing '24-04-2014' in DD/MM/YYYY format. Provide format or specify infer_datetime_format=True for consistent parsing.\n",
      "  df.Dt_Customer = pd.to_datetime(df.Dt_Customer)\n",
      "C:\\Users\\Adithya\\AppData\\Local\\Temp\\ipykernel_9104\\2417510565.py:1: UserWarning: Parsing '14-12-2012' in DD/MM/YYYY format. Provide format or specify infer_datetime_format=True for consistent parsing.\n",
      "  df.Dt_Customer = pd.to_datetime(df.Dt_Customer)\n",
      "C:\\Users\\Adithya\\AppData\\Local\\Temp\\ipykernel_9104\\2417510565.py:1: UserWarning: Parsing '17-10-2013' in DD/MM/YYYY format. Provide format or specify infer_datetime_format=True for consistent parsing.\n",
      "  df.Dt_Customer = pd.to_datetime(df.Dt_Customer)\n",
      "C:\\Users\\Adithya\\AppData\\Local\\Temp\\ipykernel_9104\\2417510565.py:1: UserWarning: Parsing '20-08-2013' in DD/MM/YYYY format. Provide format or specify infer_datetime_format=True for consistent parsing.\n",
      "  df.Dt_Customer = pd.to_datetime(df.Dt_Customer)\n",
      "C:\\Users\\Adithya\\AppData\\Local\\Temp\\ipykernel_9104\\2417510565.py:1: UserWarning: Parsing '13-11-2013' in DD/MM/YYYY format. Provide format or specify infer_datetime_format=True for consistent parsing.\n",
      "  df.Dt_Customer = pd.to_datetime(df.Dt_Customer)\n",
      "C:\\Users\\Adithya\\AppData\\Local\\Temp\\ipykernel_9104\\2417510565.py:1: UserWarning: Parsing '18-11-2013' in DD/MM/YYYY format. Provide format or specify infer_datetime_format=True for consistent parsing.\n",
      "  df.Dt_Customer = pd.to_datetime(df.Dt_Customer)\n",
      "C:\\Users\\Adithya\\AppData\\Local\\Temp\\ipykernel_9104\\2417510565.py:1: UserWarning: Parsing '21-04-2014' in DD/MM/YYYY format. Provide format or specify infer_datetime_format=True for consistent parsing.\n",
      "  df.Dt_Customer = pd.to_datetime(df.Dt_Customer)\n",
      "C:\\Users\\Adithya\\AppData\\Local\\Temp\\ipykernel_9104\\2417510565.py:1: UserWarning: Parsing '13-07-2013' in DD/MM/YYYY format. Provide format or specify infer_datetime_format=True for consistent parsing.\n",
      "  df.Dt_Customer = pd.to_datetime(df.Dt_Customer)\n",
      "C:\\Users\\Adithya\\AppData\\Local\\Temp\\ipykernel_9104\\2417510565.py:1: UserWarning: Parsing '30-01-2014' in DD/MM/YYYY format. Provide format or specify infer_datetime_format=True for consistent parsing.\n",
      "  df.Dt_Customer = pd.to_datetime(df.Dt_Customer)\n",
      "C:\\Users\\Adithya\\AppData\\Local\\Temp\\ipykernel_9104\\2417510565.py:1: UserWarning: Parsing '16-12-2012' in DD/MM/YYYY format. Provide format or specify infer_datetime_format=True for consistent parsing.\n",
      "  df.Dt_Customer = pd.to_datetime(df.Dt_Customer)\n",
      "C:\\Users\\Adithya\\AppData\\Local\\Temp\\ipykernel_9104\\2417510565.py:1: UserWarning: Parsing '23-05-2014' in DD/MM/YYYY format. Provide format or specify infer_datetime_format=True for consistent parsing.\n",
      "  df.Dt_Customer = pd.to_datetime(df.Dt_Customer)\n",
      "C:\\Users\\Adithya\\AppData\\Local\\Temp\\ipykernel_9104\\2417510565.py:1: UserWarning: Parsing '24-06-2014' in DD/MM/YYYY format. Provide format or specify infer_datetime_format=True for consistent parsing.\n",
      "  df.Dt_Customer = pd.to_datetime(df.Dt_Customer)\n",
      "C:\\Users\\Adithya\\AppData\\Local\\Temp\\ipykernel_9104\\2417510565.py:1: UserWarning: Parsing '28-09-2013' in DD/MM/YYYY format. Provide format or specify infer_datetime_format=True for consistent parsing.\n",
      "  df.Dt_Customer = pd.to_datetime(df.Dt_Customer)\n",
      "C:\\Users\\Adithya\\AppData\\Local\\Temp\\ipykernel_9104\\2417510565.py:1: UserWarning: Parsing '22-01-2014' in DD/MM/YYYY format. Provide format or specify infer_datetime_format=True for consistent parsing.\n",
      "  df.Dt_Customer = pd.to_datetime(df.Dt_Customer)\n",
      "C:\\Users\\Adithya\\AppData\\Local\\Temp\\ipykernel_9104\\2417510565.py:1: UserWarning: Parsing '15-06-2014' in DD/MM/YYYY format. Provide format or specify infer_datetime_format=True for consistent parsing.\n",
      "  df.Dt_Customer = pd.to_datetime(df.Dt_Customer)\n",
      "C:\\Users\\Adithya\\AppData\\Local\\Temp\\ipykernel_9104\\2417510565.py:1: UserWarning: Parsing '23-02-2013' in DD/MM/YYYY format. Provide format or specify infer_datetime_format=True for consistent parsing.\n",
      "  df.Dt_Customer = pd.to_datetime(df.Dt_Customer)\n",
      "C:\\Users\\Adithya\\AppData\\Local\\Temp\\ipykernel_9104\\2417510565.py:1: UserWarning: Parsing '26-09-2013' in DD/MM/YYYY format. Provide format or specify infer_datetime_format=True for consistent parsing.\n",
      "  df.Dt_Customer = pd.to_datetime(df.Dt_Customer)\n",
      "C:\\Users\\Adithya\\AppData\\Local\\Temp\\ipykernel_9104\\2417510565.py:1: UserWarning: Parsing '30-05-2013' in DD/MM/YYYY format. Provide format or specify infer_datetime_format=True for consistent parsing.\n",
      "  df.Dt_Customer = pd.to_datetime(df.Dt_Customer)\n",
      "C:\\Users\\Adithya\\AppData\\Local\\Temp\\ipykernel_9104\\2417510565.py:1: UserWarning: Parsing '29-12-2013' in DD/MM/YYYY format. Provide format or specify infer_datetime_format=True for consistent parsing.\n",
      "  df.Dt_Customer = pd.to_datetime(df.Dt_Customer)\n",
      "C:\\Users\\Adithya\\AppData\\Local\\Temp\\ipykernel_9104\\2417510565.py:1: UserWarning: Parsing '13-05-2014' in DD/MM/YYYY format. Provide format or specify infer_datetime_format=True for consistent parsing.\n",
      "  df.Dt_Customer = pd.to_datetime(df.Dt_Customer)\n",
      "C:\\Users\\Adithya\\AppData\\Local\\Temp\\ipykernel_9104\\2417510565.py:1: UserWarning: Parsing '19-09-2013' in DD/MM/YYYY format. Provide format or specify infer_datetime_format=True for consistent parsing.\n",
      "  df.Dt_Customer = pd.to_datetime(df.Dt_Customer)\n",
      "C:\\Users\\Adithya\\AppData\\Local\\Temp\\ipykernel_9104\\2417510565.py:1: UserWarning: Parsing '17-01-2013' in DD/MM/YYYY format. Provide format or specify infer_datetime_format=True for consistent parsing.\n",
      "  df.Dt_Customer = pd.to_datetime(df.Dt_Customer)\n",
      "C:\\Users\\Adithya\\AppData\\Local\\Temp\\ipykernel_9104\\2417510565.py:1: UserWarning: Parsing '31-03-2014' in DD/MM/YYYY format. Provide format or specify infer_datetime_format=True for consistent parsing.\n",
      "  df.Dt_Customer = pd.to_datetime(df.Dt_Customer)\n",
      "C:\\Users\\Adithya\\AppData\\Local\\Temp\\ipykernel_9104\\2417510565.py:1: UserWarning: Parsing '29-06-2014' in DD/MM/YYYY format. Provide format or specify infer_datetime_format=True for consistent parsing.\n",
      "  df.Dt_Customer = pd.to_datetime(df.Dt_Customer)\n",
      "C:\\Users\\Adithya\\AppData\\Local\\Temp\\ipykernel_9104\\2417510565.py:1: UserWarning: Parsing '14-10-2013' in DD/MM/YYYY format. Provide format or specify infer_datetime_format=True for consistent parsing.\n",
      "  df.Dt_Customer = pd.to_datetime(df.Dt_Customer)\n",
      "C:\\Users\\Adithya\\AppData\\Local\\Temp\\ipykernel_9104\\2417510565.py:1: UserWarning: Parsing '17-07-2013' in DD/MM/YYYY format. Provide format or specify infer_datetime_format=True for consistent parsing.\n",
      "  df.Dt_Customer = pd.to_datetime(df.Dt_Customer)\n",
      "C:\\Users\\Adithya\\AppData\\Local\\Temp\\ipykernel_9104\\2417510565.py:1: UserWarning: Parsing '13-05-2013' in DD/MM/YYYY format. Provide format or specify infer_datetime_format=True for consistent parsing.\n",
      "  df.Dt_Customer = pd.to_datetime(df.Dt_Customer)\n",
      "C:\\Users\\Adithya\\AppData\\Local\\Temp\\ipykernel_9104\\2417510565.py:1: UserWarning: Parsing '31-03-2013' in DD/MM/YYYY format. Provide format or specify infer_datetime_format=True for consistent parsing.\n",
      "  df.Dt_Customer = pd.to_datetime(df.Dt_Customer)\n",
      "C:\\Users\\Adithya\\AppData\\Local\\Temp\\ipykernel_9104\\2417510565.py:1: UserWarning: Parsing '18-03-2014' in DD/MM/YYYY format. Provide format or specify infer_datetime_format=True for consistent parsing.\n",
      "  df.Dt_Customer = pd.to_datetime(df.Dt_Customer)\n",
      "C:\\Users\\Adithya\\AppData\\Local\\Temp\\ipykernel_9104\\2417510565.py:1: UserWarning: Parsing '21-01-2013' in DD/MM/YYYY format. Provide format or specify infer_datetime_format=True for consistent parsing.\n",
      "  df.Dt_Customer = pd.to_datetime(df.Dt_Customer)\n",
      "C:\\Users\\Adithya\\AppData\\Local\\Temp\\ipykernel_9104\\2417510565.py:1: UserWarning: Parsing '31-08-2013' in DD/MM/YYYY format. Provide format or specify infer_datetime_format=True for consistent parsing.\n",
      "  df.Dt_Customer = pd.to_datetime(df.Dt_Customer)\n",
      "C:\\Users\\Adithya\\AppData\\Local\\Temp\\ipykernel_9104\\2417510565.py:1: UserWarning: Parsing '14-11-2012' in DD/MM/YYYY format. Provide format or specify infer_datetime_format=True for consistent parsing.\n",
      "  df.Dt_Customer = pd.to_datetime(df.Dt_Customer)\n",
      "C:\\Users\\Adithya\\AppData\\Local\\Temp\\ipykernel_9104\\2417510565.py:1: UserWarning: Parsing '14-04-2014' in DD/MM/YYYY format. Provide format or specify infer_datetime_format=True for consistent parsing.\n",
      "  df.Dt_Customer = pd.to_datetime(df.Dt_Customer)\n",
      "C:\\Users\\Adithya\\AppData\\Local\\Temp\\ipykernel_9104\\2417510565.py:1: UserWarning: Parsing '26-03-2013' in DD/MM/YYYY format. Provide format or specify infer_datetime_format=True for consistent parsing.\n",
      "  df.Dt_Customer = pd.to_datetime(df.Dt_Customer)\n",
      "C:\\Users\\Adithya\\AppData\\Local\\Temp\\ipykernel_9104\\2417510565.py:1: UserWarning: Parsing '25-10-2012' in DD/MM/YYYY format. Provide format or specify infer_datetime_format=True for consistent parsing.\n",
      "  df.Dt_Customer = pd.to_datetime(df.Dt_Customer)\n",
      "C:\\Users\\Adithya\\AppData\\Local\\Temp\\ipykernel_9104\\2417510565.py:1: UserWarning: Parsing '16-02-2014' in DD/MM/YYYY format. Provide format or specify infer_datetime_format=True for consistent parsing.\n",
      "  df.Dt_Customer = pd.to_datetime(df.Dt_Customer)\n",
      "C:\\Users\\Adithya\\AppData\\Local\\Temp\\ipykernel_9104\\2417510565.py:1: UserWarning: Parsing '20-03-2013' in DD/MM/YYYY format. Provide format or specify infer_datetime_format=True for consistent parsing.\n",
      "  df.Dt_Customer = pd.to_datetime(df.Dt_Customer)\n",
      "C:\\Users\\Adithya\\AppData\\Local\\Temp\\ipykernel_9104\\2417510565.py:1: UserWarning: Parsing '15-05-2013' in DD/MM/YYYY format. Provide format or specify infer_datetime_format=True for consistent parsing.\n",
      "  df.Dt_Customer = pd.to_datetime(df.Dt_Customer)\n",
      "C:\\Users\\Adithya\\AppData\\Local\\Temp\\ipykernel_9104\\2417510565.py:1: UserWarning: Parsing '16-04-2014' in DD/MM/YYYY format. Provide format or specify infer_datetime_format=True for consistent parsing.\n",
      "  df.Dt_Customer = pd.to_datetime(df.Dt_Customer)\n",
      "C:\\Users\\Adithya\\AppData\\Local\\Temp\\ipykernel_9104\\2417510565.py:1: UserWarning: Parsing '23-03-2013' in DD/MM/YYYY format. Provide format or specify infer_datetime_format=True for consistent parsing.\n",
      "  df.Dt_Customer = pd.to_datetime(df.Dt_Customer)\n",
      "C:\\Users\\Adithya\\AppData\\Local\\Temp\\ipykernel_9104\\2417510565.py:1: UserWarning: Parsing '26-12-2013' in DD/MM/YYYY format. Provide format or specify infer_datetime_format=True for consistent parsing.\n",
      "  df.Dt_Customer = pd.to_datetime(df.Dt_Customer)\n",
      "C:\\Users\\Adithya\\AppData\\Local\\Temp\\ipykernel_9104\\2417510565.py:1: UserWarning: Parsing '17-05-2014' in DD/MM/YYYY format. Provide format or specify infer_datetime_format=True for consistent parsing.\n",
      "  df.Dt_Customer = pd.to_datetime(df.Dt_Customer)\n",
      "C:\\Users\\Adithya\\AppData\\Local\\Temp\\ipykernel_9104\\2417510565.py:1: UserWarning: Parsing '28-10-2013' in DD/MM/YYYY format. Provide format or specify infer_datetime_format=True for consistent parsing.\n",
      "  df.Dt_Customer = pd.to_datetime(df.Dt_Customer)\n",
      "C:\\Users\\Adithya\\AppData\\Local\\Temp\\ipykernel_9104\\2417510565.py:1: UserWarning: Parsing '31-07-2013' in DD/MM/YYYY format. Provide format or specify infer_datetime_format=True for consistent parsing.\n",
      "  df.Dt_Customer = pd.to_datetime(df.Dt_Customer)\n",
      "C:\\Users\\Adithya\\AppData\\Local\\Temp\\ipykernel_9104\\2417510565.py:1: UserWarning: Parsing '28-11-2013' in DD/MM/YYYY format. Provide format or specify infer_datetime_format=True for consistent parsing.\n",
      "  df.Dt_Customer = pd.to_datetime(df.Dt_Customer)\n",
      "C:\\Users\\Adithya\\AppData\\Local\\Temp\\ipykernel_9104\\2417510565.py:1: UserWarning: Parsing '17-08-2012' in DD/MM/YYYY format. Provide format or specify infer_datetime_format=True for consistent parsing.\n",
      "  df.Dt_Customer = pd.to_datetime(df.Dt_Customer)\n",
      "C:\\Users\\Adithya\\AppData\\Local\\Temp\\ipykernel_9104\\2417510565.py:1: UserWarning: Parsing '20-05-2013' in DD/MM/YYYY format. Provide format or specify infer_datetime_format=True for consistent parsing.\n",
      "  df.Dt_Customer = pd.to_datetime(df.Dt_Customer)\n",
      "C:\\Users\\Adithya\\AppData\\Local\\Temp\\ipykernel_9104\\2417510565.py:1: UserWarning: Parsing '16-09-2013' in DD/MM/YYYY format. Provide format or specify infer_datetime_format=True for consistent parsing.\n",
      "  df.Dt_Customer = pd.to_datetime(df.Dt_Customer)\n",
      "C:\\Users\\Adithya\\AppData\\Local\\Temp\\ipykernel_9104\\2417510565.py:1: UserWarning: Parsing '27-10-2013' in DD/MM/YYYY format. Provide format or specify infer_datetime_format=True for consistent parsing.\n",
      "  df.Dt_Customer = pd.to_datetime(df.Dt_Customer)\n",
      "C:\\Users\\Adithya\\AppData\\Local\\Temp\\ipykernel_9104\\2417510565.py:1: UserWarning: Parsing '22-09-2012' in DD/MM/YYYY format. Provide format or specify infer_datetime_format=True for consistent parsing.\n",
      "  df.Dt_Customer = pd.to_datetime(df.Dt_Customer)\n",
      "C:\\Users\\Adithya\\AppData\\Local\\Temp\\ipykernel_9104\\2417510565.py:1: UserWarning: Parsing '13-10-2012' in DD/MM/YYYY format. Provide format or specify infer_datetime_format=True for consistent parsing.\n",
      "  df.Dt_Customer = pd.to_datetime(df.Dt_Customer)\n",
      "C:\\Users\\Adithya\\AppData\\Local\\Temp\\ipykernel_9104\\2417510565.py:1: UserWarning: Parsing '16-10-2012' in DD/MM/YYYY format. Provide format or specify infer_datetime_format=True for consistent parsing.\n",
      "  df.Dt_Customer = pd.to_datetime(df.Dt_Customer)\n",
      "C:\\Users\\Adithya\\AppData\\Local\\Temp\\ipykernel_9104\\2417510565.py:1: UserWarning: Parsing '22-10-2012' in DD/MM/YYYY format. Provide format or specify infer_datetime_format=True for consistent parsing.\n",
      "  df.Dt_Customer = pd.to_datetime(df.Dt_Customer)\n",
      "C:\\Users\\Adithya\\AppData\\Local\\Temp\\ipykernel_9104\\2417510565.py:1: UserWarning: Parsing '22-05-2013' in DD/MM/YYYY format. Provide format or specify infer_datetime_format=True for consistent parsing.\n",
      "  df.Dt_Customer = pd.to_datetime(df.Dt_Customer)\n",
      "C:\\Users\\Adithya\\AppData\\Local\\Temp\\ipykernel_9104\\2417510565.py:1: UserWarning: Parsing '17-06-2014' in DD/MM/YYYY format. Provide format or specify infer_datetime_format=True for consistent parsing.\n",
      "  df.Dt_Customer = pd.to_datetime(df.Dt_Customer)\n",
      "C:\\Users\\Adithya\\AppData\\Local\\Temp\\ipykernel_9104\\2417510565.py:1: UserWarning: Parsing '23-11-2012' in DD/MM/YYYY format. Provide format or specify infer_datetime_format=True for consistent parsing.\n",
      "  df.Dt_Customer = pd.to_datetime(df.Dt_Customer)\n",
      "C:\\Users\\Adithya\\AppData\\Local\\Temp\\ipykernel_9104\\2417510565.py:1: UserWarning: Parsing '14-03-2013' in DD/MM/YYYY format. Provide format or specify infer_datetime_format=True for consistent parsing.\n",
      "  df.Dt_Customer = pd.to_datetime(df.Dt_Customer)\n",
      "C:\\Users\\Adithya\\AppData\\Local\\Temp\\ipykernel_9104\\2417510565.py:1: UserWarning: Parsing '26-06-2014' in DD/MM/YYYY format. Provide format or specify infer_datetime_format=True for consistent parsing.\n",
      "  df.Dt_Customer = pd.to_datetime(df.Dt_Customer)\n",
      "C:\\Users\\Adithya\\AppData\\Local\\Temp\\ipykernel_9104\\2417510565.py:1: UserWarning: Parsing '15-10-2012' in DD/MM/YYYY format. Provide format or specify infer_datetime_format=True for consistent parsing.\n",
      "  df.Dt_Customer = pd.to_datetime(df.Dt_Customer)\n",
      "C:\\Users\\Adithya\\AppData\\Local\\Temp\\ipykernel_9104\\2417510565.py:1: UserWarning: Parsing '19-06-2013' in DD/MM/YYYY format. Provide format or specify infer_datetime_format=True for consistent parsing.\n",
      "  df.Dt_Customer = pd.to_datetime(df.Dt_Customer)\n",
      "C:\\Users\\Adithya\\AppData\\Local\\Temp\\ipykernel_9104\\2417510565.py:1: UserWarning: Parsing '20-03-2014' in DD/MM/YYYY format. Provide format or specify infer_datetime_format=True for consistent parsing.\n",
      "  df.Dt_Customer = pd.to_datetime(df.Dt_Customer)\n",
      "C:\\Users\\Adithya\\AppData\\Local\\Temp\\ipykernel_9104\\2417510565.py:1: UserWarning: Parsing '17-04-2014' in DD/MM/YYYY format. Provide format or specify infer_datetime_format=True for consistent parsing.\n",
      "  df.Dt_Customer = pd.to_datetime(df.Dt_Customer)\n",
      "C:\\Users\\Adithya\\AppData\\Local\\Temp\\ipykernel_9104\\2417510565.py:1: UserWarning: Parsing '29-01-2013' in DD/MM/YYYY format. Provide format or specify infer_datetime_format=True for consistent parsing.\n",
      "  df.Dt_Customer = pd.to_datetime(df.Dt_Customer)\n",
      "C:\\Users\\Adithya\\AppData\\Local\\Temp\\ipykernel_9104\\2417510565.py:1: UserWarning: Parsing '13-06-2013' in DD/MM/YYYY format. Provide format or specify infer_datetime_format=True for consistent parsing.\n",
      "  df.Dt_Customer = pd.to_datetime(df.Dt_Customer)\n",
      "C:\\Users\\Adithya\\AppData\\Local\\Temp\\ipykernel_9104\\2417510565.py:1: UserWarning: Parsing '27-12-2013' in DD/MM/YYYY format. Provide format or specify infer_datetime_format=True for consistent parsing.\n",
      "  df.Dt_Customer = pd.to_datetime(df.Dt_Customer)\n",
      "C:\\Users\\Adithya\\AppData\\Local\\Temp\\ipykernel_9104\\2417510565.py:1: UserWarning: Parsing '31-10-2012' in DD/MM/YYYY format. Provide format or specify infer_datetime_format=True for consistent parsing.\n",
      "  df.Dt_Customer = pd.to_datetime(df.Dt_Customer)\n",
      "C:\\Users\\Adithya\\AppData\\Local\\Temp\\ipykernel_9104\\2417510565.py:1: UserWarning: Parsing '15-01-2014' in DD/MM/YYYY format. Provide format or specify infer_datetime_format=True for consistent parsing.\n",
      "  df.Dt_Customer = pd.to_datetime(df.Dt_Customer)\n",
      "C:\\Users\\Adithya\\AppData\\Local\\Temp\\ipykernel_9104\\2417510565.py:1: UserWarning: Parsing '23-08-2012' in DD/MM/YYYY format. Provide format or specify infer_datetime_format=True for consistent parsing.\n",
      "  df.Dt_Customer = pd.to_datetime(df.Dt_Customer)\n",
      "C:\\Users\\Adithya\\AppData\\Local\\Temp\\ipykernel_9104\\2417510565.py:1: UserWarning: Parsing '13-01-2013' in DD/MM/YYYY format. Provide format or specify infer_datetime_format=True for consistent parsing.\n",
      "  df.Dt_Customer = pd.to_datetime(df.Dt_Customer)\n",
      "C:\\Users\\Adithya\\AppData\\Local\\Temp\\ipykernel_9104\\2417510565.py:1: UserWarning: Parsing '17-03-2014' in DD/MM/YYYY format. Provide format or specify infer_datetime_format=True for consistent parsing.\n",
      "  df.Dt_Customer = pd.to_datetime(df.Dt_Customer)\n",
      "C:\\Users\\Adithya\\AppData\\Local\\Temp\\ipykernel_9104\\2417510565.py:1: UserWarning: Parsing '13-04-2014' in DD/MM/YYYY format. Provide format or specify infer_datetime_format=True for consistent parsing.\n",
      "  df.Dt_Customer = pd.to_datetime(df.Dt_Customer)\n",
      "C:\\Users\\Adithya\\AppData\\Local\\Temp\\ipykernel_9104\\2417510565.py:1: UserWarning: Parsing '18-09-2012' in DD/MM/YYYY format. Provide format or specify infer_datetime_format=True for consistent parsing.\n",
      "  df.Dt_Customer = pd.to_datetime(df.Dt_Customer)\n",
      "C:\\Users\\Adithya\\AppData\\Local\\Temp\\ipykernel_9104\\2417510565.py:1: UserWarning: Parsing '27-04-2013' in DD/MM/YYYY format. Provide format or specify infer_datetime_format=True for consistent parsing.\n",
      "  df.Dt_Customer = pd.to_datetime(df.Dt_Customer)\n",
      "C:\\Users\\Adithya\\AppData\\Local\\Temp\\ipykernel_9104\\2417510565.py:1: UserWarning: Parsing '18-01-2014' in DD/MM/YYYY format. Provide format or specify infer_datetime_format=True for consistent parsing.\n",
      "  df.Dt_Customer = pd.to_datetime(df.Dt_Customer)\n",
      "C:\\Users\\Adithya\\AppData\\Local\\Temp\\ipykernel_9104\\2417510565.py:1: UserWarning: Parsing '17-12-2013' in DD/MM/YYYY format. Provide format or specify infer_datetime_format=True for consistent parsing.\n",
      "  df.Dt_Customer = pd.to_datetime(df.Dt_Customer)\n",
      "C:\\Users\\Adithya\\AppData\\Local\\Temp\\ipykernel_9104\\2417510565.py:1: UserWarning: Parsing '29-07-2013' in DD/MM/YYYY format. Provide format or specify infer_datetime_format=True for consistent parsing.\n",
      "  df.Dt_Customer = pd.to_datetime(df.Dt_Customer)\n",
      "C:\\Users\\Adithya\\AppData\\Local\\Temp\\ipykernel_9104\\2417510565.py:1: UserWarning: Parsing '14-08-2012' in DD/MM/YYYY format. Provide format or specify infer_datetime_format=True for consistent parsing.\n",
      "  df.Dt_Customer = pd.to_datetime(df.Dt_Customer)\n",
      "C:\\Users\\Adithya\\AppData\\Local\\Temp\\ipykernel_9104\\2417510565.py:1: UserWarning: Parsing '13-02-2013' in DD/MM/YYYY format. Provide format or specify infer_datetime_format=True for consistent parsing.\n",
      "  df.Dt_Customer = pd.to_datetime(df.Dt_Customer)\n",
      "C:\\Users\\Adithya\\AppData\\Local\\Temp\\ipykernel_9104\\2417510565.py:1: UserWarning: Parsing '16-04-2013' in DD/MM/YYYY format. Provide format or specify infer_datetime_format=True for consistent parsing.\n",
      "  df.Dt_Customer = pd.to_datetime(df.Dt_Customer)\n",
      "C:\\Users\\Adithya\\AppData\\Local\\Temp\\ipykernel_9104\\2417510565.py:1: UserWarning: Parsing '30-06-2013' in DD/MM/YYYY format. Provide format or specify infer_datetime_format=True for consistent parsing.\n",
      "  df.Dt_Customer = pd.to_datetime(df.Dt_Customer)\n",
      "C:\\Users\\Adithya\\AppData\\Local\\Temp\\ipykernel_9104\\2417510565.py:1: UserWarning: Parsing '15-08-2013' in DD/MM/YYYY format. Provide format or specify infer_datetime_format=True for consistent parsing.\n",
      "  df.Dt_Customer = pd.to_datetime(df.Dt_Customer)\n",
      "C:\\Users\\Adithya\\AppData\\Local\\Temp\\ipykernel_9104\\2417510565.py:1: UserWarning: Parsing '16-06-2014' in DD/MM/YYYY format. Provide format or specify infer_datetime_format=True for consistent parsing.\n",
      "  df.Dt_Customer = pd.to_datetime(df.Dt_Customer)\n",
      "C:\\Users\\Adithya\\AppData\\Local\\Temp\\ipykernel_9104\\2417510565.py:1: UserWarning: Parsing '25-12-2012' in DD/MM/YYYY format. Provide format or specify infer_datetime_format=True for consistent parsing.\n",
      "  df.Dt_Customer = pd.to_datetime(df.Dt_Customer)\n",
      "C:\\Users\\Adithya\\AppData\\Local\\Temp\\ipykernel_9104\\2417510565.py:1: UserWarning: Parsing '27-10-2012' in DD/MM/YYYY format. Provide format or specify infer_datetime_format=True for consistent parsing.\n",
      "  df.Dt_Customer = pd.to_datetime(df.Dt_Customer)\n",
      "C:\\Users\\Adithya\\AppData\\Local\\Temp\\ipykernel_9104\\2417510565.py:1: UserWarning: Parsing '22-12-2012' in DD/MM/YYYY format. Provide format or specify infer_datetime_format=True for consistent parsing.\n",
      "  df.Dt_Customer = pd.to_datetime(df.Dt_Customer)\n",
      "C:\\Users\\Adithya\\AppData\\Local\\Temp\\ipykernel_9104\\2417510565.py:1: UserWarning: Parsing '29-11-2013' in DD/MM/YYYY format. Provide format or specify infer_datetime_format=True for consistent parsing.\n",
      "  df.Dt_Customer = pd.to_datetime(df.Dt_Customer)\n",
      "C:\\Users\\Adithya\\AppData\\Local\\Temp\\ipykernel_9104\\2417510565.py:1: UserWarning: Parsing '28-09-2012' in DD/MM/YYYY format. Provide format or specify infer_datetime_format=True for consistent parsing.\n",
      "  df.Dt_Customer = pd.to_datetime(df.Dt_Customer)\n",
      "C:\\Users\\Adithya\\AppData\\Local\\Temp\\ipykernel_9104\\2417510565.py:1: UserWarning: Parsing '22-03-2014' in DD/MM/YYYY format. Provide format or specify infer_datetime_format=True for consistent parsing.\n",
      "  df.Dt_Customer = pd.to_datetime(df.Dt_Customer)\n",
      "C:\\Users\\Adithya\\AppData\\Local\\Temp\\ipykernel_9104\\2417510565.py:1: UserWarning: Parsing '28-12-2012' in DD/MM/YYYY format. Provide format or specify infer_datetime_format=True for consistent parsing.\n",
      "  df.Dt_Customer = pd.to_datetime(df.Dt_Customer)\n",
      "C:\\Users\\Adithya\\AppData\\Local\\Temp\\ipykernel_9104\\2417510565.py:1: UserWarning: Parsing '21-08-2012' in DD/MM/YYYY format. Provide format or specify infer_datetime_format=True for consistent parsing.\n",
      "  df.Dt_Customer = pd.to_datetime(df.Dt_Customer)\n",
      "C:\\Users\\Adithya\\AppData\\Local\\Temp\\ipykernel_9104\\2417510565.py:1: UserWarning: Parsing '16-03-2013' in DD/MM/YYYY format. Provide format or specify infer_datetime_format=True for consistent parsing.\n",
      "  df.Dt_Customer = pd.to_datetime(df.Dt_Customer)\n",
      "C:\\Users\\Adithya\\AppData\\Local\\Temp\\ipykernel_9104\\2417510565.py:1: UserWarning: Parsing '17-11-2012' in DD/MM/YYYY format. Provide format or specify infer_datetime_format=True for consistent parsing.\n",
      "  df.Dt_Customer = pd.to_datetime(df.Dt_Customer)\n",
      "C:\\Users\\Adithya\\AppData\\Local\\Temp\\ipykernel_9104\\2417510565.py:1: UserWarning: Parsing '22-04-2014' in DD/MM/YYYY format. Provide format or specify infer_datetime_format=True for consistent parsing.\n",
      "  df.Dt_Customer = pd.to_datetime(df.Dt_Customer)\n",
      "C:\\Users\\Adithya\\AppData\\Local\\Temp\\ipykernel_9104\\2417510565.py:1: UserWarning: Parsing '22-06-2013' in DD/MM/YYYY format. Provide format or specify infer_datetime_format=True for consistent parsing.\n",
      "  df.Dt_Customer = pd.to_datetime(df.Dt_Customer)\n",
      "C:\\Users\\Adithya\\AppData\\Local\\Temp\\ipykernel_9104\\2417510565.py:1: UserWarning: Parsing '18-08-2012' in DD/MM/YYYY format. Provide format or specify infer_datetime_format=True for consistent parsing.\n",
      "  df.Dt_Customer = pd.to_datetime(df.Dt_Customer)\n",
      "C:\\Users\\Adithya\\AppData\\Local\\Temp\\ipykernel_9104\\2417510565.py:1: UserWarning: Parsing '30-12-2012' in DD/MM/YYYY format. Provide format or specify infer_datetime_format=True for consistent parsing.\n",
      "  df.Dt_Customer = pd.to_datetime(df.Dt_Customer)\n",
      "C:\\Users\\Adithya\\AppData\\Local\\Temp\\ipykernel_9104\\2417510565.py:1: UserWarning: Parsing '14-06-2013' in DD/MM/YYYY format. Provide format or specify infer_datetime_format=True for consistent parsing.\n",
      "  df.Dt_Customer = pd.to_datetime(df.Dt_Customer)\n",
      "C:\\Users\\Adithya\\AppData\\Local\\Temp\\ipykernel_9104\\2417510565.py:1: UserWarning: Parsing '16-10-2013' in DD/MM/YYYY format. Provide format or specify infer_datetime_format=True for consistent parsing.\n",
      "  df.Dt_Customer = pd.to_datetime(df.Dt_Customer)\n",
      "C:\\Users\\Adithya\\AppData\\Local\\Temp\\ipykernel_9104\\2417510565.py:1: UserWarning: Parsing '30-08-2012' in DD/MM/YYYY format. Provide format or specify infer_datetime_format=True for consistent parsing.\n",
      "  df.Dt_Customer = pd.to_datetime(df.Dt_Customer)\n",
      "C:\\Users\\Adithya\\AppData\\Local\\Temp\\ipykernel_9104\\2417510565.py:1: UserWarning: Parsing '18-04-2013' in DD/MM/YYYY format. Provide format or specify infer_datetime_format=True for consistent parsing.\n",
      "  df.Dt_Customer = pd.to_datetime(df.Dt_Customer)\n",
      "C:\\Users\\Adithya\\AppData\\Local\\Temp\\ipykernel_9104\\2417510565.py:1: UserWarning: Parsing '15-09-2012' in DD/MM/YYYY format. Provide format or specify infer_datetime_format=True for consistent parsing.\n",
      "  df.Dt_Customer = pd.to_datetime(df.Dt_Customer)\n",
      "C:\\Users\\Adithya\\AppData\\Local\\Temp\\ipykernel_9104\\2417510565.py:1: UserWarning: Parsing '27-09-2012' in DD/MM/YYYY format. Provide format or specify infer_datetime_format=True for consistent parsing.\n",
      "  df.Dt_Customer = pd.to_datetime(df.Dt_Customer)\n",
      "C:\\Users\\Adithya\\AppData\\Local\\Temp\\ipykernel_9104\\2417510565.py:1: UserWarning: Parsing '22-10-2013' in DD/MM/YYYY format. Provide format or specify infer_datetime_format=True for consistent parsing.\n",
      "  df.Dt_Customer = pd.to_datetime(df.Dt_Customer)\n",
      "C:\\Users\\Adithya\\AppData\\Local\\Temp\\ipykernel_9104\\2417510565.py:1: UserWarning: Parsing '30-05-2014' in DD/MM/YYYY format. Provide format or specify infer_datetime_format=True for consistent parsing.\n",
      "  df.Dt_Customer = pd.to_datetime(df.Dt_Customer)\n",
      "C:\\Users\\Adithya\\AppData\\Local\\Temp\\ipykernel_9104\\2417510565.py:1: UserWarning: Parsing '17-10-2012' in DD/MM/YYYY format. Provide format or specify infer_datetime_format=True for consistent parsing.\n",
      "  df.Dt_Customer = pd.to_datetime(df.Dt_Customer)\n",
      "C:\\Users\\Adithya\\AppData\\Local\\Temp\\ipykernel_9104\\2417510565.py:1: UserWarning: Parsing '30-03-2013' in DD/MM/YYYY format. Provide format or specify infer_datetime_format=True for consistent parsing.\n",
      "  df.Dt_Customer = pd.to_datetime(df.Dt_Customer)\n",
      "C:\\Users\\Adithya\\AppData\\Local\\Temp\\ipykernel_9104\\2417510565.py:1: UserWarning: Parsing '23-01-2013' in DD/MM/YYYY format. Provide format or specify infer_datetime_format=True for consistent parsing.\n",
      "  df.Dt_Customer = pd.to_datetime(df.Dt_Customer)\n",
      "C:\\Users\\Adithya\\AppData\\Local\\Temp\\ipykernel_9104\\2417510565.py:1: UserWarning: Parsing '20-11-2013' in DD/MM/YYYY format. Provide format or specify infer_datetime_format=True for consistent parsing.\n",
      "  df.Dt_Customer = pd.to_datetime(df.Dt_Customer)\n",
      "C:\\Users\\Adithya\\AppData\\Local\\Temp\\ipykernel_9104\\2417510565.py:1: UserWarning: Parsing '14-02-2014' in DD/MM/YYYY format. Provide format or specify infer_datetime_format=True for consistent parsing.\n",
      "  df.Dt_Customer = pd.to_datetime(df.Dt_Customer)\n",
      "C:\\Users\\Adithya\\AppData\\Local\\Temp\\ipykernel_9104\\2417510565.py:1: UserWarning: Parsing '22-02-2013' in DD/MM/YYYY format. Provide format or specify infer_datetime_format=True for consistent parsing.\n",
      "  df.Dt_Customer = pd.to_datetime(df.Dt_Customer)\n",
      "C:\\Users\\Adithya\\AppData\\Local\\Temp\\ipykernel_9104\\2417510565.py:1: UserWarning: Parsing '13-04-2013' in DD/MM/YYYY format. Provide format or specify infer_datetime_format=True for consistent parsing.\n",
      "  df.Dt_Customer = pd.to_datetime(df.Dt_Customer)\n",
      "C:\\Users\\Adithya\\AppData\\Local\\Temp\\ipykernel_9104\\2417510565.py:1: UserWarning: Parsing '25-04-2013' in DD/MM/YYYY format. Provide format or specify infer_datetime_format=True for consistent parsing.\n",
      "  df.Dt_Customer = pd.to_datetime(df.Dt_Customer)\n",
      "C:\\Users\\Adithya\\AppData\\Local\\Temp\\ipykernel_9104\\2417510565.py:1: UserWarning: Parsing '25-11-2013' in DD/MM/YYYY format. Provide format or specify infer_datetime_format=True for consistent parsing.\n",
      "  df.Dt_Customer = pd.to_datetime(df.Dt_Customer)\n",
      "C:\\Users\\Adithya\\AppData\\Local\\Temp\\ipykernel_9104\\2417510565.py:1: UserWarning: Parsing '21-06-2013' in DD/MM/YYYY format. Provide format or specify infer_datetime_format=True for consistent parsing.\n",
      "  df.Dt_Customer = pd.to_datetime(df.Dt_Customer)\n",
      "C:\\Users\\Adithya\\AppData\\Local\\Temp\\ipykernel_9104\\2417510565.py:1: UserWarning: Parsing '21-12-2013' in DD/MM/YYYY format. Provide format or specify infer_datetime_format=True for consistent parsing.\n",
      "  df.Dt_Customer = pd.to_datetime(df.Dt_Customer)\n",
      "C:\\Users\\Adithya\\AppData\\Local\\Temp\\ipykernel_9104\\2417510565.py:1: UserWarning: Parsing '22-08-2013' in DD/MM/YYYY format. Provide format or specify infer_datetime_format=True for consistent parsing.\n",
      "  df.Dt_Customer = pd.to_datetime(df.Dt_Customer)\n",
      "C:\\Users\\Adithya\\AppData\\Local\\Temp\\ipykernel_9104\\2417510565.py:1: UserWarning: Parsing '20-12-2013' in DD/MM/YYYY format. Provide format or specify infer_datetime_format=True for consistent parsing.\n",
      "  df.Dt_Customer = pd.to_datetime(df.Dt_Customer)\n",
      "C:\\Users\\Adithya\\AppData\\Local\\Temp\\ipykernel_9104\\2417510565.py:1: UserWarning: Parsing '22-12-2013' in DD/MM/YYYY format. Provide format or specify infer_datetime_format=True for consistent parsing.\n",
      "  df.Dt_Customer = pd.to_datetime(df.Dt_Customer)\n",
      "C:\\Users\\Adithya\\AppData\\Local\\Temp\\ipykernel_9104\\2417510565.py:1: UserWarning: Parsing '16-02-2013' in DD/MM/YYYY format. Provide format or specify infer_datetime_format=True for consistent parsing.\n",
      "  df.Dt_Customer = pd.to_datetime(df.Dt_Customer)\n",
      "C:\\Users\\Adithya\\AppData\\Local\\Temp\\ipykernel_9104\\2417510565.py:1: UserWarning: Parsing '20-08-2012' in DD/MM/YYYY format. Provide format or specify infer_datetime_format=True for consistent parsing.\n",
      "  df.Dt_Customer = pd.to_datetime(df.Dt_Customer)\n",
      "C:\\Users\\Adithya\\AppData\\Local\\Temp\\ipykernel_9104\\2417510565.py:1: UserWarning: Parsing '25-05-2014' in DD/MM/YYYY format. Provide format or specify infer_datetime_format=True for consistent parsing.\n",
      "  df.Dt_Customer = pd.to_datetime(df.Dt_Customer)\n",
      "C:\\Users\\Adithya\\AppData\\Local\\Temp\\ipykernel_9104\\2417510565.py:1: UserWarning: Parsing '25-09-2012' in DD/MM/YYYY format. Provide format or specify infer_datetime_format=True for consistent parsing.\n",
      "  df.Dt_Customer = pd.to_datetime(df.Dt_Customer)\n",
      "C:\\Users\\Adithya\\AppData\\Local\\Temp\\ipykernel_9104\\2417510565.py:1: UserWarning: Parsing '22-09-2013' in DD/MM/YYYY format. Provide format or specify infer_datetime_format=True for consistent parsing.\n",
      "  df.Dt_Customer = pd.to_datetime(df.Dt_Customer)\n",
      "C:\\Users\\Adithya\\AppData\\Local\\Temp\\ipykernel_9104\\2417510565.py:1: UserWarning: Parsing '28-01-2014' in DD/MM/YYYY format. Provide format or specify infer_datetime_format=True for consistent parsing.\n",
      "  df.Dt_Customer = pd.to_datetime(df.Dt_Customer)\n",
      "C:\\Users\\Adithya\\AppData\\Local\\Temp\\ipykernel_9104\\2417510565.py:1: UserWarning: Parsing '23-04-2013' in DD/MM/YYYY format. Provide format or specify infer_datetime_format=True for consistent parsing.\n",
      "  df.Dt_Customer = pd.to_datetime(df.Dt_Customer)\n",
      "C:\\Users\\Adithya\\AppData\\Local\\Temp\\ipykernel_9104\\2417510565.py:1: UserWarning: Parsing '15-08-2012' in DD/MM/YYYY format. Provide format or specify infer_datetime_format=True for consistent parsing.\n",
      "  df.Dt_Customer = pd.to_datetime(df.Dt_Customer)\n",
      "C:\\Users\\Adithya\\AppData\\Local\\Temp\\ipykernel_9104\\2417510565.py:1: UserWarning: Parsing '27-03-2013' in DD/MM/YYYY format. Provide format or specify infer_datetime_format=True for consistent parsing.\n",
      "  df.Dt_Customer = pd.to_datetime(df.Dt_Customer)\n",
      "C:\\Users\\Adithya\\AppData\\Local\\Temp\\ipykernel_9104\\2417510565.py:1: UserWarning: Parsing '18-05-2014' in DD/MM/YYYY format. Provide format or specify infer_datetime_format=True for consistent parsing.\n",
      "  df.Dt_Customer = pd.to_datetime(df.Dt_Customer)\n",
      "C:\\Users\\Adithya\\AppData\\Local\\Temp\\ipykernel_9104\\2417510565.py:1: UserWarning: Parsing '23-10-2012' in DD/MM/YYYY format. Provide format or specify infer_datetime_format=True for consistent parsing.\n",
      "  df.Dt_Customer = pd.to_datetime(df.Dt_Customer)\n",
      "C:\\Users\\Adithya\\AppData\\Local\\Temp\\ipykernel_9104\\2417510565.py:1: UserWarning: Parsing '30-12-2013' in DD/MM/YYYY format. Provide format or specify infer_datetime_format=True for consistent parsing.\n",
      "  df.Dt_Customer = pd.to_datetime(df.Dt_Customer)\n",
      "C:\\Users\\Adithya\\AppData\\Local\\Temp\\ipykernel_9104\\2417510565.py:1: UserWarning: Parsing '19-08-2012' in DD/MM/YYYY format. Provide format or specify infer_datetime_format=True for consistent parsing.\n",
      "  df.Dt_Customer = pd.to_datetime(df.Dt_Customer)\n",
      "C:\\Users\\Adithya\\AppData\\Local\\Temp\\ipykernel_9104\\2417510565.py:1: UserWarning: Parsing '30-10-2013' in DD/MM/YYYY format. Provide format or specify infer_datetime_format=True for consistent parsing.\n",
      "  df.Dt_Customer = pd.to_datetime(df.Dt_Customer)\n",
      "C:\\Users\\Adithya\\AppData\\Local\\Temp\\ipykernel_9104\\2417510565.py:1: UserWarning: Parsing '14-09-2012' in DD/MM/YYYY format. Provide format or specify infer_datetime_format=True for consistent parsing.\n",
      "  df.Dt_Customer = pd.to_datetime(df.Dt_Customer)\n",
      "C:\\Users\\Adithya\\AppData\\Local\\Temp\\ipykernel_9104\\2417510565.py:1: UserWarning: Parsing '26-06-2013' in DD/MM/YYYY format. Provide format or specify infer_datetime_format=True for consistent parsing.\n",
      "  df.Dt_Customer = pd.to_datetime(df.Dt_Customer)\n",
      "C:\\Users\\Adithya\\AppData\\Local\\Temp\\ipykernel_9104\\2417510565.py:1: UserWarning: Parsing '26-01-2014' in DD/MM/YYYY format. Provide format or specify infer_datetime_format=True for consistent parsing.\n",
      "  df.Dt_Customer = pd.to_datetime(df.Dt_Customer)\n",
      "C:\\Users\\Adithya\\AppData\\Local\\Temp\\ipykernel_9104\\2417510565.py:1: UserWarning: Parsing '24-09-2012' in DD/MM/YYYY format. Provide format or specify infer_datetime_format=True for consistent parsing.\n",
      "  df.Dt_Customer = pd.to_datetime(df.Dt_Customer)\n",
      "C:\\Users\\Adithya\\AppData\\Local\\Temp\\ipykernel_9104\\2417510565.py:1: UserWarning: Parsing '27-11-2013' in DD/MM/YYYY format. Provide format or specify infer_datetime_format=True for consistent parsing.\n",
      "  df.Dt_Customer = pd.to_datetime(df.Dt_Customer)\n",
      "C:\\Users\\Adithya\\AppData\\Local\\Temp\\ipykernel_9104\\2417510565.py:1: UserWarning: Parsing '29-12-2012' in DD/MM/YYYY format. Provide format or specify infer_datetime_format=True for consistent parsing.\n",
      "  df.Dt_Customer = pd.to_datetime(df.Dt_Customer)\n",
      "C:\\Users\\Adithya\\AppData\\Local\\Temp\\ipykernel_9104\\2417510565.py:1: UserWarning: Parsing '24-08-2012' in DD/MM/YYYY format. Provide format or specify infer_datetime_format=True for consistent parsing.\n",
      "  df.Dt_Customer = pd.to_datetime(df.Dt_Customer)\n",
      "C:\\Users\\Adithya\\AppData\\Local\\Temp\\ipykernel_9104\\2417510565.py:1: UserWarning: Parsing '19-07-2013' in DD/MM/YYYY format. Provide format or specify infer_datetime_format=True for consistent parsing.\n",
      "  df.Dt_Customer = pd.to_datetime(df.Dt_Customer)\n",
      "C:\\Users\\Adithya\\AppData\\Local\\Temp\\ipykernel_9104\\2417510565.py:1: UserWarning: Parsing '25-05-2013' in DD/MM/YYYY format. Provide format or specify infer_datetime_format=True for consistent parsing.\n",
      "  df.Dt_Customer = pd.to_datetime(df.Dt_Customer)\n",
      "C:\\Users\\Adithya\\AppData\\Local\\Temp\\ipykernel_9104\\2417510565.py:1: UserWarning: Parsing '20-10-2013' in DD/MM/YYYY format. Provide format or specify infer_datetime_format=True for consistent parsing.\n",
      "  df.Dt_Customer = pd.to_datetime(df.Dt_Customer)\n",
      "C:\\Users\\Adithya\\AppData\\Local\\Temp\\ipykernel_9104\\2417510565.py:1: UserWarning: Parsing '14-04-2013' in DD/MM/YYYY format. Provide format or specify infer_datetime_format=True for consistent parsing.\n",
      "  df.Dt_Customer = pd.to_datetime(df.Dt_Customer)\n",
      "C:\\Users\\Adithya\\AppData\\Local\\Temp\\ipykernel_9104\\2417510565.py:1: UserWarning: Parsing '23-08-2013' in DD/MM/YYYY format. Provide format or specify infer_datetime_format=True for consistent parsing.\n",
      "  df.Dt_Customer = pd.to_datetime(df.Dt_Customer)\n",
      "C:\\Users\\Adithya\\AppData\\Local\\Temp\\ipykernel_9104\\2417510565.py:1: UserWarning: Parsing '27-01-2014' in DD/MM/YYYY format. Provide format or specify infer_datetime_format=True for consistent parsing.\n",
      "  df.Dt_Customer = pd.to_datetime(df.Dt_Customer)\n",
      "C:\\Users\\Adithya\\AppData\\Local\\Temp\\ipykernel_9104\\2417510565.py:1: UserWarning: Parsing '16-08-2013' in DD/MM/YYYY format. Provide format or specify infer_datetime_format=True for consistent parsing.\n",
      "  df.Dt_Customer = pd.to_datetime(df.Dt_Customer)\n",
      "C:\\Users\\Adithya\\AppData\\Local\\Temp\\ipykernel_9104\\2417510565.py:1: UserWarning: Parsing '30-09-2012' in DD/MM/YYYY format. Provide format or specify infer_datetime_format=True for consistent parsing.\n",
      "  df.Dt_Customer = pd.to_datetime(df.Dt_Customer)\n",
      "C:\\Users\\Adithya\\AppData\\Local\\Temp\\ipykernel_9104\\2417510565.py:1: UserWarning: Parsing '15-02-2013' in DD/MM/YYYY format. Provide format or specify infer_datetime_format=True for consistent parsing.\n",
      "  df.Dt_Customer = pd.to_datetime(df.Dt_Customer)\n",
      "C:\\Users\\Adithya\\AppData\\Local\\Temp\\ipykernel_9104\\2417510565.py:1: UserWarning: Parsing '18-09-2013' in DD/MM/YYYY format. Provide format or specify infer_datetime_format=True for consistent parsing.\n",
      "  df.Dt_Customer = pd.to_datetime(df.Dt_Customer)\n",
      "C:\\Users\\Adithya\\AppData\\Local\\Temp\\ipykernel_9104\\2417510565.py:1: UserWarning: Parsing '18-06-2014' in DD/MM/YYYY format. Provide format or specify infer_datetime_format=True for consistent parsing.\n",
      "  df.Dt_Customer = pd.to_datetime(df.Dt_Customer)\n",
      "C:\\Users\\Adithya\\AppData\\Local\\Temp\\ipykernel_9104\\2417510565.py:1: UserWarning: Parsing '24-04-2013' in DD/MM/YYYY format. Provide format or specify infer_datetime_format=True for consistent parsing.\n",
      "  df.Dt_Customer = pd.to_datetime(df.Dt_Customer)\n",
      "C:\\Users\\Adithya\\AppData\\Local\\Temp\\ipykernel_9104\\2417510565.py:1: UserWarning: Parsing '17-06-2013' in DD/MM/YYYY format. Provide format or specify infer_datetime_format=True for consistent parsing.\n",
      "  df.Dt_Customer = pd.to_datetime(df.Dt_Customer)\n",
      "C:\\Users\\Adithya\\AppData\\Local\\Temp\\ipykernel_9104\\2417510565.py:1: UserWarning: Parsing '15-02-2014' in DD/MM/YYYY format. Provide format or specify infer_datetime_format=True for consistent parsing.\n",
      "  df.Dt_Customer = pd.to_datetime(df.Dt_Customer)\n",
      "C:\\Users\\Adithya\\AppData\\Local\\Temp\\ipykernel_9104\\2417510565.py:1: UserWarning: Parsing '23-12-2013' in DD/MM/YYYY format. Provide format or specify infer_datetime_format=True for consistent parsing.\n",
      "  df.Dt_Customer = pd.to_datetime(df.Dt_Customer)\n",
      "C:\\Users\\Adithya\\AppData\\Local\\Temp\\ipykernel_9104\\2417510565.py:1: UserWarning: Parsing '28-11-2012' in DD/MM/YYYY format. Provide format or specify infer_datetime_format=True for consistent parsing.\n",
      "  df.Dt_Customer = pd.to_datetime(df.Dt_Customer)\n",
      "C:\\Users\\Adithya\\AppData\\Local\\Temp\\ipykernel_9104\\2417510565.py:1: UserWarning: Parsing '29-03-2014' in DD/MM/YYYY format. Provide format or specify infer_datetime_format=True for consistent parsing.\n",
      "  df.Dt_Customer = pd.to_datetime(df.Dt_Customer)\n",
      "C:\\Users\\Adithya\\AppData\\Local\\Temp\\ipykernel_9104\\2417510565.py:1: UserWarning: Parsing '16-06-2013' in DD/MM/YYYY format. Provide format or specify infer_datetime_format=True for consistent parsing.\n",
      "  df.Dt_Customer = pd.to_datetime(df.Dt_Customer)\n",
      "C:\\Users\\Adithya\\AppData\\Local\\Temp\\ipykernel_9104\\2417510565.py:1: UserWarning: Parsing '25-06-2013' in DD/MM/YYYY format. Provide format or specify infer_datetime_format=True for consistent parsing.\n",
      "  df.Dt_Customer = pd.to_datetime(df.Dt_Customer)\n",
      "C:\\Users\\Adithya\\AppData\\Local\\Temp\\ipykernel_9104\\2417510565.py:1: UserWarning: Parsing '13-09-2013' in DD/MM/YYYY format. Provide format or specify infer_datetime_format=True for consistent parsing.\n",
      "  df.Dt_Customer = pd.to_datetime(df.Dt_Customer)\n",
      "C:\\Users\\Adithya\\AppData\\Local\\Temp\\ipykernel_9104\\2417510565.py:1: UserWarning: Parsing '31-01-2013' in DD/MM/YYYY format. Provide format or specify infer_datetime_format=True for consistent parsing.\n",
      "  df.Dt_Customer = pd.to_datetime(df.Dt_Customer)\n",
      "C:\\Users\\Adithya\\AppData\\Local\\Temp\\ipykernel_9104\\2417510565.py:1: UserWarning: Parsing '15-04-2013' in DD/MM/YYYY format. Provide format or specify infer_datetime_format=True for consistent parsing.\n",
      "  df.Dt_Customer = pd.to_datetime(df.Dt_Customer)\n",
      "C:\\Users\\Adithya\\AppData\\Local\\Temp\\ipykernel_9104\\2417510565.py:1: UserWarning: Parsing '18-04-2014' in DD/MM/YYYY format. Provide format or specify infer_datetime_format=True for consistent parsing.\n",
      "  df.Dt_Customer = pd.to_datetime(df.Dt_Customer)\n",
      "C:\\Users\\Adithya\\AppData\\Local\\Temp\\ipykernel_9104\\2417510565.py:1: UserWarning: Parsing '23-09-2012' in DD/MM/YYYY format. Provide format or specify infer_datetime_format=True for consistent parsing.\n",
      "  df.Dt_Customer = pd.to_datetime(df.Dt_Customer)\n",
      "C:\\Users\\Adithya\\AppData\\Local\\Temp\\ipykernel_9104\\2417510565.py:1: UserWarning: Parsing '14-09-2013' in DD/MM/YYYY format. Provide format or specify infer_datetime_format=True for consistent parsing.\n",
      "  df.Dt_Customer = pd.to_datetime(df.Dt_Customer)\n",
      "C:\\Users\\Adithya\\AppData\\Local\\Temp\\ipykernel_9104\\2417510565.py:1: UserWarning: Parsing '26-10-2012' in DD/MM/YYYY format. Provide format or specify infer_datetime_format=True for consistent parsing.\n",
      "  df.Dt_Customer = pd.to_datetime(df.Dt_Customer)\n",
      "C:\\Users\\Adithya\\AppData\\Local\\Temp\\ipykernel_9104\\2417510565.py:1: UserWarning: Parsing '19-10-2013' in DD/MM/YYYY format. Provide format or specify infer_datetime_format=True for consistent parsing.\n",
      "  df.Dt_Customer = pd.to_datetime(df.Dt_Customer)\n",
      "C:\\Users\\Adithya\\AppData\\Local\\Temp\\ipykernel_9104\\2417510565.py:1: UserWarning: Parsing '21-02-2013' in DD/MM/YYYY format. Provide format or specify infer_datetime_format=True for consistent parsing.\n",
      "  df.Dt_Customer = pd.to_datetime(df.Dt_Customer)\n",
      "C:\\Users\\Adithya\\AppData\\Local\\Temp\\ipykernel_9104\\2417510565.py:1: UserWarning: Parsing '17-09-2013' in DD/MM/YYYY format. Provide format or specify infer_datetime_format=True for consistent parsing.\n",
      "  df.Dt_Customer = pd.to_datetime(df.Dt_Customer)\n",
      "C:\\Users\\Adithya\\AppData\\Local\\Temp\\ipykernel_9104\\2417510565.py:1: UserWarning: Parsing '26-01-2013' in DD/MM/YYYY format. Provide format or specify infer_datetime_format=True for consistent parsing.\n",
      "  df.Dt_Customer = pd.to_datetime(df.Dt_Customer)\n",
      "C:\\Users\\Adithya\\AppData\\Local\\Temp\\ipykernel_9104\\2417510565.py:1: UserWarning: Parsing '19-08-2013' in DD/MM/YYYY format. Provide format or specify infer_datetime_format=True for consistent parsing.\n",
      "  df.Dt_Customer = pd.to_datetime(df.Dt_Customer)\n",
      "C:\\Users\\Adithya\\AppData\\Local\\Temp\\ipykernel_9104\\2417510565.py:1: UserWarning: Parsing '18-07-2013' in DD/MM/YYYY format. Provide format or specify infer_datetime_format=True for consistent parsing.\n",
      "  df.Dt_Customer = pd.to_datetime(df.Dt_Customer)\n",
      "C:\\Users\\Adithya\\AppData\\Local\\Temp\\ipykernel_9104\\2417510565.py:1: UserWarning: Parsing '26-07-2013' in DD/MM/YYYY format. Provide format or specify infer_datetime_format=True for consistent parsing.\n",
      "  df.Dt_Customer = pd.to_datetime(df.Dt_Customer)\n",
      "C:\\Users\\Adithya\\AppData\\Local\\Temp\\ipykernel_9104\\2417510565.py:1: UserWarning: Parsing '14-07-2013' in DD/MM/YYYY format. Provide format or specify infer_datetime_format=True for consistent parsing.\n",
      "  df.Dt_Customer = pd.to_datetime(df.Dt_Customer)\n",
      "C:\\Users\\Adithya\\AppData\\Local\\Temp\\ipykernel_9104\\2417510565.py:1: UserWarning: Parsing '28-12-2013' in DD/MM/YYYY format. Provide format or specify infer_datetime_format=True for consistent parsing.\n",
      "  df.Dt_Customer = pd.to_datetime(df.Dt_Customer)\n",
      "C:\\Users\\Adithya\\AppData\\Local\\Temp\\ipykernel_9104\\2417510565.py:1: UserWarning: Parsing '20-01-2013' in DD/MM/YYYY format. Provide format or specify infer_datetime_format=True for consistent parsing.\n",
      "  df.Dt_Customer = pd.to_datetime(df.Dt_Customer)\n",
      "C:\\Users\\Adithya\\AppData\\Local\\Temp\\ipykernel_9104\\2417510565.py:1: UserWarning: Parsing '21-09-2012' in DD/MM/YYYY format. Provide format or specify infer_datetime_format=True for consistent parsing.\n",
      "  df.Dt_Customer = pd.to_datetime(df.Dt_Customer)\n",
      "C:\\Users\\Adithya\\AppData\\Local\\Temp\\ipykernel_9104\\2417510565.py:1: UserWarning: Parsing '18-12-2012' in DD/MM/YYYY format. Provide format or specify infer_datetime_format=True for consistent parsing.\n",
      "  df.Dt_Customer = pd.to_datetime(df.Dt_Customer)\n",
      "C:\\Users\\Adithya\\AppData\\Local\\Temp\\ipykernel_9104\\2417510565.py:1: UserWarning: Parsing '19-11-2013' in DD/MM/YYYY format. Provide format or specify infer_datetime_format=True for consistent parsing.\n",
      "  df.Dt_Customer = pd.to_datetime(df.Dt_Customer)\n",
      "C:\\Users\\Adithya\\AppData\\Local\\Temp\\ipykernel_9104\\2417510565.py:1: UserWarning: Parsing '13-06-2014' in DD/MM/YYYY format. Provide format or specify infer_datetime_format=True for consistent parsing.\n",
      "  df.Dt_Customer = pd.to_datetime(df.Dt_Customer)\n",
      "C:\\Users\\Adithya\\AppData\\Local\\Temp\\ipykernel_9104\\2417510565.py:1: UserWarning: Parsing '18-08-2013' in DD/MM/YYYY format. Provide format or specify infer_datetime_format=True for consistent parsing.\n",
      "  df.Dt_Customer = pd.to_datetime(df.Dt_Customer)\n",
      "C:\\Users\\Adithya\\AppData\\Local\\Temp\\ipykernel_9104\\2417510565.py:1: UserWarning: Parsing '13-12-2013' in DD/MM/YYYY format. Provide format or specify infer_datetime_format=True for consistent parsing.\n",
      "  df.Dt_Customer = pd.to_datetime(df.Dt_Customer)\n",
      "C:\\Users\\Adithya\\AppData\\Local\\Temp\\ipykernel_9104\\2417510565.py:1: UserWarning: Parsing '17-02-2014' in DD/MM/YYYY format. Provide format or specify infer_datetime_format=True for consistent parsing.\n",
      "  df.Dt_Customer = pd.to_datetime(df.Dt_Customer)\n",
      "C:\\Users\\Adithya\\AppData\\Local\\Temp\\ipykernel_9104\\2417510565.py:1: UserWarning: Parsing '21-10-2013' in DD/MM/YYYY format. Provide format or specify infer_datetime_format=True for consistent parsing.\n",
      "  df.Dt_Customer = pd.to_datetime(df.Dt_Customer)\n",
      "C:\\Users\\Adithya\\AppData\\Local\\Temp\\ipykernel_9104\\2417510565.py:1: UserWarning: Parsing '25-12-2013' in DD/MM/YYYY format. Provide format or specify infer_datetime_format=True for consistent parsing.\n",
      "  df.Dt_Customer = pd.to_datetime(df.Dt_Customer)\n",
      "C:\\Users\\Adithya\\AppData\\Local\\Temp\\ipykernel_9104\\2417510565.py:1: UserWarning: Parsing '16-05-2013' in DD/MM/YYYY format. Provide format or specify infer_datetime_format=True for consistent parsing.\n",
      "  df.Dt_Customer = pd.to_datetime(df.Dt_Customer)\n",
      "C:\\Users\\Adithya\\AppData\\Local\\Temp\\ipykernel_9104\\2417510565.py:1: UserWarning: Parsing '25-09-2013' in DD/MM/YYYY format. Provide format or specify infer_datetime_format=True for consistent parsing.\n",
      "  df.Dt_Customer = pd.to_datetime(df.Dt_Customer)\n",
      "C:\\Users\\Adithya\\AppData\\Local\\Temp\\ipykernel_9104\\2417510565.py:1: UserWarning: Parsing '16-12-2013' in DD/MM/YYYY format. Provide format or specify infer_datetime_format=True for consistent parsing.\n",
      "  df.Dt_Customer = pd.to_datetime(df.Dt_Customer)\n",
      "C:\\Users\\Adithya\\AppData\\Local\\Temp\\ipykernel_9104\\2417510565.py:1: UserWarning: Parsing '30-10-2012' in DD/MM/YYYY format. Provide format or specify infer_datetime_format=True for consistent parsing.\n",
      "  df.Dt_Customer = pd.to_datetime(df.Dt_Customer)\n",
      "C:\\Users\\Adithya\\AppData\\Local\\Temp\\ipykernel_9104\\2417510565.py:1: UserWarning: Parsing '18-10-2013' in DD/MM/YYYY format. Provide format or specify infer_datetime_format=True for consistent parsing.\n",
      "  df.Dt_Customer = pd.to_datetime(df.Dt_Customer)\n",
      "C:\\Users\\Adithya\\AppData\\Local\\Temp\\ipykernel_9104\\2417510565.py:1: UserWarning: Parsing '25-07-2013' in DD/MM/YYYY format. Provide format or specify infer_datetime_format=True for consistent parsing.\n",
      "  df.Dt_Customer = pd.to_datetime(df.Dt_Customer)\n",
      "C:\\Users\\Adithya\\AppData\\Local\\Temp\\ipykernel_9104\\2417510565.py:1: UserWarning: Parsing '24-10-2013' in DD/MM/YYYY format. Provide format or specify infer_datetime_format=True for consistent parsing.\n",
      "  df.Dt_Customer = pd.to_datetime(df.Dt_Customer)\n",
      "C:\\Users\\Adithya\\AppData\\Local\\Temp\\ipykernel_9104\\2417510565.py:1: UserWarning: Parsing '19-12-2013' in DD/MM/YYYY format. Provide format or specify infer_datetime_format=True for consistent parsing.\n",
      "  df.Dt_Customer = pd.to_datetime(df.Dt_Customer)\n",
      "C:\\Users\\Adithya\\AppData\\Local\\Temp\\ipykernel_9104\\2417510565.py:1: UserWarning: Parsing '16-05-2014' in DD/MM/YYYY format. Provide format or specify infer_datetime_format=True for consistent parsing.\n",
      "  df.Dt_Customer = pd.to_datetime(df.Dt_Customer)\n",
      "C:\\Users\\Adithya\\AppData\\Local\\Temp\\ipykernel_9104\\2417510565.py:1: UserWarning: Parsing '25-08-2013' in DD/MM/YYYY format. Provide format or specify infer_datetime_format=True for consistent parsing.\n",
      "  df.Dt_Customer = pd.to_datetime(df.Dt_Customer)\n",
      "C:\\Users\\Adithya\\AppData\\Local\\Temp\\ipykernel_9104\\2417510565.py:1: UserWarning: Parsing '29-05-2013' in DD/MM/YYYY format. Provide format or specify infer_datetime_format=True for consistent parsing.\n",
      "  df.Dt_Customer = pd.to_datetime(df.Dt_Customer)\n",
      "C:\\Users\\Adithya\\AppData\\Local\\Temp\\ipykernel_9104\\2417510565.py:1: UserWarning: Parsing '26-03-2014' in DD/MM/YYYY format. Provide format or specify infer_datetime_format=True for consistent parsing.\n",
      "  df.Dt_Customer = pd.to_datetime(df.Dt_Customer)\n",
      "C:\\Users\\Adithya\\AppData\\Local\\Temp\\ipykernel_9104\\2417510565.py:1: UserWarning: Parsing '29-04-2014' in DD/MM/YYYY format. Provide format or specify infer_datetime_format=True for consistent parsing.\n",
      "  df.Dt_Customer = pd.to_datetime(df.Dt_Customer)\n",
      "C:\\Users\\Adithya\\AppData\\Local\\Temp\\ipykernel_9104\\2417510565.py:1: UserWarning: Parsing '27-06-2014' in DD/MM/YYYY format. Provide format or specify infer_datetime_format=True for consistent parsing.\n",
      "  df.Dt_Customer = pd.to_datetime(df.Dt_Customer)\n",
      "C:\\Users\\Adithya\\AppData\\Local\\Temp\\ipykernel_9104\\2417510565.py:1: UserWarning: Parsing '21-11-2013' in DD/MM/YYYY format. Provide format or specify infer_datetime_format=True for consistent parsing.\n",
      "  df.Dt_Customer = pd.to_datetime(df.Dt_Customer)\n",
      "C:\\Users\\Adithya\\AppData\\Local\\Temp\\ipykernel_9104\\2417510565.py:1: UserWarning: Parsing '21-10-2012' in DD/MM/YYYY format. Provide format or specify infer_datetime_format=True for consistent parsing.\n",
      "  df.Dt_Customer = pd.to_datetime(df.Dt_Customer)\n",
      "C:\\Users\\Adithya\\AppData\\Local\\Temp\\ipykernel_9104\\2417510565.py:1: UserWarning: Parsing '14-05-2013' in DD/MM/YYYY format. Provide format or specify infer_datetime_format=True for consistent parsing.\n",
      "  df.Dt_Customer = pd.to_datetime(df.Dt_Customer)\n",
      "C:\\Users\\Adithya\\AppData\\Local\\Temp\\ipykernel_9104\\2417510565.py:1: UserWarning: Parsing '23-11-2013' in DD/MM/YYYY format. Provide format or specify infer_datetime_format=True for consistent parsing.\n",
      "  df.Dt_Customer = pd.to_datetime(df.Dt_Customer)\n",
      "C:\\Users\\Adithya\\AppData\\Local\\Temp\\ipykernel_9104\\2417510565.py:1: UserWarning: Parsing '25-01-2014' in DD/MM/YYYY format. Provide format or specify infer_datetime_format=True for consistent parsing.\n",
      "  df.Dt_Customer = pd.to_datetime(df.Dt_Customer)\n",
      "C:\\Users\\Adithya\\AppData\\Local\\Temp\\ipykernel_9104\\2417510565.py:1: UserWarning: Parsing '29-03-2013' in DD/MM/YYYY format. Provide format or specify infer_datetime_format=True for consistent parsing.\n",
      "  df.Dt_Customer = pd.to_datetime(df.Dt_Customer)\n",
      "C:\\Users\\Adithya\\AppData\\Local\\Temp\\ipykernel_9104\\2417510565.py:1: UserWarning: Parsing '15-09-2013' in DD/MM/YYYY format. Provide format or specify infer_datetime_format=True for consistent parsing.\n",
      "  df.Dt_Customer = pd.to_datetime(df.Dt_Customer)\n",
      "C:\\Users\\Adithya\\AppData\\Local\\Temp\\ipykernel_9104\\2417510565.py:1: UserWarning: Parsing '29-01-2014' in DD/MM/YYYY format. Provide format or specify infer_datetime_format=True for consistent parsing.\n",
      "  df.Dt_Customer = pd.to_datetime(df.Dt_Customer)\n",
      "C:\\Users\\Adithya\\AppData\\Local\\Temp\\ipykernel_9104\\2417510565.py:1: UserWarning: Parsing '28-02-2013' in DD/MM/YYYY format. Provide format or specify infer_datetime_format=True for consistent parsing.\n",
      "  df.Dt_Customer = pd.to_datetime(df.Dt_Customer)\n",
      "C:\\Users\\Adithya\\AppData\\Local\\Temp\\ipykernel_9104\\2417510565.py:1: UserWarning: Parsing '15-03-2013' in DD/MM/YYYY format. Provide format or specify infer_datetime_format=True for consistent parsing.\n",
      "  df.Dt_Customer = pd.to_datetime(df.Dt_Customer)\n",
      "C:\\Users\\Adithya\\AppData\\Local\\Temp\\ipykernel_9104\\2417510565.py:1: UserWarning: Parsing '26-05-2013' in DD/MM/YYYY format. Provide format or specify infer_datetime_format=True for consistent parsing.\n",
      "  df.Dt_Customer = pd.to_datetime(df.Dt_Customer)\n",
      "C:\\Users\\Adithya\\AppData\\Local\\Temp\\ipykernel_9104\\2417510565.py:1: UserWarning: Parsing '30-08-2013' in DD/MM/YYYY format. Provide format or specify infer_datetime_format=True for consistent parsing.\n",
      "  df.Dt_Customer = pd.to_datetime(df.Dt_Customer)\n",
      "C:\\Users\\Adithya\\AppData\\Local\\Temp\\ipykernel_9104\\2417510565.py:1: UserWarning: Parsing '18-12-2013' in DD/MM/YYYY format. Provide format or specify infer_datetime_format=True for consistent parsing.\n",
      "  df.Dt_Customer = pd.to_datetime(df.Dt_Customer)\n",
      "C:\\Users\\Adithya\\AppData\\Local\\Temp\\ipykernel_9104\\2417510565.py:1: UserWarning: Parsing '18-06-2013' in DD/MM/YYYY format. Provide format or specify infer_datetime_format=True for consistent parsing.\n",
      "  df.Dt_Customer = pd.to_datetime(df.Dt_Customer)\n",
      "C:\\Users\\Adithya\\AppData\\Local\\Temp\\ipykernel_9104\\2417510565.py:1: UserWarning: Parsing '29-05-2014' in DD/MM/YYYY format. Provide format or specify infer_datetime_format=True for consistent parsing.\n",
      "  df.Dt_Customer = pd.to_datetime(df.Dt_Customer)\n",
      "C:\\Users\\Adithya\\AppData\\Local\\Temp\\ipykernel_9104\\2417510565.py:1: UserWarning: Parsing '15-01-2013' in DD/MM/YYYY format. Provide format or specify infer_datetime_format=True for consistent parsing.\n",
      "  df.Dt_Customer = pd.to_datetime(df.Dt_Customer)\n",
      "C:\\Users\\Adithya\\AppData\\Local\\Temp\\ipykernel_9104\\2417510565.py:1: UserWarning: Parsing '29-10-2013' in DD/MM/YYYY format. Provide format or specify infer_datetime_format=True for consistent parsing.\n",
      "  df.Dt_Customer = pd.to_datetime(df.Dt_Customer)\n",
      "C:\\Users\\Adithya\\AppData\\Local\\Temp\\ipykernel_9104\\2417510565.py:1: UserWarning: Parsing '14-12-2013' in DD/MM/YYYY format. Provide format or specify infer_datetime_format=True for consistent parsing.\n",
      "  df.Dt_Customer = pd.to_datetime(df.Dt_Customer)\n",
      "C:\\Users\\Adithya\\AppData\\Local\\Temp\\ipykernel_9104\\2417510565.py:1: UserWarning: Parsing '19-01-2013' in DD/MM/YYYY format. Provide format or specify infer_datetime_format=True for consistent parsing.\n",
      "  df.Dt_Customer = pd.to_datetime(df.Dt_Customer)\n",
      "C:\\Users\\Adithya\\AppData\\Local\\Temp\\ipykernel_9104\\2417510565.py:1: UserWarning: Parsing '22-03-2013' in DD/MM/YYYY format. Provide format or specify infer_datetime_format=True for consistent parsing.\n",
      "  df.Dt_Customer = pd.to_datetime(df.Dt_Customer)\n",
      "C:\\Users\\Adithya\\AppData\\Local\\Temp\\ipykernel_9104\\2417510565.py:1: UserWarning: Parsing '31-05-2014' in DD/MM/YYYY format. Provide format or specify infer_datetime_format=True for consistent parsing.\n",
      "  df.Dt_Customer = pd.to_datetime(df.Dt_Customer)\n",
      "C:\\Users\\Adithya\\AppData\\Local\\Temp\\ipykernel_9104\\2417510565.py:1: UserWarning: Parsing '14-02-2013' in DD/MM/YYYY format. Provide format or specify infer_datetime_format=True for consistent parsing.\n",
      "  df.Dt_Customer = pd.to_datetime(df.Dt_Customer)\n",
      "C:\\Users\\Adithya\\AppData\\Local\\Temp\\ipykernel_9104\\2417510565.py:1: UserWarning: Parsing '21-03-2014' in DD/MM/YYYY format. Provide format or specify infer_datetime_format=True for consistent parsing.\n",
      "  df.Dt_Customer = pd.to_datetime(df.Dt_Customer)\n",
      "C:\\Users\\Adithya\\AppData\\Local\\Temp\\ipykernel_9104\\2417510565.py:1: UserWarning: Parsing '29-11-2012' in DD/MM/YYYY format. Provide format or specify infer_datetime_format=True for consistent parsing.\n",
      "  df.Dt_Customer = pd.to_datetime(df.Dt_Customer)\n",
      "C:\\Users\\Adithya\\AppData\\Local\\Temp\\ipykernel_9104\\2417510565.py:1: UserWarning: Parsing '27-07-2013' in DD/MM/YYYY format. Provide format or specify infer_datetime_format=True for consistent parsing.\n",
      "  df.Dt_Customer = pd.to_datetime(df.Dt_Customer)\n",
      "C:\\Users\\Adithya\\AppData\\Local\\Temp\\ipykernel_9104\\2417510565.py:1: UserWarning: Parsing '13-01-2014' in DD/MM/YYYY format. Provide format or specify infer_datetime_format=True for consistent parsing.\n",
      "  df.Dt_Customer = pd.to_datetime(df.Dt_Customer)\n",
      "C:\\Users\\Adithya\\AppData\\Local\\Temp\\ipykernel_9104\\2417510565.py:1: UserWarning: Parsing '29-09-2012' in DD/MM/YYYY format. Provide format or specify infer_datetime_format=True for consistent parsing.\n",
      "  df.Dt_Customer = pd.to_datetime(df.Dt_Customer)\n",
      "C:\\Users\\Adithya\\AppData\\Local\\Temp\\ipykernel_9104\\2417510565.py:1: UserWarning: Parsing '23-10-2013' in DD/MM/YYYY format. Provide format or specify infer_datetime_format=True for consistent parsing.\n",
      "  df.Dt_Customer = pd.to_datetime(df.Dt_Customer)\n",
      "C:\\Users\\Adithya\\AppData\\Local\\Temp\\ipykernel_9104\\2417510565.py:1: UserWarning: Parsing '26-05-2014' in DD/MM/YYYY format. Provide format or specify infer_datetime_format=True for consistent parsing.\n",
      "  df.Dt_Customer = pd.to_datetime(df.Dt_Customer)\n",
      "C:\\Users\\Adithya\\AppData\\Local\\Temp\\ipykernel_9104\\2417510565.py:1: UserWarning: Parsing '19-06-2014' in DD/MM/YYYY format. Provide format or specify infer_datetime_format=True for consistent parsing.\n",
      "  df.Dt_Customer = pd.to_datetime(df.Dt_Customer)\n",
      "C:\\Users\\Adithya\\AppData\\Local\\Temp\\ipykernel_9104\\2417510565.py:1: UserWarning: Parsing '26-11-2012' in DD/MM/YYYY format. Provide format or specify infer_datetime_format=True for consistent parsing.\n",
      "  df.Dt_Customer = pd.to_datetime(df.Dt_Customer)\n",
      "C:\\Users\\Adithya\\AppData\\Local\\Temp\\ipykernel_9104\\2417510565.py:1: UserWarning: Parsing '14-01-2014' in DD/MM/YYYY format. Provide format or specify infer_datetime_format=True for consistent parsing.\n",
      "  df.Dt_Customer = pd.to_datetime(df.Dt_Customer)\n",
      "C:\\Users\\Adithya\\AppData\\Local\\Temp\\ipykernel_9104\\2417510565.py:1: UserWarning: Parsing '23-01-2014' in DD/MM/YYYY format. Provide format or specify infer_datetime_format=True for consistent parsing.\n",
      "  df.Dt_Customer = pd.to_datetime(df.Dt_Customer)\n",
      "C:\\Users\\Adithya\\AppData\\Local\\Temp\\ipykernel_9104\\2417510565.py:1: UserWarning: Parsing '24-03-2013' in DD/MM/YYYY format. Provide format or specify infer_datetime_format=True for consistent parsing.\n",
      "  df.Dt_Customer = pd.to_datetime(df.Dt_Customer)\n",
      "C:\\Users\\Adithya\\AppData\\Local\\Temp\\ipykernel_9104\\2417510565.py:1: UserWarning: Parsing '29-06-2013' in DD/MM/YYYY format. Provide format or specify infer_datetime_format=True for consistent parsing.\n",
      "  df.Dt_Customer = pd.to_datetime(df.Dt_Customer)\n",
      "C:\\Users\\Adithya\\AppData\\Local\\Temp\\ipykernel_9104\\2417510565.py:1: UserWarning: Parsing '25-01-2013' in DD/MM/YYYY format. Provide format or specify infer_datetime_format=True for consistent parsing.\n",
      "  df.Dt_Customer = pd.to_datetime(df.Dt_Customer)\n",
      "C:\\Users\\Adithya\\AppData\\Local\\Temp\\ipykernel_9104\\2417510565.py:1: UserWarning: Parsing '17-11-2013' in DD/MM/YYYY format. Provide format or specify infer_datetime_format=True for consistent parsing.\n",
      "  df.Dt_Customer = pd.to_datetime(df.Dt_Customer)\n",
      "C:\\Users\\Adithya\\AppData\\Local\\Temp\\ipykernel_9104\\2417510565.py:1: UserWarning: Parsing '18-05-2013' in DD/MM/YYYY format. Provide format or specify infer_datetime_format=True for consistent parsing.\n",
      "  df.Dt_Customer = pd.to_datetime(df.Dt_Customer)\n",
      "C:\\Users\\Adithya\\AppData\\Local\\Temp\\ipykernel_9104\\2417510565.py:1: UserWarning: Parsing '17-04-2013' in DD/MM/YYYY format. Provide format or specify infer_datetime_format=True for consistent parsing.\n",
      "  df.Dt_Customer = pd.to_datetime(df.Dt_Customer)\n",
      "C:\\Users\\Adithya\\AppData\\Local\\Temp\\ipykernel_9104\\2417510565.py:1: UserWarning: Parsing '24-01-2013' in DD/MM/YYYY format. Provide format or specify infer_datetime_format=True for consistent parsing.\n",
      "  df.Dt_Customer = pd.to_datetime(df.Dt_Customer)\n",
      "C:\\Users\\Adithya\\AppData\\Local\\Temp\\ipykernel_9104\\2417510565.py:1: UserWarning: Parsing '20-07-2013' in DD/MM/YYYY format. Provide format or specify infer_datetime_format=True for consistent parsing.\n",
      "  df.Dt_Customer = pd.to_datetime(df.Dt_Customer)\n",
      "C:\\Users\\Adithya\\AppData\\Local\\Temp\\ipykernel_9104\\2417510565.py:1: UserWarning: Parsing '28-05-2013' in DD/MM/YYYY format. Provide format or specify infer_datetime_format=True for consistent parsing.\n",
      "  df.Dt_Customer = pd.to_datetime(df.Dt_Customer)\n",
      "C:\\Users\\Adithya\\AppData\\Local\\Temp\\ipykernel_9104\\2417510565.py:1: UserWarning: Parsing '14-10-2012' in DD/MM/YYYY format. Provide format or specify infer_datetime_format=True for consistent parsing.\n",
      "  df.Dt_Customer = pd.to_datetime(df.Dt_Customer)\n",
      "C:\\Users\\Adithya\\AppData\\Local\\Temp\\ipykernel_9104\\2417510565.py:1: UserWarning: Parsing '22-06-2014' in DD/MM/YYYY format. Provide format or specify infer_datetime_format=True for consistent parsing.\n",
      "  df.Dt_Customer = pd.to_datetime(df.Dt_Customer)\n",
      "C:\\Users\\Adithya\\AppData\\Local\\Temp\\ipykernel_9104\\2417510565.py:1: UserWarning: Parsing '25-10-2013' in DD/MM/YYYY format. Provide format or specify infer_datetime_format=True for consistent parsing.\n",
      "  df.Dt_Customer = pd.to_datetime(df.Dt_Customer)\n",
      "C:\\Users\\Adithya\\AppData\\Local\\Temp\\ipykernel_9104\\2417510565.py:1: UserWarning: Parsing '18-02-2014' in DD/MM/YYYY format. Provide format or specify infer_datetime_format=True for consistent parsing.\n",
      "  df.Dt_Customer = pd.to_datetime(df.Dt_Customer)\n",
      "C:\\Users\\Adithya\\AppData\\Local\\Temp\\ipykernel_9104\\2417510565.py:1: UserWarning: Parsing '13-08-2013' in DD/MM/YYYY format. Provide format or specify infer_datetime_format=True for consistent parsing.\n",
      "  df.Dt_Customer = pd.to_datetime(df.Dt_Customer)\n",
      "C:\\Users\\Adithya\\AppData\\Local\\Temp\\ipykernel_9104\\2417510565.py:1: UserWarning: Parsing '25-08-2012' in DD/MM/YYYY format. Provide format or specify infer_datetime_format=True for consistent parsing.\n",
      "  df.Dt_Customer = pd.to_datetime(df.Dt_Customer)\n",
      "C:\\Users\\Adithya\\AppData\\Local\\Temp\\ipykernel_9104\\2417510565.py:1: UserWarning: Parsing '19-04-2014' in DD/MM/YYYY format. Provide format or specify infer_datetime_format=True for consistent parsing.\n",
      "  df.Dt_Customer = pd.to_datetime(df.Dt_Customer)\n",
      "C:\\Users\\Adithya\\AppData\\Local\\Temp\\ipykernel_9104\\2417510565.py:1: UserWarning: Parsing '22-01-2013' in DD/MM/YYYY format. Provide format or specify infer_datetime_format=True for consistent parsing.\n",
      "  df.Dt_Customer = pd.to_datetime(df.Dt_Customer)\n",
      "C:\\Users\\Adithya\\AppData\\Local\\Temp\\ipykernel_9104\\2417510565.py:1: UserWarning: Parsing '26-02-2014' in DD/MM/YYYY format. Provide format or specify infer_datetime_format=True for consistent parsing.\n",
      "  df.Dt_Customer = pd.to_datetime(df.Dt_Customer)\n",
      "C:\\Users\\Adithya\\AppData\\Local\\Temp\\ipykernel_9104\\2417510565.py:1: UserWarning: Parsing '23-04-2014' in DD/MM/YYYY format. Provide format or specify infer_datetime_format=True for consistent parsing.\n",
      "  df.Dt_Customer = pd.to_datetime(df.Dt_Customer)\n",
      "C:\\Users\\Adithya\\AppData\\Local\\Temp\\ipykernel_9104\\2417510565.py:1: UserWarning: Parsing '30-07-2013' in DD/MM/YYYY format. Provide format or specify infer_datetime_format=True for consistent parsing.\n",
      "  df.Dt_Customer = pd.to_datetime(df.Dt_Customer)\n",
      "C:\\Users\\Adithya\\AppData\\Local\\Temp\\ipykernel_9104\\2417510565.py:1: UserWarning: Parsing '13-10-2013' in DD/MM/YYYY format. Provide format or specify infer_datetime_format=True for consistent parsing.\n",
      "  df.Dt_Customer = pd.to_datetime(df.Dt_Customer)\n",
      "C:\\Users\\Adithya\\AppData\\Local\\Temp\\ipykernel_9104\\2417510565.py:1: UserWarning: Parsing '27-11-2012' in DD/MM/YYYY format. Provide format or specify infer_datetime_format=True for consistent parsing.\n",
      "  df.Dt_Customer = pd.to_datetime(df.Dt_Customer)\n",
      "C:\\Users\\Adithya\\AppData\\Local\\Temp\\ipykernel_9104\\2417510565.py:1: UserWarning: Parsing '30-11-2012' in DD/MM/YYYY format. Provide format or specify infer_datetime_format=True for consistent parsing.\n",
      "  df.Dt_Customer = pd.to_datetime(df.Dt_Customer)\n",
      "C:\\Users\\Adithya\\AppData\\Local\\Temp\\ipykernel_9104\\2417510565.py:1: UserWarning: Parsing '17-08-2013' in DD/MM/YYYY format. Provide format or specify infer_datetime_format=True for consistent parsing.\n",
      "  df.Dt_Customer = pd.to_datetime(df.Dt_Customer)\n",
      "C:\\Users\\Adithya\\AppData\\Local\\Temp\\ipykernel_9104\\2417510565.py:1: UserWarning: Parsing '26-04-2014' in DD/MM/YYYY format. Provide format or specify infer_datetime_format=True for consistent parsing.\n",
      "  df.Dt_Customer = pd.to_datetime(df.Dt_Customer)\n",
      "C:\\Users\\Adithya\\AppData\\Local\\Temp\\ipykernel_9104\\2417510565.py:1: UserWarning: Parsing '26-10-2013' in DD/MM/YYYY format. Provide format or specify infer_datetime_format=True for consistent parsing.\n",
      "  df.Dt_Customer = pd.to_datetime(df.Dt_Customer)\n",
      "C:\\Users\\Adithya\\AppData\\Local\\Temp\\ipykernel_9104\\2417510565.py:1: UserWarning: Parsing '24-03-2014' in DD/MM/YYYY format. Provide format or specify infer_datetime_format=True for consistent parsing.\n",
      "  df.Dt_Customer = pd.to_datetime(df.Dt_Customer)\n",
      "C:\\Users\\Adithya\\AppData\\Local\\Temp\\ipykernel_9104\\2417510565.py:1: UserWarning: Parsing '25-02-2013' in DD/MM/YYYY format. Provide format or specify infer_datetime_format=True for consistent parsing.\n",
      "  df.Dt_Customer = pd.to_datetime(df.Dt_Customer)\n",
      "C:\\Users\\Adithya\\AppData\\Local\\Temp\\ipykernel_9104\\2417510565.py:1: UserWarning: Parsing '20-09-2013' in DD/MM/YYYY format. Provide format or specify infer_datetime_format=True for consistent parsing.\n",
      "  df.Dt_Customer = pd.to_datetime(df.Dt_Customer)\n",
      "C:\\Users\\Adithya\\AppData\\Local\\Temp\\ipykernel_9104\\2417510565.py:1: UserWarning: Parsing '16-01-2013' in DD/MM/YYYY format. Provide format or specify infer_datetime_format=True for consistent parsing.\n",
      "  df.Dt_Customer = pd.to_datetime(df.Dt_Customer)\n",
      "C:\\Users\\Adithya\\AppData\\Local\\Temp\\ipykernel_9104\\2417510565.py:1: UserWarning: Parsing '24-12-2013' in DD/MM/YYYY format. Provide format or specify infer_datetime_format=True for consistent parsing.\n",
      "  df.Dt_Customer = pd.to_datetime(df.Dt_Customer)\n",
      "C:\\Users\\Adithya\\AppData\\Local\\Temp\\ipykernel_9104\\2417510565.py:1: UserWarning: Parsing '18-11-2012' in DD/MM/YYYY format. Provide format or specify infer_datetime_format=True for consistent parsing.\n",
      "  df.Dt_Customer = pd.to_datetime(df.Dt_Customer)\n",
      "C:\\Users\\Adithya\\AppData\\Local\\Temp\\ipykernel_9104\\2417510565.py:1: UserWarning: Parsing '21-07-2013' in DD/MM/YYYY format. Provide format or specify infer_datetime_format=True for consistent parsing.\n",
      "  df.Dt_Customer = pd.to_datetime(df.Dt_Customer)\n",
      "C:\\Users\\Adithya\\AppData\\Local\\Temp\\ipykernel_9104\\2417510565.py:1: UserWarning: Parsing '20-10-2012' in DD/MM/YYYY format. Provide format or specify infer_datetime_format=True for consistent parsing.\n",
      "  df.Dt_Customer = pd.to_datetime(df.Dt_Customer)\n",
      "C:\\Users\\Adithya\\AppData\\Local\\Temp\\ipykernel_9104\\2417510565.py:1: UserWarning: Parsing '23-05-2013' in DD/MM/YYYY format. Provide format or specify infer_datetime_format=True for consistent parsing.\n",
      "  df.Dt_Customer = pd.to_datetime(df.Dt_Customer)\n",
      "C:\\Users\\Adithya\\AppData\\Local\\Temp\\ipykernel_9104\\2417510565.py:1: UserWarning: Parsing '26-08-2012' in DD/MM/YYYY format. Provide format or specify infer_datetime_format=True for consistent parsing.\n",
      "  df.Dt_Customer = pd.to_datetime(df.Dt_Customer)\n",
      "C:\\Users\\Adithya\\AppData\\Local\\Temp\\ipykernel_9104\\2417510565.py:1: UserWarning: Parsing '13-02-2014' in DD/MM/YYYY format. Provide format or specify infer_datetime_format=True for consistent parsing.\n",
      "  df.Dt_Customer = pd.to_datetime(df.Dt_Customer)\n",
      "C:\\Users\\Adithya\\AppData\\Local\\Temp\\ipykernel_9104\\2417510565.py:1: UserWarning: Parsing '27-02-2014' in DD/MM/YYYY format. Provide format or specify infer_datetime_format=True for consistent parsing.\n",
      "  df.Dt_Customer = pd.to_datetime(df.Dt_Customer)\n",
      "C:\\Users\\Adithya\\AppData\\Local\\Temp\\ipykernel_9104\\2417510565.py:1: UserWarning: Parsing '20-04-2014' in DD/MM/YYYY format. Provide format or specify infer_datetime_format=True for consistent parsing.\n",
      "  df.Dt_Customer = pd.to_datetime(df.Dt_Customer)\n",
      "C:\\Users\\Adithya\\AppData\\Local\\Temp\\ipykernel_9104\\2417510565.py:1: UserWarning: Parsing '28-06-2013' in DD/MM/YYYY format. Provide format or specify infer_datetime_format=True for consistent parsing.\n",
      "  df.Dt_Customer = pd.to_datetime(df.Dt_Customer)\n",
      "C:\\Users\\Adithya\\AppData\\Local\\Temp\\ipykernel_9104\\2417510565.py:1: UserWarning: Parsing '28-04-2013' in DD/MM/YYYY format. Provide format or specify infer_datetime_format=True for consistent parsing.\n",
      "  df.Dt_Customer = pd.to_datetime(df.Dt_Customer)\n",
      "C:\\Users\\Adithya\\AppData\\Local\\Temp\\ipykernel_9104\\2417510565.py:1: UserWarning: Parsing '21-03-2013' in DD/MM/YYYY format. Provide format or specify infer_datetime_format=True for consistent parsing.\n",
      "  df.Dt_Customer = pd.to_datetime(df.Dt_Customer)\n",
      "C:\\Users\\Adithya\\AppData\\Local\\Temp\\ipykernel_9104\\2417510565.py:1: UserWarning: Parsing '27-08-2013' in DD/MM/YYYY format. Provide format or specify infer_datetime_format=True for consistent parsing.\n",
      "  df.Dt_Customer = pd.to_datetime(df.Dt_Customer)\n",
      "C:\\Users\\Adithya\\AppData\\Local\\Temp\\ipykernel_9104\\2417510565.py:1: UserWarning: Parsing '30-07-2012' in DD/MM/YYYY format. Provide format or specify infer_datetime_format=True for consistent parsing.\n",
      "  df.Dt_Customer = pd.to_datetime(df.Dt_Customer)\n",
      "C:\\Users\\Adithya\\AppData\\Local\\Temp\\ipykernel_9104\\2417510565.py:1: UserWarning: Parsing '21-11-2012' in DD/MM/YYYY format. Provide format or specify infer_datetime_format=True for consistent parsing.\n",
      "  df.Dt_Customer = pd.to_datetime(df.Dt_Customer)\n",
      "C:\\Users\\Adithya\\AppData\\Local\\Temp\\ipykernel_9104\\2417510565.py:1: UserWarning: Parsing '26-02-2013' in DD/MM/YYYY format. Provide format or specify infer_datetime_format=True for consistent parsing.\n",
      "  df.Dt_Customer = pd.to_datetime(df.Dt_Customer)\n",
      "C:\\Users\\Adithya\\AppData\\Local\\Temp\\ipykernel_9104\\2417510565.py:1: UserWarning: Parsing '20-09-2012' in DD/MM/YYYY format. Provide format or specify infer_datetime_format=True for consistent parsing.\n",
      "  df.Dt_Customer = pd.to_datetime(df.Dt_Customer)\n",
      "C:\\Users\\Adithya\\AppData\\Local\\Temp\\ipykernel_9104\\2417510565.py:1: UserWarning: Parsing '24-06-2013' in DD/MM/YYYY format. Provide format or specify infer_datetime_format=True for consistent parsing.\n",
      "  df.Dt_Customer = pd.to_datetime(df.Dt_Customer)\n",
      "C:\\Users\\Adithya\\AppData\\Local\\Temp\\ipykernel_9104\\2417510565.py:1: UserWarning: Parsing '19-02-2014' in DD/MM/YYYY format. Provide format or specify infer_datetime_format=True for consistent parsing.\n",
      "  df.Dt_Customer = pd.to_datetime(df.Dt_Customer)\n",
      "C:\\Users\\Adithya\\AppData\\Local\\Temp\\ipykernel_9104\\2417510565.py:1: UserWarning: Parsing '27-12-2012' in DD/MM/YYYY format. Provide format or specify infer_datetime_format=True for consistent parsing.\n",
      "  df.Dt_Customer = pd.to_datetime(df.Dt_Customer)\n",
      "C:\\Users\\Adithya\\AppData\\Local\\Temp\\ipykernel_9104\\2417510565.py:1: UserWarning: Parsing '22-07-2013' in DD/MM/YYYY format. Provide format or specify infer_datetime_format=True for consistent parsing.\n",
      "  df.Dt_Customer = pd.to_datetime(df.Dt_Customer)\n",
      "C:\\Users\\Adithya\\AppData\\Local\\Temp\\ipykernel_9104\\2417510565.py:1: UserWarning: Parsing '31-01-2014' in DD/MM/YYYY format. Provide format or specify infer_datetime_format=True for consistent parsing.\n",
      "  df.Dt_Customer = pd.to_datetime(df.Dt_Customer)\n",
      "C:\\Users\\Adithya\\AppData\\Local\\Temp\\ipykernel_9104\\2417510565.py:1: UserWarning: Parsing '26-08-2013' in DD/MM/YYYY format. Provide format or specify infer_datetime_format=True for consistent parsing.\n",
      "  df.Dt_Customer = pd.to_datetime(df.Dt_Customer)\n",
      "C:\\Users\\Adithya\\AppData\\Local\\Temp\\ipykernel_9104\\2417510565.py:1: UserWarning: Parsing '26-09-2012' in DD/MM/YYYY format. Provide format or specify infer_datetime_format=True for consistent parsing.\n",
      "  df.Dt_Customer = pd.to_datetime(df.Dt_Customer)\n",
      "C:\\Users\\Adithya\\AppData\\Local\\Temp\\ipykernel_9104\\2417510565.py:1: UserWarning: Parsing '31-07-2012' in DD/MM/YYYY format. Provide format or specify infer_datetime_format=True for consistent parsing.\n",
      "  df.Dt_Customer = pd.to_datetime(df.Dt_Customer)\n",
      "C:\\Users\\Adithya\\AppData\\Local\\Temp\\ipykernel_9104\\2417510565.py:1: UserWarning: Parsing '15-05-2014' in DD/MM/YYYY format. Provide format or specify infer_datetime_format=True for consistent parsing.\n",
      "  df.Dt_Customer = pd.to_datetime(df.Dt_Customer)\n",
      "C:\\Users\\Adithya\\AppData\\Local\\Temp\\ipykernel_9104\\2417510565.py:1: UserWarning: Parsing '13-08-2012' in DD/MM/YYYY format. Provide format or specify infer_datetime_format=True for consistent parsing.\n",
      "  df.Dt_Customer = pd.to_datetime(df.Dt_Customer)\n",
      "C:\\Users\\Adithya\\AppData\\Local\\Temp\\ipykernel_9104\\2417510565.py:1: UserWarning: Parsing '23-02-2014' in DD/MM/YYYY format. Provide format or specify infer_datetime_format=True for consistent parsing.\n",
      "  df.Dt_Customer = pd.to_datetime(df.Dt_Customer)\n",
      "C:\\Users\\Adithya\\AppData\\Local\\Temp\\ipykernel_9104\\2417510565.py:1: UserWarning: Parsing '16-03-2014' in DD/MM/YYYY format. Provide format or specify infer_datetime_format=True for consistent parsing.\n",
      "  df.Dt_Customer = pd.to_datetime(df.Dt_Customer)\n",
      "C:\\Users\\Adithya\\AppData\\Local\\Temp\\ipykernel_9104\\2417510565.py:1: UserWarning: Parsing '21-09-2013' in DD/MM/YYYY format. Provide format or specify infer_datetime_format=True for consistent parsing.\n",
      "  df.Dt_Customer = pd.to_datetime(df.Dt_Customer)\n",
      "C:\\Users\\Adithya\\AppData\\Local\\Temp\\ipykernel_9104\\2417510565.py:1: UserWarning: Parsing '24-10-2012' in DD/MM/YYYY format. Provide format or specify infer_datetime_format=True for consistent parsing.\n",
      "  df.Dt_Customer = pd.to_datetime(df.Dt_Customer)\n",
      "C:\\Users\\Adithya\\AppData\\Local\\Temp\\ipykernel_9104\\2417510565.py:1: UserWarning: Parsing '15-10-2013' in DD/MM/YYYY format. Provide format or specify infer_datetime_format=True for consistent parsing.\n",
      "  df.Dt_Customer = pd.to_datetime(df.Dt_Customer)\n",
      "C:\\Users\\Adithya\\AppData\\Local\\Temp\\ipykernel_9104\\2417510565.py:1: UserWarning: Parsing '17-02-2013' in DD/MM/YYYY format. Provide format or specify infer_datetime_format=True for consistent parsing.\n",
      "  df.Dt_Customer = pd.to_datetime(df.Dt_Customer)\n",
      "C:\\Users\\Adithya\\AppData\\Local\\Temp\\ipykernel_9104\\2417510565.py:1: UserWarning: Parsing '28-08-2012' in DD/MM/YYYY format. Provide format or specify infer_datetime_format=True for consistent parsing.\n",
      "  df.Dt_Customer = pd.to_datetime(df.Dt_Customer)\n",
      "C:\\Users\\Adithya\\AppData\\Local\\Temp\\ipykernel_9104\\2417510565.py:1: UserWarning: Parsing '16-11-2012' in DD/MM/YYYY format. Provide format or specify infer_datetime_format=True for consistent parsing.\n",
      "  df.Dt_Customer = pd.to_datetime(df.Dt_Customer)\n",
      "C:\\Users\\Adithya\\AppData\\Local\\Temp\\ipykernel_9104\\2417510565.py:1: UserWarning: Parsing '16-08-2012' in DD/MM/YYYY format. Provide format or specify infer_datetime_format=True for consistent parsing.\n",
      "  df.Dt_Customer = pd.to_datetime(df.Dt_Customer)\n",
      "C:\\Users\\Adithya\\AppData\\Local\\Temp\\ipykernel_9104\\2417510565.py:1: UserWarning: Parsing '25-11-2012' in DD/MM/YYYY format. Provide format or specify infer_datetime_format=True for consistent parsing.\n",
      "  df.Dt_Customer = pd.to_datetime(df.Dt_Customer)\n",
      "C:\\Users\\Adithya\\AppData\\Local\\Temp\\ipykernel_9104\\2417510565.py:1: UserWarning: Parsing '27-04-2014' in DD/MM/YYYY format. Provide format or specify infer_datetime_format=True for consistent parsing.\n",
      "  df.Dt_Customer = pd.to_datetime(df.Dt_Customer)\n",
      "C:\\Users\\Adithya\\AppData\\Local\\Temp\\ipykernel_9104\\2417510565.py:1: UserWarning: Parsing '30-04-2013' in DD/MM/YYYY format. Provide format or specify infer_datetime_format=True for consistent parsing.\n",
      "  df.Dt_Customer = pd.to_datetime(df.Dt_Customer)\n",
      "C:\\Users\\Adithya\\AppData\\Local\\Temp\\ipykernel_9104\\2417510565.py:1: UserWarning: Parsing '20-11-2012' in DD/MM/YYYY format. Provide format or specify infer_datetime_format=True for consistent parsing.\n",
      "  df.Dt_Customer = pd.to_datetime(df.Dt_Customer)\n",
      "C:\\Users\\Adithya\\AppData\\Local\\Temp\\ipykernel_9104\\2417510565.py:1: UserWarning: Parsing '14-06-2014' in DD/MM/YYYY format. Provide format or specify infer_datetime_format=True for consistent parsing.\n",
      "  df.Dt_Customer = pd.to_datetime(df.Dt_Customer)\n",
      "C:\\Users\\Adithya\\AppData\\Local\\Temp\\ipykernel_9104\\2417510565.py:1: UserWarning: Parsing '28-03-2014' in DD/MM/YYYY format. Provide format or specify infer_datetime_format=True for consistent parsing.\n",
      "  df.Dt_Customer = pd.to_datetime(df.Dt_Customer)\n",
      "C:\\Users\\Adithya\\AppData\\Local\\Temp\\ipykernel_9104\\2417510565.py:1: UserWarning: Parsing '15-04-2014' in DD/MM/YYYY format. Provide format or specify infer_datetime_format=True for consistent parsing.\n",
      "  df.Dt_Customer = pd.to_datetime(df.Dt_Customer)\n",
      "C:\\Users\\Adithya\\AppData\\Local\\Temp\\ipykernel_9104\\2417510565.py:1: UserWarning: Parsing '25-04-2014' in DD/MM/YYYY format. Provide format or specify infer_datetime_format=True for consistent parsing.\n",
      "  df.Dt_Customer = pd.to_datetime(df.Dt_Customer)\n",
      "C:\\Users\\Adithya\\AppData\\Local\\Temp\\ipykernel_9104\\2417510565.py:1: UserWarning: Parsing '27-06-2013' in DD/MM/YYYY format. Provide format or specify infer_datetime_format=True for consistent parsing.\n",
      "  df.Dt_Customer = pd.to_datetime(df.Dt_Customer)\n",
      "C:\\Users\\Adithya\\AppData\\Local\\Temp\\ipykernel_9104\\2417510565.py:1: UserWarning: Parsing '22-02-2014' in DD/MM/YYYY format. Provide format or specify infer_datetime_format=True for consistent parsing.\n",
      "  df.Dt_Customer = pd.to_datetime(df.Dt_Customer)\n",
      "C:\\Users\\Adithya\\AppData\\Local\\Temp\\ipykernel_9104\\2417510565.py:1: UserWarning: Parsing '23-09-2013' in DD/MM/YYYY format. Provide format or specify infer_datetime_format=True for consistent parsing.\n",
      "  df.Dt_Customer = pd.to_datetime(df.Dt_Customer)\n",
      "C:\\Users\\Adithya\\AppData\\Local\\Temp\\ipykernel_9104\\2417510565.py:1: UserWarning: Parsing '24-07-2013' in DD/MM/YYYY format. Provide format or specify infer_datetime_format=True for consistent parsing.\n",
      "  df.Dt_Customer = pd.to_datetime(df.Dt_Customer)\n",
      "C:\\Users\\Adithya\\AppData\\Local\\Temp\\ipykernel_9104\\2417510565.py:1: UserWarning: Parsing '23-06-2014' in DD/MM/YYYY format. Provide format or specify infer_datetime_format=True for consistent parsing.\n",
      "  df.Dt_Customer = pd.to_datetime(df.Dt_Customer)\n",
      "C:\\Users\\Adithya\\AppData\\Local\\Temp\\ipykernel_9104\\2417510565.py:1: UserWarning: Parsing '25-03-2013' in DD/MM/YYYY format. Provide format or specify infer_datetime_format=True for consistent parsing.\n",
      "  df.Dt_Customer = pd.to_datetime(df.Dt_Customer)\n",
      "C:\\Users\\Adithya\\AppData\\Local\\Temp\\ipykernel_9104\\2417510565.py:1: UserWarning: Parsing '17-01-2014' in DD/MM/YYYY format. Provide format or specify infer_datetime_format=True for consistent parsing.\n",
      "  df.Dt_Customer = pd.to_datetime(df.Dt_Customer)\n",
      "C:\\Users\\Adithya\\AppData\\Local\\Temp\\ipykernel_9104\\2417510565.py:1: UserWarning: Parsing '25-03-2014' in DD/MM/YYYY format. Provide format or specify infer_datetime_format=True for consistent parsing.\n",
      "  df.Dt_Customer = pd.to_datetime(df.Dt_Customer)\n",
      "C:\\Users\\Adithya\\AppData\\Local\\Temp\\ipykernel_9104\\2417510565.py:1: UserWarning: Parsing '31-12-2012' in DD/MM/YYYY format. Provide format or specify infer_datetime_format=True for consistent parsing.\n",
      "  df.Dt_Customer = pd.to_datetime(df.Dt_Customer)\n",
      "C:\\Users\\Adithya\\AppData\\Local\\Temp\\ipykernel_9104\\2417510565.py:1: UserWarning: Parsing '19-09-2012' in DD/MM/YYYY format. Provide format or specify infer_datetime_format=True for consistent parsing.\n",
      "  df.Dt_Customer = pd.to_datetime(df.Dt_Customer)\n",
      "C:\\Users\\Adithya\\AppData\\Local\\Temp\\ipykernel_9104\\2417510565.py:1: UserWarning: Parsing '27-02-2013' in DD/MM/YYYY format. Provide format or specify infer_datetime_format=True for consistent parsing.\n",
      "  df.Dt_Customer = pd.to_datetime(df.Dt_Customer)\n",
      "C:\\Users\\Adithya\\AppData\\Local\\Temp\\ipykernel_9104\\2417510565.py:1: UserWarning: Parsing '26-11-2013' in DD/MM/YYYY format. Provide format or specify infer_datetime_format=True for consistent parsing.\n",
      "  df.Dt_Customer = pd.to_datetime(df.Dt_Customer)\n",
      "C:\\Users\\Adithya\\AppData\\Local\\Temp\\ipykernel_9104\\2417510565.py:1: UserWarning: Parsing '17-12-2012' in DD/MM/YYYY format. Provide format or specify infer_datetime_format=True for consistent parsing.\n",
      "  df.Dt_Customer = pd.to_datetime(df.Dt_Customer)\n",
      "C:\\Users\\Adithya\\AppData\\Local\\Temp\\ipykernel_9104\\2417510565.py:1: UserWarning: Parsing '19-05-2013' in DD/MM/YYYY format. Provide format or specify infer_datetime_format=True for consistent parsing.\n",
      "  df.Dt_Customer = pd.to_datetime(df.Dt_Customer)\n",
      "C:\\Users\\Adithya\\AppData\\Local\\Temp\\ipykernel_9104\\2417510565.py:1: UserWarning: Parsing '15-12-2013' in DD/MM/YYYY format. Provide format or specify infer_datetime_format=True for consistent parsing.\n",
      "  df.Dt_Customer = pd.to_datetime(df.Dt_Customer)\n",
      "C:\\Users\\Adithya\\AppData\\Local\\Temp\\ipykernel_9104\\2417510565.py:1: UserWarning: Parsing '15-07-2013' in DD/MM/YYYY format. Provide format or specify infer_datetime_format=True for consistent parsing.\n",
      "  df.Dt_Customer = pd.to_datetime(df.Dt_Customer)\n",
      "C:\\Users\\Adithya\\AppData\\Local\\Temp\\ipykernel_9104\\2417510565.py:1: UserWarning: Parsing '27-01-2013' in DD/MM/YYYY format. Provide format or specify infer_datetime_format=True for consistent parsing.\n",
      "  df.Dt_Customer = pd.to_datetime(df.Dt_Customer)\n",
      "C:\\Users\\Adithya\\AppData\\Local\\Temp\\ipykernel_9104\\2417510565.py:1: UserWarning: Parsing '26-12-2012' in DD/MM/YYYY format. Provide format or specify infer_datetime_format=True for consistent parsing.\n",
      "  df.Dt_Customer = pd.to_datetime(df.Dt_Customer)\n",
      "C:\\Users\\Adithya\\AppData\\Local\\Temp\\ipykernel_9104\\2417510565.py:1: UserWarning: Parsing '14-01-2013' in DD/MM/YYYY format. Provide format or specify infer_datetime_format=True for consistent parsing.\n",
      "  df.Dt_Customer = pd.to_datetime(df.Dt_Customer)\n",
      "C:\\Users\\Adithya\\AppData\\Local\\Temp\\ipykernel_9104\\2417510565.py:1: UserWarning: Parsing '20-06-2014' in DD/MM/YYYY format. Provide format or specify infer_datetime_format=True for consistent parsing.\n",
      "  df.Dt_Customer = pd.to_datetime(df.Dt_Customer)\n",
      "C:\\Users\\Adithya\\AppData\\Local\\Temp\\ipykernel_9104\\2417510565.py:1: UserWarning: Parsing '24-08-2013' in DD/MM/YYYY format. Provide format or specify infer_datetime_format=True for consistent parsing.\n",
      "  df.Dt_Customer = pd.to_datetime(df.Dt_Customer)\n",
      "C:\\Users\\Adithya\\AppData\\Local\\Temp\\ipykernel_9104\\2417510565.py:1: UserWarning: Parsing '28-02-2014' in DD/MM/YYYY format. Provide format or specify infer_datetime_format=True for consistent parsing.\n",
      "  df.Dt_Customer = pd.to_datetime(df.Dt_Customer)\n",
      "C:\\Users\\Adithya\\AppData\\Local\\Temp\\ipykernel_9104\\2417510565.py:1: UserWarning: Parsing '30-11-2013' in DD/MM/YYYY format. Provide format or specify infer_datetime_format=True for consistent parsing.\n",
      "  df.Dt_Customer = pd.to_datetime(df.Dt_Customer)\n",
      "C:\\Users\\Adithya\\AppData\\Local\\Temp\\ipykernel_9104\\2417510565.py:1: UserWarning: Parsing '27-03-2014' in DD/MM/YYYY format. Provide format or specify infer_datetime_format=True for consistent parsing.\n",
      "  df.Dt_Customer = pd.to_datetime(df.Dt_Customer)\n",
      "C:\\Users\\Adithya\\AppData\\Local\\Temp\\ipykernel_9104\\2417510565.py:1: UserWarning: Parsing '15-12-2012' in DD/MM/YYYY format. Provide format or specify infer_datetime_format=True for consistent parsing.\n",
      "  df.Dt_Customer = pd.to_datetime(df.Dt_Customer)\n",
      "C:\\Users\\Adithya\\AppData\\Local\\Temp\\ipykernel_9104\\2417510565.py:1: UserWarning: Parsing '17-09-2012' in DD/MM/YYYY format. Provide format or specify infer_datetime_format=True for consistent parsing.\n",
      "  df.Dt_Customer = pd.to_datetime(df.Dt_Customer)\n",
      "C:\\Users\\Adithya\\AppData\\Local\\Temp\\ipykernel_9104\\2417510565.py:1: UserWarning: Parsing '21-12-2012' in DD/MM/YYYY format. Provide format or specify infer_datetime_format=True for consistent parsing.\n",
      "  df.Dt_Customer = pd.to_datetime(df.Dt_Customer)\n",
      "C:\\Users\\Adithya\\AppData\\Local\\Temp\\ipykernel_9104\\2417510565.py:1: UserWarning: Parsing '20-12-2012' in DD/MM/YYYY format. Provide format or specify infer_datetime_format=True for consistent parsing.\n",
      "  df.Dt_Customer = pd.to_datetime(df.Dt_Customer)\n"
     ]
    }
   ],
   "source": [
    "df.Dt_Customer = pd.to_datetime(df.Dt_Customer)\n",
    "df['MonthEnrollment'] = (2023 - df.Dt_Customer.dt.year) * 12 + (1 - df.Dt_Customer.dt.month)"
   ]
  },
  {
   "cell_type": "code",
   "execution_count": 29,
   "id": "4eab4c71",
   "metadata": {
    "colab": {
     "base_uri": "https://localhost:8080/",
     "height": 466
    },
    "executionInfo": {
     "elapsed": 11,
     "status": "ok",
     "timestamp": 1687512830936,
     "user": {
      "displayName": "Sony Somanagurthy",
      "userId": "04008675568867142584"
     },
     "user_tz": -330
    },
    "id": "4eab4c71",
    "outputId": "9742527c-5dd8-4b6b-e374-9a70c3fc3300"
   },
   "outputs": [
    {
     "data": {
      "text/plain": [
       "<AxesSubplot:xlabel='Income', ylabel='Count'>"
      ]
     },
     "execution_count": 29,
     "metadata": {},
     "output_type": "execute_result"
    },
    {
     "data": {
      "image/png": "[encoded data removed]",
      "text/plain": [
       "<Figure size 432x288 with 1 Axes>"
      ]
     },
     "metadata": {
      "needs_background": "light"
     },
     "output_type": "display_data"
    }
   ],
   "source": [
    "sns.histplot(df['Income'], bins = 25)"
   ]
  },
  {
   "cell_type": "code",
   "execution_count": 30,
   "id": "38998548",
   "metadata": {
    "colab": {
     "base_uri": "https://localhost:8080/",
     "height": 447
    },
    "executionInfo": {
     "elapsed": 753,
     "status": "ok",
     "timestamp": 1687512831680,
     "user": {
      "displayName": "Sony Somanagurthy",
      "userId": "04008675568867142584"
     },
     "user_tz": -330
    },
    "id": "38998548",
    "outputId": "94791a29-256b-456a-b2b5-1e460b512496"
   },
   "outputs": [
    {
     "name": "stderr",
     "output_type": "stream",
     "text": [
      "C:\\ProgramData\\Anaconda3\\lib\\site-packages\\seaborn\\_decorators.py:36: FutureWarning: Pass the following variable as a keyword arg: x. From version 0.12, the only valid positional argument will be `data`, and passing other arguments without an explicit keyword will result in an error or misinterpretation.\n",
      "  warnings.warn(\n"
     ]
    },
    {
     "data": {
      "text/plain": [
       "<AxesSubplot:xlabel='Income'>"
      ]
     },
     "execution_count": 30,
     "metadata": {},
     "output_type": "execute_result"
    },
    {
     "data": {
      "image/png": "[encoded data removed]",
      "text/plain": [
       "<Figure size 432x288 with 1 Axes>"
      ]
     },
     "metadata": {
      "needs_background": "light"
     },
     "output_type": "display_data"
    }
   ],
   "source": [
    "sns.boxplot(df['Income'])"
   ]
  },
  {
   "cell_type": "code",
   "execution_count": null,
   "id": "03f89f3b",
   "metadata": {
    "executionInfo": {
     "elapsed": 18,
     "status": "ok",
     "timestamp": 1687512831681,
     "user": {
      "displayName": "Sony Somanagurthy",
      "userId": "04008675568867142584"
     },
     "user_tz": -330
    },
    "id": "03f89f3b"
   },
   "outputs": [],
   "source": []
  },
  {
   "cell_type": "code",
   "execution_count": 31,
   "id": "9d0e830b",
   "metadata": {
    "executionInfo": {
     "elapsed": 17,
     "status": "ok",
     "timestamp": 1687512831681,
     "user": {
      "displayName": "Sony Somanagurthy",
      "userId": "04008675568867142584"
     },
     "user_tz": -330
    },
    "id": "9d0e830b"
   },
   "outputs": [],
   "source": [
    "# Data Cleaning\n",
    "# Drop Outliers from Age, Income"
   ]
  },
  {
   "cell_type": "code",
   "execution_count": 32,
   "id": "7af0cadc",
   "metadata": {
    "executionInfo": {
     "elapsed": 16,
     "status": "ok",
     "timestamp": 1687512831682,
     "user": {
      "displayName": "Sony Somanagurthy",
      "userId": "04008675568867142584"
     },
     "user_tz": -330
    },
    "id": "7af0cadc"
   },
   "outputs": [],
   "source": [
    "df =df[ df ['Age'] < 100]\n",
    "df = df[ df ['Income'] < 110000]"
   ]
  },
  {
   "cell_type": "code",
   "execution_count": 33,
   "id": "276cc250",
   "metadata": {
    "colab": {
     "base_uri": "https://localhost:8080/",
     "height": 447
    },
    "executionInfo": {
     "elapsed": 743,
     "status": "ok",
     "timestamp": 1687512832409,
     "user": {
      "displayName": "Sony Somanagurthy",
      "userId": "04008675568867142584"
     },
     "user_tz": -330
    },
    "id": "276cc250",
    "outputId": "a0495d65-1413-4a9c-f856-d31df620fb11"
   },
   "outputs": [
    {
     "name": "stderr",
     "output_type": "stream",
     "text": [
      "C:\\ProgramData\\Anaconda3\\lib\\site-packages\\seaborn\\_decorators.py:36: FutureWarning: Pass the following variable as a keyword arg: x. From version 0.12, the only valid positional argument will be `data`, and passing other arguments without an explicit keyword will result in an error or misinterpretation.\n",
      "  warnings.warn(\n"
     ]
    },
    {
     "data": {
      "text/plain": [
       "<AxesSubplot:xlabel='Income'>"
      ]
     },
     "execution_count": 33,
     "metadata": {},
     "output_type": "execute_result"
    },
    {
     "data": {
      "image/png": "[encoded data removed]",
      "text/plain": [
       "<Figure size 432x288 with 1 Axes>"
      ]
     },
     "metadata": {
      "needs_background": "light"
     },
     "output_type": "display_data"
    }
   ],
   "source": [
    "sns.boxplot(df['Income'])"
   ]
  },
  {
   "cell_type": "code",
   "execution_count": 34,
   "id": "0a355585",
   "metadata": {
    "colab": {
     "base_uri": "https://localhost:8080/",
     "height": 447
    },
    "executionInfo": {
     "elapsed": 27,
     "status": "ok",
     "timestamp": 1687512832410,
     "user": {
      "displayName": "Sony Somanagurthy",
      "userId": "04008675568867142584"
     },
     "user_tz": -330
    },
    "id": "0a355585",
    "outputId": "f5d5076d-962b-4f42-a0fb-f35bb042a84a"
   },
   "outputs": [
    {
     "name": "stderr",
     "output_type": "stream",
     "text": [
      "C:\\ProgramData\\Anaconda3\\lib\\site-packages\\seaborn\\_decorators.py:36: FutureWarning: Pass the following variable as a keyword arg: x. From version 0.12, the only valid positional argument will be `data`, and passing other arguments without an explicit keyword will result in an error or misinterpretation.\n",
      "  warnings.warn(\n"
     ]
    },
    {
     "data": {
      "text/plain": [
       "<AxesSubplot:xlabel='Age'>"
      ]
     },
     "execution_count": 34,
     "metadata": {},
     "output_type": "execute_result"
    },
    {
     "data": {
      "image/png": "[encoded data removed]",
      "text/plain": [
       "<Figure size 432x288 with 1 Axes>"
      ]
     },
     "metadata": {
      "needs_background": "light"
     },
     "output_type": "display_data"
    }
   ],
   "source": [
    "sns.boxplot(df['Age'])"
   ]
  },
  {
   "cell_type": "code",
   "execution_count": null,
   "id": "IctKI0mDyrZW",
   "metadata": {
    "executionInfo": {
     "elapsed": 21,
     "status": "ok",
     "timestamp": 1687512832410,
     "user": {
      "displayName": "Sony Somanagurthy",
      "userId": "04008675568867142584"
     },
     "user_tz": -330
    },
    "id": "IctKI0mDyrZW"
   },
   "outputs": [],
   "source": []
  },
  {
   "cell_type": "code",
   "execution_count": null,
   "id": "qf49z3d8yu2M",
   "metadata": {
    "executionInfo": {
     "elapsed": 22,
     "status": "ok",
     "timestamp": 1687512832411,
     "user": {
      "displayName": "Sony Somanagurthy",
      "userId": "04008675568867142584"
     },
     "user_tz": -330
    },
    "id": "qf49z3d8yu2M"
   },
   "outputs": [],
   "source": []
  },
  {
   "cell_type": "code",
   "execution_count": 35,
   "id": "e5d88d46",
   "metadata": {
    "executionInfo": {
     "elapsed": 22,
     "status": "ok",
     "timestamp": 1687512832411,
     "user": {
      "displayName": "Sony Somanagurthy",
      "userId": "04008675568867142584"
     },
     "user_tz": -330
    },
    "id": "e5d88d46"
   },
   "outputs": [],
   "source": [
    "# EDA\n",
    "import pandas as pd\n",
    "from sklearn.cluster import KMeans\n",
    "from sklearn.preprocessing import LabelEncoder"
   ]
  },
  {
   "cell_type": "code",
   "execution_count": 36,
   "id": "jJK6WsYwzYnb",
   "metadata": {
    "executionInfo": {
     "elapsed": 22,
     "status": "ok",
     "timestamp": 1687512832412,
     "user": {
      "displayName": "Sony Somanagurthy",
      "userId": "04008675568867142584"
     },
     "user_tz": -330
    },
    "id": "jJK6WsYwzYnb"
   },
   "outputs": [],
   "source": [
    "# Perform One-Hot Encoding on \"Marital_Status\" column\n",
    "marital_status_encoded = pd.get_dummies(df[\"Marital_Status\"])"
   ]
  },
  {
   "cell_type": "code",
   "execution_count": 37,
   "id": "Uec5s1RC11Cl",
   "metadata": {
    "executionInfo": {
     "elapsed": 22,
     "status": "ok",
     "timestamp": 1687512832412,
     "user": {
      "displayName": "Sony Somanagurthy",
      "userId": "04008675568867142584"
     },
     "user_tz": -330
    },
    "id": "Uec5s1RC11Cl"
   },
   "outputs": [],
   "source": [
    "# Perform One-Hot Encoding on \"Marital_Status\" column\n",
    "education_status_encoded = pd.get_dummies(df[\"Education\"])"
   ]
  },
  {
   "cell_type": "code",
   "execution_count": 38,
   "id": "a26a6dd6",
   "metadata": {
    "executionInfo": {
     "elapsed": 22,
     "status": "ok",
     "timestamp": 1687512832412,
     "user": {
      "displayName": "Sony Somanagurthy",
      "userId": "04008675568867142584"
     },
     "user_tz": -330
    },
    "id": "a26a6dd6"
   },
   "outputs": [],
   "source": [
    "#1. Marital Status\n",
    "marital_group = df.groupby(\"Marital_Status\").agg( TotalRecords = (\"Marital_Status\", 'size'),\n",
    "                                                TotalAmount = (\"TotalSpendings\", 'sum'),\n",
    "                                                AvgAmount = (\"TotalSpendings\", 'mean'))"
   ]
  },
  {
   "cell_type": "code",
   "execution_count": 39,
   "id": "4HiXrEyyzXgr",
   "metadata": {
    "executionInfo": {
     "elapsed": 23,
     "status": "ok",
     "timestamp": 1687512832413,
     "user": {
      "displayName": "Sony Somanagurthy",
      "userId": "04008675568867142584"
     },
     "user_tz": -330
    },
    "id": "4HiXrEyyzXgr"
   },
   "outputs": [],
   "source": [
    "# Concatenate the encoded columns with the original dataset\n",
    "df = pd.concat([df, marital_status_encoded, education_status_encoded], axis=1)"
   ]
  },
  {
   "cell_type": "code",
   "execution_count": 40,
   "id": "hTMCh0ud2GiF",
   "metadata": {
    "colab": {
     "base_uri": "https://localhost:8080/",
     "height": 305
    },
    "executionInfo": {
     "elapsed": 22,
     "status": "ok",
     "timestamp": 1687512832413,
     "user": {
      "displayName": "Sony Somanagurthy",
      "userId": "04008675568867142584"
     },
     "user_tz": -330
    },
    "id": "hTMCh0ud2GiF",
    "outputId": "e9f8a1ba-3283-4cb5-a2b1-7079d1611ee3"
   },
   "outputs": [
    {
     "data": {
      "text/html": [
       "<div>\n",
       "<style scoped>\n",
       "    .dataframe tbody tr th:only-of-type {\n",
       "        vertical-align: middle;\n",
       "    }\n",
       "\n",
       "    .dataframe tbody tr th {\n",
       "        vertical-align: top;\n",
       "    }\n",
       "\n",
       "    .dataframe thead th {\n",
       "        text-align: right;\n",
       "    }\n",
       "</style>\n",
       "<table border=\"1\" class=\"dataframe\">\n",
       "  <thead>\n",
       "    <tr style=\"text-align: right;\">\n",
       "      <th></th>\n",
       "      <th>ID</th>\n",
       "      <th>Year_Birth</th>\n",
       "      <th>Education</th>\n",
       "      <th>Marital_Status</th>\n",
       "      <th>Income</th>\n",
       "      <th>Kidhome</th>\n",
       "      <th>Teenhome</th>\n",
       "      <th>Dt_Customer</th>\n",
       "      <th>Recency</th>\n",
       "      <th>MntWines</th>\n",
       "      <th>MntFruits</th>\n",
       "      <th>MntMeatProducts</th>\n",
       "      <th>MntFishProducts</th>\n",
       "      <th>MntSweetProducts</th>\n",
       "      <th>MntGoldProds</th>\n",
       "      <th>NumDealsPurchases</th>\n",
       "      <th>NumWebPurchases</th>\n",
       "      <th>NumCatalogPurchases</th>\n",
       "      <th>NumStorePurchases</th>\n",
       "      <th>WebEnrollment</th>\n",
       "      <th>AcceptedCmp3</th>\n",
       "      <th>AcceptedCmp4</th>\n",
       "      <th>AcceptedCmp5</th>\n",
       "      <th>AcceptedCmp1</th>\n",
       "      <th>AcceptedCmp2</th>\n",
       "      <th>Complain</th>\n",
       "      <th>Z_CostContact</th>\n",
       "      <th>Z_Revenue</th>\n",
       "      <th>Response</th>\n",
       "      <th>Age</th>\n",
       "      <th>AgeGroup</th>\n",
       "      <th>TotalSpendings</th>\n",
       "      <th>Children</th>\n",
       "      <th>PlaceSpendings</th>\n",
       "      <th>Accepting_Cmps</th>\n",
       "      <th>MonthEnrollment</th>\n",
       "      <th>Partners</th>\n",
       "      <th>Single</th>\n",
       "      <th>Advance Education</th>\n",
       "      <th>Basic</th>\n",
       "      <th>Graduation</th>\n",
       "    </tr>\n",
       "  </thead>\n",
       "  <tbody>\n",
       "    <tr>\n",
       "      <th>0</th>\n",
       "      <td>5524</td>\n",
       "      <td>1957</td>\n",
       "      <td>Graduation</td>\n",
       "      <td>Single</td>\n",
       "      <td>58138.0</td>\n",
       "      <td>0</td>\n",
       "      <td>0</td>\n",
       "      <td>2012-04-09</td>\n",
       "      <td>58</td>\n",
       "      <td>635</td>\n",
       "      <td>88</td>\n",
       "      <td>546</td>\n",
       "      <td>172</td>\n",
       "      <td>88</td>\n",
       "      <td>88</td>\n",
       "      <td>3</td>\n",
       "      <td>8</td>\n",
       "      <td>10</td>\n",
       "      <td>4</td>\n",
       "      <td>7</td>\n",
       "      <td>0</td>\n",
       "      <td>0</td>\n",
       "      <td>0</td>\n",
       "      <td>0</td>\n",
       "      <td>0</td>\n",
       "      <td>0</td>\n",
       "      <td>3</td>\n",
       "      <td>11</td>\n",
       "      <td>1</td>\n",
       "      <td>66</td>\n",
       "      <td>Seniors</td>\n",
       "      <td>1617</td>\n",
       "      <td>0</td>\n",
       "      <td>25</td>\n",
       "      <td>0</td>\n",
       "      <td>129</td>\n",
       "      <td>0</td>\n",
       "      <td>1</td>\n",
       "      <td>0</td>\n",
       "      <td>0</td>\n",
       "      <td>1</td>\n",
       "    </tr>\n",
       "    <tr>\n",
       "      <th>1</th>\n",
       "      <td>2174</td>\n",
       "      <td>1954</td>\n",
       "      <td>Graduation</td>\n",
       "      <td>Single</td>\n",
       "      <td>46344.0</td>\n",
       "      <td>1</td>\n",
       "      <td>1</td>\n",
       "      <td>2014-08-03</td>\n",
       "      <td>38</td>\n",
       "      <td>11</td>\n",
       "      <td>1</td>\n",
       "      <td>6</td>\n",
       "      <td>2</td>\n",
       "      <td>1</td>\n",
       "      <td>6</td>\n",
       "      <td>2</td>\n",
       "      <td>1</td>\n",
       "      <td>1</td>\n",
       "      <td>2</td>\n",
       "      <td>5</td>\n",
       "      <td>0</td>\n",
       "      <td>0</td>\n",
       "      <td>0</td>\n",
       "      <td>0</td>\n",
       "      <td>0</td>\n",
       "      <td>0</td>\n",
       "      <td>3</td>\n",
       "      <td>11</td>\n",
       "      <td>0</td>\n",
       "      <td>69</td>\n",
       "      <td>Seniors</td>\n",
       "      <td>27</td>\n",
       "      <td>2</td>\n",
       "      <td>6</td>\n",
       "      <td>0</td>\n",
       "      <td>101</td>\n",
       "      <td>0</td>\n",
       "      <td>1</td>\n",
       "      <td>0</td>\n",
       "      <td>0</td>\n",
       "      <td>1</td>\n",
       "    </tr>\n",
       "    <tr>\n",
       "      <th>2</th>\n",
       "      <td>4141</td>\n",
       "      <td>1965</td>\n",
       "      <td>Graduation</td>\n",
       "      <td>Partners</td>\n",
       "      <td>71613.0</td>\n",
       "      <td>0</td>\n",
       "      <td>0</td>\n",
       "      <td>2013-08-21</td>\n",
       "      <td>26</td>\n",
       "      <td>426</td>\n",
       "      <td>49</td>\n",
       "      <td>127</td>\n",
       "      <td>111</td>\n",
       "      <td>21</td>\n",
       "      <td>42</td>\n",
       "      <td>1</td>\n",
       "      <td>8</td>\n",
       "      <td>2</td>\n",
       "      <td>10</td>\n",
       "      <td>4</td>\n",
       "      <td>0</td>\n",
       "      <td>0</td>\n",
       "      <td>0</td>\n",
       "      <td>0</td>\n",
       "      <td>0</td>\n",
       "      <td>0</td>\n",
       "      <td>3</td>\n",
       "      <td>11</td>\n",
       "      <td>0</td>\n",
       "      <td>58</td>\n",
       "      <td>Adults</td>\n",
       "      <td>776</td>\n",
       "      <td>0</td>\n",
       "      <td>21</td>\n",
       "      <td>0</td>\n",
       "      <td>113</td>\n",
       "      <td>1</td>\n",
       "      <td>0</td>\n",
       "      <td>0</td>\n",
       "      <td>0</td>\n",
       "      <td>1</td>\n",
       "    </tr>\n",
       "    <tr>\n",
       "      <th>3</th>\n",
       "      <td>6182</td>\n",
       "      <td>1984</td>\n",
       "      <td>Graduation</td>\n",
       "      <td>Partners</td>\n",
       "      <td>26646.0</td>\n",
       "      <td>1</td>\n",
       "      <td>0</td>\n",
       "      <td>2014-10-02</td>\n",
       "      <td>26</td>\n",
       "      <td>11</td>\n",
       "      <td>4</td>\n",
       "      <td>20</td>\n",
       "      <td>10</td>\n",
       "      <td>3</td>\n",
       "      <td>5</td>\n",
       "      <td>2</td>\n",
       "      <td>2</td>\n",
       "      <td>0</td>\n",
       "      <td>4</td>\n",
       "      <td>6</td>\n",
       "      <td>0</td>\n",
       "      <td>0</td>\n",
       "      <td>0</td>\n",
       "      <td>0</td>\n",
       "      <td>0</td>\n",
       "      <td>0</td>\n",
       "      <td>3</td>\n",
       "      <td>11</td>\n",
       "      <td>0</td>\n",
       "      <td>39</td>\n",
       "      <td>Adults</td>\n",
       "      <td>53</td>\n",
       "      <td>1</td>\n",
       "      <td>8</td>\n",
       "      <td>0</td>\n",
       "      <td>99</td>\n",
       "      <td>1</td>\n",
       "      <td>0</td>\n",
       "      <td>0</td>\n",
       "      <td>0</td>\n",
       "      <td>1</td>\n",
       "    </tr>\n",
       "    <tr>\n",
       "      <th>4</th>\n",
       "      <td>5324</td>\n",
       "      <td>1981</td>\n",
       "      <td>Advance Education</td>\n",
       "      <td>Partners</td>\n",
       "      <td>58293.0</td>\n",
       "      <td>1</td>\n",
       "      <td>0</td>\n",
       "      <td>2014-01-19</td>\n",
       "      <td>94</td>\n",
       "      <td>173</td>\n",
       "      <td>43</td>\n",
       "      <td>118</td>\n",
       "      <td>46</td>\n",
       "      <td>27</td>\n",
       "      <td>15</td>\n",
       "      <td>5</td>\n",
       "      <td>5</td>\n",
       "      <td>3</td>\n",
       "      <td>6</td>\n",
       "      <td>5</td>\n",
       "      <td>0</td>\n",
       "      <td>0</td>\n",
       "      <td>0</td>\n",
       "      <td>0</td>\n",
       "      <td>0</td>\n",
       "      <td>0</td>\n",
       "      <td>3</td>\n",
       "      <td>11</td>\n",
       "      <td>0</td>\n",
       "      <td>42</td>\n",
       "      <td>Adults</td>\n",
       "      <td>422</td>\n",
       "      <td>1</td>\n",
       "      <td>19</td>\n",
       "      <td>0</td>\n",
       "      <td>108</td>\n",
       "      <td>1</td>\n",
       "      <td>0</td>\n",
       "      <td>1</td>\n",
       "      <td>0</td>\n",
       "      <td>0</td>\n",
       "    </tr>\n",
       "  </tbody>\n",
       "</table>\n",
       "</div>"
      ],
      "text/plain": [
       "     ID  Year_Birth          Education Marital_Status   Income  Kidhome  \\\n",
       "0  5524        1957         Graduation         Single  58138.0        0   \n",
       "1  2174        1954         Graduation         Single  46344.0        1   \n",
       "2  4141        1965         Graduation       Partners  71613.0        0   \n",
       "3  6182        1984         Graduation       Partners  26646.0        1   \n",
       "4  5324        1981  Advance Education       Partners  58293.0        1   \n",
       "\n",
       "   Teenhome Dt_Customer  Recency  MntWines  MntFruits  MntMeatProducts  \\\n",
       "0         0  2012-04-09       58       635         88              546   \n",
       "1         1  2014-08-03       38        11          1                6   \n",
       "2         0  2013-08-21       26       426         49              127   \n",
       "3         0  2014-10-02       26        11          4               20   \n",
       "4         0  2014-01-19       94       173         43              118   \n",
       "\n",
       "   MntFishProducts  MntSweetProducts  MntGoldProds  NumDealsPurchases  \\\n",
       "0              172                88            88                  3   \n",
       "1                2                 1             6                  2   \n",
       "2              111                21            42                  1   \n",
       "3               10                 3             5                  2   \n",
       "4               46                27            15                  5   \n",
       "\n",
       "   NumWebPurchases  NumCatalogPurchases  NumStorePurchases  WebEnrollment  \\\n",
       "0                8                   10                  4              7   \n",
       "1                1                    1                  2              5   \n",
       "2                8                    2                 10              4   \n",
       "3                2                    0                  4              6   \n",
       "4                5                    3                  6              5   \n",
       "\n",
       "   AcceptedCmp3  AcceptedCmp4  AcceptedCmp5  AcceptedCmp1  AcceptedCmp2  \\\n",
       "0             0             0             0             0             0   \n",
       "1             0             0             0             0             0   \n",
       "2             0             0             0             0             0   \n",
       "3             0             0             0             0             0   \n",
       "4             0             0             0             0             0   \n",
       "\n",
       "   Complain  Z_CostContact  Z_Revenue  Response  Age AgeGroup  TotalSpendings  \\\n",
       "0         0              3         11         1   66  Seniors            1617   \n",
       "1         0              3         11         0   69  Seniors              27   \n",
       "2         0              3         11         0   58   Adults             776   \n",
       "3         0              3         11         0   39   Adults              53   \n",
       "4         0              3         11         0   42   Adults             422   \n",
       "\n",
       "   Children  PlaceSpendings  Accepting_Cmps  MonthEnrollment  Partners  \\\n",
       "0         0              25               0              129         0   \n",
       "1         2               6               0              101         0   \n",
       "2         0              21               0              113         1   \n",
       "3         1               8               0               99         1   \n",
       "4         1              19               0              108         1   \n",
       "\n",
       "   Single  Advance Education  Basic  Graduation  \n",
       "0       1                  0      0           1  \n",
       "1       1                  0      0           1  \n",
       "2       0                  0      0           1  \n",
       "3       0                  0      0           1  \n",
       "4       0                  1      0           0  "
      ]
     },
     "execution_count": 40,
     "metadata": {},
     "output_type": "execute_result"
    }
   ],
   "source": [
    "df.head()"
   ]
  },
  {
   "cell_type": "code",
   "execution_count": 41,
   "id": "fd2405b6",
   "metadata": {
    "colab": {
     "base_uri": "https://localhost:8080/",
     "height": 143
    },
    "executionInfo": {
     "elapsed": 21,
     "status": "ok",
     "timestamp": 1687512832413,
     "user": {
      "displayName": "Sony Somanagurthy",
      "userId": "04008675568867142584"
     },
     "user_tz": -330
    },
    "id": "fd2405b6",
    "outputId": "5b0bdf3d-c9f8-4ad8-f0ba-8d241ea6d9c0"
   },
   "outputs": [
    {
     "data": {
      "text/html": [
       "<div>\n",
       "<style scoped>\n",
       "    .dataframe tbody tr th:only-of-type {\n",
       "        vertical-align: middle;\n",
       "    }\n",
       "\n",
       "    .dataframe tbody tr th {\n",
       "        vertical-align: top;\n",
       "    }\n",
       "\n",
       "    .dataframe thead th {\n",
       "        text-align: right;\n",
       "    }\n",
       "</style>\n",
       "<table border=\"1\" class=\"dataframe\">\n",
       "  <thead>\n",
       "    <tr style=\"text-align: right;\">\n",
       "      <th></th>\n",
       "      <th>TotalRecords</th>\n",
       "      <th>TotalAmount</th>\n",
       "      <th>AvgAmount</th>\n",
       "    </tr>\n",
       "    <tr>\n",
       "      <th>Marital_Status</th>\n",
       "      <th></th>\n",
       "      <th></th>\n",
       "      <th></th>\n",
       "    </tr>\n",
       "  </thead>\n",
       "  <tbody>\n",
       "    <tr>\n",
       "      <th>Partners</th>\n",
       "      <td>1422</td>\n",
       "      <td>848610</td>\n",
       "      <td>596.772152</td>\n",
       "    </tr>\n",
       "    <tr>\n",
       "      <th>Single</th>\n",
       "      <td>782</td>\n",
       "      <td>489155</td>\n",
       "      <td>625.517903</td>\n",
       "    </tr>\n",
       "  </tbody>\n",
       "</table>\n",
       "</div>"
      ],
      "text/plain": [
       "                TotalRecords  TotalAmount   AvgAmount\n",
       "Marital_Status                                       \n",
       "Partners                1422       848610  596.772152\n",
       "Single                   782       489155  625.517903"
      ]
     },
     "execution_count": 41,
     "metadata": {},
     "output_type": "execute_result"
    }
   ],
   "source": [
    "marital_group"
   ]
  },
  {
   "cell_type": "code",
   "execution_count": 42,
   "id": "8bf0cf9d",
   "metadata": {
    "colab": {
     "base_uri": "https://localhost:8080/",
     "height": 504
    },
    "executionInfo": {
     "elapsed": 1433,
     "status": "ok",
     "timestamp": 1687512833826,
     "user": {
      "displayName": "Sony Somanagurthy",
      "userId": "04008675568867142584"
     },
     "user_tz": -330
    },
    "id": "8bf0cf9d",
    "outputId": "8e42645b-a146-4aae-8e20-b7654717eacd"
   },
   "outputs": [
    {
     "data": {
      "text/plain": [
       "Text(0.5, 1.0, 'Average Amount by Marital Status')"
      ]
     },
     "execution_count": 42,
     "metadata": {},
     "output_type": "execute_result"
    },
    {
     "data": {
      "image/png": "[encoded data removed]",
      "text/plain": [
       "<Figure size 1080x360 with 3 Axes>"
      ]
     },
     "metadata": {
      "needs_background": "light"
     },
     "output_type": "display_data"
    }
   ],
   "source": [
    "\n",
    "# Create a figure with three subplots\n",
    "fig, axes = plt.subplots(nrows=1, ncols=3, figsize=(15, 5))\n",
    "\n",
    "# Plot histogram for TotalRecords\n",
    "axes[0].bar(marital_group.index, marital_group['TotalRecords'])\n",
    "axes[0].set_xlabel('Marital Status')\n",
    "axes[0].set_ylabel('Total Records')\n",
    "axes[0].set_title('Total Records by Marital Status')\n",
    "\n",
    "# Plot histogram for TotalAmount\n",
    "axes[1].bar(marital_group.index, marital_group['TotalAmount'])\n",
    "axes[1].set_xlabel('Marital Status')\n",
    "axes[1].set_ylabel('Total Amount')\n",
    "axes[1].set_title('Total Amount by Marital Status')\n",
    "# Plot histogram for AvgAmount\n",
    "axes[2].bar(marital_group.index, marital_group['AvgAmount'])\n",
    "axes[2].set_xlabel('Marital Status')\n",
    "axes[2].set_ylabel('Average Amount')\n",
    "axes[2].set_title('Average Amount by Marital Status')\n",
    "\n"
   ]
  },
  {
   "cell_type": "code",
   "execution_count": null,
   "id": "iSzyviqszWC7",
   "metadata": {
    "executionInfo": {
     "elapsed": 23,
     "status": "ok",
     "timestamp": 1687512833827,
     "user": {
      "displayName": "Sony Somanagurthy",
      "userId": "04008675568867142584"
     },
     "user_tz": -330
    },
    "id": "iSzyviqszWC7"
   },
   "outputs": [],
   "source": []
  },
  {
   "cell_type": "code",
   "execution_count": 43,
   "id": "5eb508d4",
   "metadata": {
    "executionInfo": {
     "elapsed": 23,
     "status": "ok",
     "timestamp": 1687512833827,
     "user": {
      "displayName": "Sony Somanagurthy",
      "userId": "04008675568867142584"
     },
     "user_tz": -330
    },
    "id": "5eb508d4"
   },
   "outputs": [],
   "source": [
    "#2. Age\n",
    "Age_group = df.groupby(\"AgeGroup\").agg( TotalRecords = (\"AgeGroup\", 'size'),\n",
    "                                                TotalAmount = (\"TotalSpendings\", 'sum'),\n",
    "                                                AvgAmount = (\"TotalSpendings\", 'mean'))"
   ]
  },
  {
   "cell_type": "code",
   "execution_count": 44,
   "id": "47bde2f4",
   "metadata": {
    "colab": {
     "base_uri": "https://localhost:8080/",
     "height": 143
    },
    "executionInfo": {
     "elapsed": 23,
     "status": "ok",
     "timestamp": 1687512833828,
     "user": {
      "displayName": "Sony Somanagurthy",
      "userId": "04008675568867142584"
     },
     "user_tz": -330
    },
    "id": "47bde2f4",
    "outputId": "eecc807a-b543-4b71-e25d-089024e78540"
   },
   "outputs": [
    {
     "data": {
      "text/html": [
       "<div>\n",
       "<style scoped>\n",
       "    .dataframe tbody tr th:only-of-type {\n",
       "        vertical-align: middle;\n",
       "    }\n",
       "\n",
       "    .dataframe tbody tr th {\n",
       "        vertical-align: top;\n",
       "    }\n",
       "\n",
       "    .dataframe thead th {\n",
       "        text-align: right;\n",
       "    }\n",
       "</style>\n",
       "<table border=\"1\" class=\"dataframe\">\n",
       "  <thead>\n",
       "    <tr style=\"text-align: right;\">\n",
       "      <th></th>\n",
       "      <th>TotalRecords</th>\n",
       "      <th>TotalAmount</th>\n",
       "      <th>AvgAmount</th>\n",
       "    </tr>\n",
       "    <tr>\n",
       "      <th>AgeGroup</th>\n",
       "      <th></th>\n",
       "      <th></th>\n",
       "      <th></th>\n",
       "    </tr>\n",
       "  </thead>\n",
       "  <tbody>\n",
       "    <tr>\n",
       "      <th>Adults</th>\n",
       "      <td>1475</td>\n",
       "      <td>815444</td>\n",
       "      <td>552.843390</td>\n",
       "    </tr>\n",
       "    <tr>\n",
       "      <th>Seniors</th>\n",
       "      <td>729</td>\n",
       "      <td>522321</td>\n",
       "      <td>716.489712</td>\n",
       "    </tr>\n",
       "  </tbody>\n",
       "</table>\n",
       "</div>"
      ],
      "text/plain": [
       "          TotalRecords  TotalAmount   AvgAmount\n",
       "AgeGroup                                       \n",
       "Adults            1475       815444  552.843390\n",
       "Seniors            729       522321  716.489712"
      ]
     },
     "execution_count": 44,
     "metadata": {},
     "output_type": "execute_result"
    }
   ],
   "source": [
    "Age_group"
   ]
  },
  {
   "cell_type": "code",
   "execution_count": 45,
   "id": "e51952dd",
   "metadata": {
    "colab": {
     "base_uri": "https://localhost:8080/",
     "height": 504
    },
    "executionInfo": {
     "elapsed": 21,
     "status": "ok",
     "timestamp": 1687512833828,
     "user": {
      "displayName": "Sony Somanagurthy",
      "userId": "04008675568867142584"
     },
     "user_tz": -330
    },
    "id": "e51952dd",
    "outputId": "a94bffb4-2fcc-4668-94fe-79e10dd17e03"
   },
   "outputs": [
    {
     "data": {
      "text/plain": [
       "Text(0.5, 1.0, 'Average Amount by Age Group')"
      ]
     },
     "execution_count": 45,
     "metadata": {},
     "output_type": "execute_result"
    },
    {
     "data": {
      "image/png": "[encoded data removed]",
      "text/plain": [
       "<Figure size 1080x360 with 3 Axes>"
      ]
     },
     "metadata": {
      "needs_background": "light"
     },
     "output_type": "display_data"
    }
   ],
   "source": [
    "# Create a figure with three subplots\n",
    "fig, axes = plt.subplots(nrows=1, ncols=3, figsize=(15, 5))\n",
    "\n",
    "# Plot histogram for TotalRecords\n",
    "axes[0].bar(Age_group.index, Age_group['TotalRecords'])\n",
    "axes[0].set_xlabel('Age Group')\n",
    "axes[0].set_ylabel('Total Records')\n",
    "axes[0].set_title('Total Records by Age Group')\n",
    "\n",
    "# Plot histogram for TotalAmount\n",
    "axes[1].bar(Age_group.index, Age_group['TotalAmount'])\n",
    "axes[1].set_xlabel('Age Group')\n",
    "axes[1].set_ylabel('Total Amount')\n",
    "axes[1].set_title('Total Amount by Age Group')\n",
    "# Plot histogram for AvgAmount\n",
    "axes[2].bar(Age_group.index, Age_group['AvgAmount'])\n",
    "axes[2].set_xlabel('Age Group')\n",
    "axes[2].set_ylabel('Average Amount')\n",
    "axes[2].set_title('Average Amount by Age Group')"
   ]
  },
  {
   "cell_type": "code",
   "execution_count": 46,
   "id": "c7ceb115",
   "metadata": {
    "executionInfo": {
     "elapsed": 15,
     "status": "ok",
     "timestamp": 1687512833829,
     "user": {
      "displayName": "Sony Somanagurthy",
      "userId": "04008675568867142584"
     },
     "user_tz": -330
    },
    "id": "c7ceb115"
   },
   "outputs": [],
   "source": [
    "#3. Education\n",
    "Education_group = df.groupby(\"Education\").agg( TotalRecords = (\"Education\", 'size'),\n",
    "                                                TotalAmount = (\"TotalSpendings\", 'sum'),\n",
    "                                                AvgAmount = (\"TotalSpendings\", 'mean'))"
   ]
  },
  {
   "cell_type": "code",
   "execution_count": 47,
   "id": "181ec385",
   "metadata": {
    "colab": {
     "base_uri": "https://localhost:8080/",
     "height": 175
    },
    "executionInfo": {
     "elapsed": 15,
     "status": "ok",
     "timestamp": 1687512833829,
     "user": {
      "displayName": "Sony Somanagurthy",
      "userId": "04008675568867142584"
     },
     "user_tz": -330
    },
    "id": "181ec385",
    "outputId": "0619fe4d-fade-49af-ff5a-6b24d3abde92"
   },
   "outputs": [
    {
     "data": {
      "text/html": [
       "<div>\n",
       "<style scoped>\n",
       "    .dataframe tbody tr th:only-of-type {\n",
       "        vertical-align: middle;\n",
       "    }\n",
       "\n",
       "    .dataframe tbody tr th {\n",
       "        vertical-align: top;\n",
       "    }\n",
       "\n",
       "    .dataframe thead th {\n",
       "        text-align: right;\n",
       "    }\n",
       "</style>\n",
       "<table border=\"1\" class=\"dataframe\">\n",
       "  <thead>\n",
       "    <tr style=\"text-align: right;\">\n",
       "      <th></th>\n",
       "      <th>TotalRecords</th>\n",
       "      <th>TotalAmount</th>\n",
       "      <th>AvgAmount</th>\n",
       "    </tr>\n",
       "    <tr>\n",
       "      <th>Education</th>\n",
       "      <th></th>\n",
       "      <th></th>\n",
       "      <th></th>\n",
       "    </tr>\n",
       "  </thead>\n",
       "  <tbody>\n",
       "    <tr>\n",
       "      <th>Advance Education</th>\n",
       "      <td>1037</td>\n",
       "      <td>641344</td>\n",
       "      <td>618.460945</td>\n",
       "    </tr>\n",
       "    <tr>\n",
       "      <th>Basic</th>\n",
       "      <td>54</td>\n",
       "      <td>4417</td>\n",
       "      <td>81.796296</td>\n",
       "    </tr>\n",
       "    <tr>\n",
       "      <th>Graduation</th>\n",
       "      <td>1113</td>\n",
       "      <td>692004</td>\n",
       "      <td>621.746631</td>\n",
       "    </tr>\n",
       "  </tbody>\n",
       "</table>\n",
       "</div>"
      ],
      "text/plain": [
       "                   TotalRecords  TotalAmount   AvgAmount\n",
       "Education                                               \n",
       "Advance Education          1037       641344  618.460945\n",
       "Basic                        54         4417   81.796296\n",
       "Graduation                 1113       692004  621.746631"
      ]
     },
     "execution_count": 47,
     "metadata": {},
     "output_type": "execute_result"
    }
   ],
   "source": [
    "Education_group"
   ]
  },
  {
   "cell_type": "code",
   "execution_count": 48,
   "id": "1f9dda94",
   "metadata": {
    "colab": {
     "base_uri": "https://localhost:8080/",
     "height": 504
    },
    "executionInfo": {
     "elapsed": 1372,
     "status": "ok",
     "timestamp": 1687512835187,
     "user": {
      "displayName": "Sony Somanagurthy",
      "userId": "04008675568867142584"
     },
     "user_tz": -330
    },
    "id": "1f9dda94",
    "outputId": "c002a35a-4743-4e34-a510-643159abb37e"
   },
   "outputs": [
    {
     "data": {
      "text/plain": [
       "Text(0.5, 1.0, 'Average Amount by Education')"
      ]
     },
     "execution_count": 48,
     "metadata": {},
     "output_type": "execute_result"
    },
    {
     "data": {
      "image/png": "[encoded data removed]",
      "text/plain": [
       "<Figure size 1080x360 with 3 Axes>"
      ]
     },
     "metadata": {
      "needs_background": "light"
     },
     "output_type": "display_data"
    }
   ],
   "source": [
    "# Create a figure with three subplots\n",
    "fig, axes = plt.subplots(nrows=1, ncols=3, figsize=(15, 5))\n",
    "\n",
    "# Plot histogram for TotalRecords\n",
    "axes[0].bar(Education_group.index, Education_group['TotalRecords'])\n",
    "axes[0].set_xlabel('Education')\n",
    "axes[0].set_ylabel('Total Records')\n",
    "axes[0].set_title('Total Records by Education ')\n",
    "\n",
    "# Plot histogram for TotalAmount\n",
    "axes[1].bar(Education_group.index, Education_group['TotalAmount'])\n",
    "axes[1].set_xlabel('Education')\n",
    "axes[1].set_ylabel('Total Amount')\n",
    "axes[1].set_title('Total Amount by Education')\n",
    "# Plot histogram for AvgAmount\n",
    "axes[2].bar(Education_group.index, Education_group['AvgAmount'])\n",
    "axes[2].set_xlabel('Education')\n",
    "axes[2].set_ylabel('Average Amount')\n",
    "axes[2].set_title('Average Amount by Education')"
   ]
  },
  {
   "cell_type": "code",
   "execution_count": 49,
   "id": "8eed55cc",
   "metadata": {
    "executionInfo": {
     "elapsed": 30,
     "status": "ok",
     "timestamp": 1687512835188,
     "user": {
      "displayName": "Sony Somanagurthy",
      "userId": "04008675568867142584"
     },
     "user_tz": -330
    },
    "id": "8eed55cc"
   },
   "outputs": [],
   "source": [
    "#2. Children\n",
    "kids_group = df.groupby(\"Children\").agg( TotalRecords = (\"Children\", 'size'),\n",
    "                                                TotalAmount = (\"TotalSpendings\", 'sum'),\n",
    "                                                AvgAmount = (\"TotalSpendings\", 'mean'))"
   ]
  },
  {
   "cell_type": "code",
   "execution_count": 50,
   "id": "f9879e45",
   "metadata": {
    "colab": {
     "base_uri": "https://localhost:8080/",
     "height": 504
    },
    "executionInfo": {
     "elapsed": 29,
     "status": "ok",
     "timestamp": 1687512835188,
     "user": {
      "displayName": "Sony Somanagurthy",
      "userId": "04008675568867142584"
     },
     "user_tz": -330
    },
    "id": "f9879e45",
    "outputId": "dc9204f3-1282-4557-80e5-6aff2b4c903c"
   },
   "outputs": [
    {
     "data": {
      "text/plain": [
       "Text(0.5, 1.0, 'Average Amount by Kids')"
      ]
     },
     "execution_count": 50,
     "metadata": {},
     "output_type": "execute_result"
    },
    {
     "data": {
      "image/png": "[encoded data removed]",
      "text/plain": [
       "<Figure size 1080x360 with 3 Axes>"
      ]
     },
     "metadata": {
      "needs_background": "light"
     },
     "output_type": "display_data"
    }
   ],
   "source": [
    "# Create a figure with three subplots\n",
    "fig, axes = plt.subplots(nrows=1, ncols=3, figsize=(15, 5))\n",
    "\n",
    "# Plot histogram for TotalRecords\n",
    "axes[0].bar(kids_group.index, kids_group['TotalRecords'])\n",
    "axes[0].set_xlabel('Children')\n",
    "axes[0].set_ylabel('Total Records')\n",
    "axes[0].set_title('Total Records by Kids ')\n",
    "\n",
    "# Plot histogram for TotalAmount\n",
    "axes[1].bar(kids_group.index, kids_group['TotalAmount'])\n",
    "axes[1].set_xlabel('Children')\n",
    "axes[1].set_ylabel('Total Amount')\n",
    "axes[1].set_title('Total Amount by Kids')\n",
    "# Plot histogram for AvgAmount\n",
    "axes[2].bar(kids_group.index, kids_group['AvgAmount'])\n",
    "axes[2].set_xlabel('Children')\n",
    "axes[2].set_ylabel('Average Amount')\n",
    "axes[2].set_title('Average Amount by Kids')"
   ]
  },
  {
   "cell_type": "code",
   "execution_count": 51,
   "id": "da4aa436",
   "metadata": {
    "executionInfo": {
     "elapsed": 22,
     "status": "ok",
     "timestamp": 1687512835189,
     "user": {
      "displayName": "Sony Somanagurthy",
      "userId": "04008675568867142584"
     },
     "user_tz": -330
    },
    "id": "da4aa436"
   },
   "outputs": [],
   "source": [
    "#Clustering Modelling"
   ]
  },
  {
   "cell_type": "code",
   "execution_count": 52,
   "id": "Fy8WJH2m6kuE",
   "metadata": {
    "colab": {
     "base_uri": "https://localhost:8080/"
    },
    "executionInfo": {
     "elapsed": 22,
     "status": "ok",
     "timestamp": 1687512835189,
     "user": {
      "displayName": "Sony Somanagurthy",
      "userId": "04008675568867142584"
     },
     "user_tz": -330
    },
    "id": "Fy8WJH2m6kuE",
    "outputId": "221893dd-51f1-4373-cf90-50c8c9670126"
   },
   "outputs": [
    {
     "data": {
      "text/plain": [
       "(2204, 41)"
      ]
     },
     "execution_count": 52,
     "metadata": {},
     "output_type": "execute_result"
    }
   ],
   "source": [
    "df.shape"
   ]
  },
  {
   "cell_type": "code",
   "execution_count": 53,
   "id": "e8f37d14",
   "metadata": {
    "colab": {
     "base_uri": "https://localhost:8080/"
    },
    "executionInfo": {
     "elapsed": 20,
     "status": "ok",
     "timestamp": 1687512835190,
     "user": {
      "displayName": "Sony Somanagurthy",
      "userId": "04008675568867142584"
     },
     "user_tz": -330
    },
    "id": "e8f37d14",
    "outputId": "860a6c3a-8ba9-4c37-e111-cf45f9332e7d"
   },
   "outputs": [
    {
     "data": {
      "text/plain": [
       "Index(['ID', 'Year_Birth', 'Education', 'Marital_Status', 'Income', 'Kidhome',\n",
       "       'Teenhome', 'Dt_Customer', 'Recency', 'MntWines', 'MntFruits',\n",
       "       'MntMeatProducts', 'MntFishProducts', 'MntSweetProducts',\n",
       "       'MntGoldProds', 'NumDealsPurchases', 'NumWebPurchases',\n",
       "       'NumCatalogPurchases', 'NumStorePurchases', 'WebEnrollment',\n",
       "       'AcceptedCmp3', 'AcceptedCmp4', 'AcceptedCmp5', 'AcceptedCmp1',\n",
       "       'AcceptedCmp2', 'Complain', 'Z_CostContact', 'Z_Revenue', 'Response',\n",
       "       'Age', 'AgeGroup', 'TotalSpendings', 'Children', 'PlaceSpendings',\n",
       "       'Accepting_Cmps', 'MonthEnrollment', 'Partners', 'Single',\n",
       "       'Advance Education', 'Basic', 'Graduation'],\n",
       "      dtype='object')"
      ]
     },
     "execution_count": 53,
     "metadata": {},
     "output_type": "execute_result"
    }
   ],
   "source": [
    "df.columns"
   ]
  },
  {
   "cell_type": "code",
   "execution_count": 54,
   "id": "4209e12f",
   "metadata": {
    "executionInfo": {
     "elapsed": 17,
     "status": "ok",
     "timestamp": 1687512835190,
     "user": {
      "displayName": "Sony Somanagurthy",
      "userId": "04008675568867142584"
     },
     "user_tz": -330
    },
    "id": "4209e12f"
   },
   "outputs": [],
   "source": [
    "finaldf = df.drop( ['ID', 'Year_Birth', 'Education', 'Marital_Status', 'Kidhome',\n",
    "       'Teenhome', 'Dt_Customer',  'MntWines', 'MntFruits',\n",
    "       'MntMeatProducts', 'MntFishProducts', 'MntSweetProducts',\n",
    "       'MntGoldProds', 'NumDealsPurchases', 'NumWebPurchases',\n",
    "       'NumCatalogPurchases', 'NumStorePurchases',\n",
    "       'AcceptedCmp3', 'AcceptedCmp4', 'AcceptedCmp5', 'AcceptedCmp1',\n",
    "       'AcceptedCmp2', 'Z_CostContact', 'Z_Revenue','AgeGroup'] , axis = 1)"
   ]
  },
  {
   "cell_type": "code",
   "execution_count": 55,
   "id": "bb59ab22",
   "metadata": {
    "colab": {
     "base_uri": "https://localhost:8080/",
     "height": 206
    },
    "executionInfo": {
     "elapsed": 18,
     "status": "ok",
     "timestamp": 1687512835191,
     "user": {
      "displayName": "Sony Somanagurthy",
      "userId": "04008675568867142584"
     },
     "user_tz": -330
    },
    "id": "bb59ab22",
    "outputId": "934967b9-a3c0-442b-ecfd-4d2ed4d6f283"
   },
   "outputs": [
    {
     "data": {
      "text/html": [
       "<div>\n",
       "<style scoped>\n",
       "    .dataframe tbody tr th:only-of-type {\n",
       "        vertical-align: middle;\n",
       "    }\n",
       "\n",
       "    .dataframe tbody tr th {\n",
       "        vertical-align: top;\n",
       "    }\n",
       "\n",
       "    .dataframe thead th {\n",
       "        text-align: right;\n",
       "    }\n",
       "</style>\n",
       "<table border=\"1\" class=\"dataframe\">\n",
       "  <thead>\n",
       "    <tr style=\"text-align: right;\">\n",
       "      <th></th>\n",
       "      <th>Income</th>\n",
       "      <th>Recency</th>\n",
       "      <th>WebEnrollment</th>\n",
       "      <th>Complain</th>\n",
       "      <th>Response</th>\n",
       "      <th>Age</th>\n",
       "      <th>TotalSpendings</th>\n",
       "      <th>Children</th>\n",
       "      <th>PlaceSpendings</th>\n",
       "      <th>Accepting_Cmps</th>\n",
       "      <th>MonthEnrollment</th>\n",
       "      <th>Partners</th>\n",
       "      <th>Single</th>\n",
       "      <th>Advance Education</th>\n",
       "      <th>Basic</th>\n",
       "      <th>Graduation</th>\n",
       "    </tr>\n",
       "  </thead>\n",
       "  <tbody>\n",
       "    <tr>\n",
       "      <th>0</th>\n",
       "      <td>58138.0</td>\n",
       "      <td>58</td>\n",
       "      <td>7</td>\n",
       "      <td>0</td>\n",
       "      <td>1</td>\n",
       "      <td>66</td>\n",
       "      <td>1617</td>\n",
       "      <td>0</td>\n",
       "      <td>25</td>\n",
       "      <td>0</td>\n",
       "      <td>129</td>\n",
       "      <td>0</td>\n",
       "      <td>1</td>\n",
       "      <td>0</td>\n",
       "      <td>0</td>\n",
       "      <td>1</td>\n",
       "    </tr>\n",
       "    <tr>\n",
       "      <th>1</th>\n",
       "      <td>46344.0</td>\n",
       "      <td>38</td>\n",
       "      <td>5</td>\n",
       "      <td>0</td>\n",
       "      <td>0</td>\n",
       "      <td>69</td>\n",
       "      <td>27</td>\n",
       "      <td>2</td>\n",
       "      <td>6</td>\n",
       "      <td>0</td>\n",
       "      <td>101</td>\n",
       "      <td>0</td>\n",
       "      <td>1</td>\n",
       "      <td>0</td>\n",
       "      <td>0</td>\n",
       "      <td>1</td>\n",
       "    </tr>\n",
       "    <tr>\n",
       "      <th>2</th>\n",
       "      <td>71613.0</td>\n",
       "      <td>26</td>\n",
       "      <td>4</td>\n",
       "      <td>0</td>\n",
       "      <td>0</td>\n",
       "      <td>58</td>\n",
       "      <td>776</td>\n",
       "      <td>0</td>\n",
       "      <td>21</td>\n",
       "      <td>0</td>\n",
       "      <td>113</td>\n",
       "      <td>1</td>\n",
       "      <td>0</td>\n",
       "      <td>0</td>\n",
       "      <td>0</td>\n",
       "      <td>1</td>\n",
       "    </tr>\n",
       "    <tr>\n",
       "      <th>3</th>\n",
       "      <td>26646.0</td>\n",
       "      <td>26</td>\n",
       "      <td>6</td>\n",
       "      <td>0</td>\n",
       "      <td>0</td>\n",
       "      <td>39</td>\n",
       "      <td>53</td>\n",
       "      <td>1</td>\n",
       "      <td>8</td>\n",
       "      <td>0</td>\n",
       "      <td>99</td>\n",
       "      <td>1</td>\n",
       "      <td>0</td>\n",
       "      <td>0</td>\n",
       "      <td>0</td>\n",
       "      <td>1</td>\n",
       "    </tr>\n",
       "    <tr>\n",
       "      <th>4</th>\n",
       "      <td>58293.0</td>\n",
       "      <td>94</td>\n",
       "      <td>5</td>\n",
       "      <td>0</td>\n",
       "      <td>0</td>\n",
       "      <td>42</td>\n",
       "      <td>422</td>\n",
       "      <td>1</td>\n",
       "      <td>19</td>\n",
       "      <td>0</td>\n",
       "      <td>108</td>\n",
       "      <td>1</td>\n",
       "      <td>0</td>\n",
       "      <td>1</td>\n",
       "      <td>0</td>\n",
       "      <td>0</td>\n",
       "    </tr>\n",
       "  </tbody>\n",
       "</table>\n",
       "</div>"
      ],
      "text/plain": [
       "    Income  Recency  WebEnrollment  Complain  Response  Age  TotalSpendings  \\\n",
       "0  58138.0       58              7         0         1   66            1617   \n",
       "1  46344.0       38              5         0         0   69              27   \n",
       "2  71613.0       26              4         0         0   58             776   \n",
       "3  26646.0       26              6         0         0   39              53   \n",
       "4  58293.0       94              5         0         0   42             422   \n",
       "\n",
       "   Children  PlaceSpendings  Accepting_Cmps  MonthEnrollment  Partners  \\\n",
       "0         0              25               0              129         0   \n",
       "1         2               6               0              101         0   \n",
       "2         0              21               0              113         1   \n",
       "3         1               8               0               99         1   \n",
       "4         1              19               0              108         1   \n",
       "\n",
       "   Single  Advance Education  Basic  Graduation  \n",
       "0       1                  0      0           1  \n",
       "1       1                  0      0           1  \n",
       "2       0                  0      0           1  \n",
       "3       0                  0      0           1  \n",
       "4       0                  1      0           0  "
      ]
     },
     "execution_count": 55,
     "metadata": {},
     "output_type": "execute_result"
    }
   ],
   "source": [
    "finaldf.head()"
   ]
  },
  {
   "cell_type": "code",
   "execution_count": 56,
   "id": "vJqU60hI71Yq",
   "metadata": {
    "executionInfo": {
     "elapsed": 17,
     "status": "ok",
     "timestamp": 1687512835191,
     "user": {
      "displayName": "Sony Somanagurthy",
      "userId": "04008675568867142584"
     },
     "user_tz": -330
    },
    "id": "vJqU60hI71Yq"
   },
   "outputs": [],
   "source": [
    "finaldf = finaldf[['Age','Partners','Single','Children','Basic','Graduation','Advance Education','Income','TotalSpendings','PlaceSpendings','WebEnrollment','MonthEnrollment','Accepting_Cmps','Recency','Complain','Response']]"
   ]
  },
  {
   "cell_type": "code",
   "execution_count": 57,
   "id": "d33d5c13",
   "metadata": {
    "executionInfo": {
     "elapsed": 16,
     "status": "ok",
     "timestamp": 1687512835191,
     "user": {
      "displayName": "Sony Somanagurthy",
      "userId": "04008675568867142584"
     },
     "user_tz": -330
    },
    "id": "d33d5c13"
   },
   "outputs": [],
   "source": [
    "finaldf.to_csv(\"Inputdata.csv\", index = False)"
   ]
  },
  {
   "cell_type": "code",
   "execution_count": 58,
   "id": "4f1f7621",
   "metadata": {
    "colab": {
     "base_uri": "https://localhost:8080/"
    },
    "executionInfo": {
     "elapsed": 17,
     "status": "ok",
     "timestamp": 1687512835192,
     "user": {
      "displayName": "Sony Somanagurthy",
      "userId": "04008675568867142584"
     },
     "user_tz": -330
    },
    "id": "4f1f7621",
    "outputId": "5e056646-39e1-4bda-b43b-3a73d066d885"
   },
   "outputs": [
    {
     "data": {
      "text/plain": [
       "(2204, 16)"
      ]
     },
     "execution_count": 58,
     "metadata": {},
     "output_type": "execute_result"
    }
   ],
   "source": [
    "finaldf.shape"
   ]
  },
  {
   "cell_type": "code",
   "execution_count": 59,
   "id": "f55a73a3",
   "metadata": {
    "colab": {
     "base_uri": "https://localhost:8080/",
     "height": 344
    },
    "executionInfo": {
     "elapsed": 850,
     "status": "ok",
     "timestamp": 1687512836029,
     "user": {
      "displayName": "Sony Somanagurthy",
      "userId": "04008675568867142584"
     },
     "user_tz": -330
    },
    "id": "f55a73a3",
    "outputId": "ce1b9830-44d1-44a8-db9c-5e8abdf085c1"
   },
   "outputs": [
    {
     "data": {
      "text/html": [
       "<div>\n",
       "<style scoped>\n",
       "    .dataframe tbody tr th:only-of-type {\n",
       "        vertical-align: middle;\n",
       "    }\n",
       "\n",
       "    .dataframe tbody tr th {\n",
       "        vertical-align: top;\n",
       "    }\n",
       "\n",
       "    .dataframe thead th {\n",
       "        text-align: right;\n",
       "    }\n",
       "</style>\n",
       "<table border=\"1\" class=\"dataframe\">\n",
       "  <thead>\n",
       "    <tr style=\"text-align: right;\">\n",
       "      <th></th>\n",
       "      <th>Age</th>\n",
       "      <th>Partners</th>\n",
       "      <th>Single</th>\n",
       "      <th>Children</th>\n",
       "      <th>Basic</th>\n",
       "      <th>Graduation</th>\n",
       "      <th>Advance Education</th>\n",
       "      <th>Income</th>\n",
       "      <th>TotalSpendings</th>\n",
       "      <th>PlaceSpendings</th>\n",
       "      <th>WebEnrollment</th>\n",
       "      <th>MonthEnrollment</th>\n",
       "      <th>Accepting_Cmps</th>\n",
       "      <th>Recency</th>\n",
       "      <th>Complain</th>\n",
       "      <th>Response</th>\n",
       "    </tr>\n",
       "  </thead>\n",
       "  <tbody>\n",
       "    <tr>\n",
       "      <th>count</th>\n",
       "      <td>2204.000000</td>\n",
       "      <td>2204.000000</td>\n",
       "      <td>2204.000000</td>\n",
       "      <td>2204.000000</td>\n",
       "      <td>2204.000000</td>\n",
       "      <td>2204.000000</td>\n",
       "      <td>2204.000000</td>\n",
       "      <td>2204.000000</td>\n",
       "      <td>2204.000000</td>\n",
       "      <td>2204.000000</td>\n",
       "      <td>2204.000000</td>\n",
       "      <td>2204.000000</td>\n",
       "      <td>2204.000000</td>\n",
       "      <td>2204.000000</td>\n",
       "      <td>2204.000000</td>\n",
       "      <td>2204.000000</td>\n",
       "    </tr>\n",
       "    <tr>\n",
       "      <th>mean</th>\n",
       "      <td>54.084846</td>\n",
       "      <td>0.645191</td>\n",
       "      <td>0.354809</td>\n",
       "      <td>0.949183</td>\n",
       "      <td>0.024501</td>\n",
       "      <td>0.504991</td>\n",
       "      <td>0.470508</td>\n",
       "      <td>51593.913339</td>\n",
       "      <td>606.971416</td>\n",
       "      <td>14.882486</td>\n",
       "      <td>5.338929</td>\n",
       "      <td>114.148367</td>\n",
       "      <td>0.299456</td>\n",
       "      <td>49.027223</td>\n",
       "      <td>0.009074</td>\n",
       "      <td>0.151089</td>\n",
       "    </tr>\n",
       "    <tr>\n",
       "      <th>std</th>\n",
       "      <td>11.697370</td>\n",
       "      <td>0.478564</td>\n",
       "      <td>0.478564</td>\n",
       "      <td>0.749128</td>\n",
       "      <td>0.154633</td>\n",
       "      <td>0.500089</td>\n",
       "      <td>0.499243</td>\n",
       "      <td>20675.438792</td>\n",
       "      <td>601.770781</td>\n",
       "      <td>7.612630</td>\n",
       "      <td>2.412313</td>\n",
       "      <td>7.668829</td>\n",
       "      <td>0.680565</td>\n",
       "      <td>28.926114</td>\n",
       "      <td>0.094848</td>\n",
       "      <td>0.358217</td>\n",
       "    </tr>\n",
       "    <tr>\n",
       "      <th>min</th>\n",
       "      <td>27.000000</td>\n",
       "      <td>0.000000</td>\n",
       "      <td>0.000000</td>\n",
       "      <td>0.000000</td>\n",
       "      <td>0.000000</td>\n",
       "      <td>0.000000</td>\n",
       "      <td>0.000000</td>\n",
       "      <td>1730.000000</td>\n",
       "      <td>5.000000</td>\n",
       "      <td>0.000000</td>\n",
       "      <td>0.000000</td>\n",
       "      <td>97.000000</td>\n",
       "      <td>0.000000</td>\n",
       "      <td>0.000000</td>\n",
       "      <td>0.000000</td>\n",
       "      <td>0.000000</td>\n",
       "    </tr>\n",
       "    <tr>\n",
       "      <th>25%</th>\n",
       "      <td>46.000000</td>\n",
       "      <td>0.000000</td>\n",
       "      <td>0.000000</td>\n",
       "      <td>0.000000</td>\n",
       "      <td>0.000000</td>\n",
       "      <td>0.000000</td>\n",
       "      <td>0.000000</td>\n",
       "      <td>35191.500000</td>\n",
       "      <td>69.000000</td>\n",
       "      <td>8.000000</td>\n",
       "      <td>3.000000</td>\n",
       "      <td>109.000000</td>\n",
       "      <td>0.000000</td>\n",
       "      <td>24.000000</td>\n",
       "      <td>0.000000</td>\n",
       "      <td>0.000000</td>\n",
       "    </tr>\n",
       "    <tr>\n",
       "      <th>50%</th>\n",
       "      <td>53.000000</td>\n",
       "      <td>1.000000</td>\n",
       "      <td>0.000000</td>\n",
       "      <td>1.000000</td>\n",
       "      <td>0.000000</td>\n",
       "      <td>1.000000</td>\n",
       "      <td>0.000000</td>\n",
       "      <td>51277.000000</td>\n",
       "      <td>397.000000</td>\n",
       "      <td>15.000000</td>\n",
       "      <td>6.000000</td>\n",
       "      <td>114.000000</td>\n",
       "      <td>0.000000</td>\n",
       "      <td>49.000000</td>\n",
       "      <td>0.000000</td>\n",
       "      <td>0.000000</td>\n",
       "    </tr>\n",
       "    <tr>\n",
       "      <th>75%</th>\n",
       "      <td>64.000000</td>\n",
       "      <td>1.000000</td>\n",
       "      <td>1.000000</td>\n",
       "      <td>1.000000</td>\n",
       "      <td>0.000000</td>\n",
       "      <td>1.000000</td>\n",
       "      <td>1.000000</td>\n",
       "      <td>68275.750000</td>\n",
       "      <td>1047.250000</td>\n",
       "      <td>21.000000</td>\n",
       "      <td>7.000000</td>\n",
       "      <td>120.000000</td>\n",
       "      <td>0.000000</td>\n",
       "      <td>74.000000</td>\n",
       "      <td>0.000000</td>\n",
       "      <td>0.000000</td>\n",
       "    </tr>\n",
       "    <tr>\n",
       "      <th>max</th>\n",
       "      <td>83.000000</td>\n",
       "      <td>1.000000</td>\n",
       "      <td>1.000000</td>\n",
       "      <td>3.000000</td>\n",
       "      <td>1.000000</td>\n",
       "      <td>1.000000</td>\n",
       "      <td>1.000000</td>\n",
       "      <td>105471.000000</td>\n",
       "      <td>2525.000000</td>\n",
       "      <td>43.000000</td>\n",
       "      <td>20.000000</td>\n",
       "      <td>132.000000</td>\n",
       "      <td>4.000000</td>\n",
       "      <td>99.000000</td>\n",
       "      <td>1.000000</td>\n",
       "      <td>1.000000</td>\n",
       "    </tr>\n",
       "  </tbody>\n",
       "</table>\n",
       "</div>"
      ],
      "text/plain": [
       "               Age     Partners       Single     Children        Basic  \\\n",
       "count  2204.000000  2204.000000  2204.000000  2204.000000  2204.000000   \n",
       "mean     54.084846     0.645191     0.354809     0.949183     0.024501   \n",
       "std      11.697370     0.478564     0.478564     0.749128     0.154633   \n",
       "min      27.000000     0.000000     0.000000     0.000000     0.000000   \n",
       "25%      46.000000     0.000000     0.000000     0.000000     0.000000   \n",
       "50%      53.000000     1.000000     0.000000     1.000000     0.000000   \n",
       "75%      64.000000     1.000000     1.000000     1.000000     0.000000   \n",
       "max      83.000000     1.000000     1.000000     3.000000     1.000000   \n",
       "\n",
       "        Graduation  Advance Education         Income  TotalSpendings  \\\n",
       "count  2204.000000        2204.000000    2204.000000     2204.000000   \n",
       "mean      0.504991           0.470508   51593.913339      606.971416   \n",
       "std       0.500089           0.499243   20675.438792      601.770781   \n",
       "min       0.000000           0.000000    1730.000000        5.000000   \n",
       "25%       0.000000           0.000000   35191.500000       69.000000   \n",
       "50%       1.000000           0.000000   51277.000000      397.000000   \n",
       "75%       1.000000           1.000000   68275.750000     1047.250000   \n",
       "max       1.000000           1.000000  105471.000000     2525.000000   \n",
       "\n",
       "       PlaceSpendings  WebEnrollment  MonthEnrollment  Accepting_Cmps  \\\n",
       "count     2204.000000    2204.000000      2204.000000     2204.000000   \n",
       "mean        14.882486       5.338929       114.148367        0.299456   \n",
       "std          7.612630       2.412313         7.668829        0.680565   \n",
       "min          0.000000       0.000000        97.000000        0.000000   \n",
       "25%          8.000000       3.000000       109.000000        0.000000   \n",
       "50%         15.000000       6.000000       114.000000        0.000000   \n",
       "75%         21.000000       7.000000       120.000000        0.000000   \n",
       "max         43.000000      20.000000       132.000000        4.000000   \n",
       "\n",
       "           Recency     Complain     Response  \n",
       "count  2204.000000  2204.000000  2204.000000  \n",
       "mean     49.027223     0.009074     0.151089  \n",
       "std      28.926114     0.094848     0.358217  \n",
       "min       0.000000     0.000000     0.000000  \n",
       "25%      24.000000     0.000000     0.000000  \n",
       "50%      49.000000     0.000000     0.000000  \n",
       "75%      74.000000     0.000000     0.000000  \n",
       "max      99.000000     1.000000     1.000000  "
      ]
     },
     "execution_count": 59,
     "metadata": {},
     "output_type": "execute_result"
    }
   ],
   "source": [
    "finaldf.describe()"
   ]
  },
  {
   "cell_type": "code",
   "execution_count": 60,
   "id": "a5b27424",
   "metadata": {
    "executionInfo": {
     "elapsed": 23,
     "status": "ok",
     "timestamp": 1687512836029,
     "user": {
      "displayName": "Sony Somanagurthy",
      "userId": "04008675568867142584"
     },
     "user_tz": -330
    },
    "id": "a5b27424"
   },
   "outputs": [],
   "source": [
    "from sklearn.cluster import KMeans\n",
    "from sklearn import metrics"
   ]
  },
  {
   "cell_type": "code",
   "execution_count": 61,
   "id": "67681c07",
   "metadata": {
    "colab": {
     "base_uri": "https://localhost:8080/",
     "height": 109
    },
    "executionInfo": {
     "elapsed": 23,
     "status": "ok",
     "timestamp": 1687512836030,
     "user": {
      "displayName": "Sony Somanagurthy",
      "userId": "04008675568867142584"
     },
     "user_tz": -330
    },
    "id": "67681c07",
    "outputId": "6136bd52-25bb-46a1-9287-f6dc9b589e49"
   },
   "outputs": [
    {
     "data": {
      "text/plain": [
       "KMeans()"
      ]
     },
     "execution_count": 61,
     "metadata": {},
     "output_type": "execute_result"
    }
   ],
   "source": [
    "model = KMeans()\n",
    "model.fit(finaldf)"
   ]
  },
  {
   "cell_type": "code",
   "execution_count": 62,
   "id": "ff793011",
   "metadata": {
    "colab": {
     "base_uri": "https://localhost:8080/"
    },
    "executionInfo": {
     "elapsed": 15,
     "status": "ok",
     "timestamp": 1687512836030,
     "user": {
      "displayName": "Sony Somanagurthy",
      "userId": "04008675568867142584"
     },
     "user_tz": -330
    },
    "id": "ff793011",
    "outputId": "0ecce4b6-16b0-44b5-de3e-e78a2c1dc72b"
   },
   "outputs": [
    {
     "data": {
      "text/plain": [
       "array([4, 2, 0, ..., 4, 0, 4])"
      ]
     },
     "execution_count": 62,
     "metadata": {},
     "output_type": "execute_result"
    }
   ],
   "source": [
    "model.labels_"
   ]
  },
  {
   "cell_type": "code",
   "execution_count": 63,
   "id": "217a8854",
   "metadata": {
    "colab": {
     "base_uri": "https://localhost:8080/"
    },
    "executionInfo": {
     "elapsed": 5721,
     "status": "ok",
     "timestamp": 1687512841740,
     "user": {
      "displayName": "Sony Somanagurthy",
      "userId": "04008675568867142584"
     },
     "user_tz": -330
    },
    "id": "217a8854",
    "outputId": "eb9f684f-5722-41e8-ad98-9680b292e004"
   },
   "outputs": [],
   "source": [
    "clusterRange = range(2, 21)\n",
    "inertiaRange = []\n",
    "silhouterange = []\n",
    "for m in clusterRange :\n",
    "    model_m = KMeans(n_clusters = m, init='random')\n",
    "    model_m.fit(finaldf)\n",
    "    inertiaRange.append(model_m.inertia_)\n",
    "    silhouterange.append(metrics.silhouette_score(finaldf, model_m.labels_))"
   ]
  },
  {
   "cell_type": "code",
   "execution_count": 64,
   "id": "f31e28a0",
   "metadata": {
    "colab": {
     "base_uri": "https://localhost:8080/"
    },
    "executionInfo": {
     "elapsed": 25,
     "status": "ok",
     "timestamp": 1687512841741,
     "user": {
      "displayName": "Sony Somanagurthy",
      "userId": "04008675568867142584"
     },
     "user_tz": -330
    },
    "id": "f31e28a0",
    "outputId": "fe6e8543-4230-4235-f768-b8c0356e3996"
   },
   "outputs": [
    {
     "name": "stdout",
     "output_type": "stream",
     "text": [
      "[2, 3, 4, 5, 6, 7, 8, 9, 10, 11, 12, 13, 14, 15, 16, 17, 18, 19, 20]\n",
      "\n",
      "[262861890423.0904, 134847396480.75894, 79835627022.46484, 52517100361.84284, 39416900282.38087, 30234459803.45367, 23289924777.098194, 18421478148.927788, 14826611167.427517, 12397416078.601738, 10818237334.143488, 8809189889.363617, 7710411492.408862, 6762799017.709641, 6022031462.86955, 5336959039.647726, 4744899251.925175, 4369783479.354338, 3960985678.9144797]\n",
      "[0.6113217013535287, 0.5494956733188869, 0.5371256413569666, 0.5380098167070297, 0.5179138824386559, 0.5123523715711642, 0.5190905283682885, 0.5197223224985569, 0.5227989007430303, 0.524891757012239, 0.5118059649332705, 0.5234760521791116, 0.5188090467524149, 0.5174449439672726, 0.5209775666132219, 0.5126924969991258, 0.5220910738602654, 0.5207894323896063, 0.5197534196285007]\n"
     ]
    }
   ],
   "source": [
    "print(list(clusterRange))\n",
    "print()\n",
    "print(inertiaRange)\n",
    "print(silhouterange)\n"
   ]
  },
  {
   "cell_type": "code",
   "execution_count": 65,
   "id": "141cf659",
   "metadata": {
    "colab": {
     "base_uri": "https://localhost:8080/",
     "height": 862
    },
    "executionInfo": {
     "elapsed": 999,
     "status": "ok",
     "timestamp": 1687512842723,
     "user": {
      "displayName": "Sony Somanagurthy",
      "userId": "04008675568867142584"
     },
     "user_tz": -330
    },
    "id": "141cf659",
    "outputId": "7bd2eece-bbd1-42cb-9a65-b1d9d98532d4"
   },
   "outputs": [
    {
     "data": {
      "text/plain": [
       "[<matplotlib.lines.Line2D at 0x17524742250>]"
      ]
     },
     "execution_count": 65,
     "metadata": {},
     "output_type": "execute_result"
    },
    {
     "data": {
      "image/png": "[encoded data removed]",
      "text/plain": [
       "<Figure size 1080x720 with 1 Axes>"
      ]
     },
     "metadata": {
      "needs_background": "light"
     },
     "output_type": "display_data"
    }
   ],
   "source": [
    "plt.figure(figsize = (15, 10))\n",
    "plt.plot(clusterRange, inertiaRange)"
   ]
  },
  {
   "cell_type": "code",
   "execution_count": 66,
   "id": "28800bf9",
   "metadata": {
    "executionInfo": {
     "elapsed": 14,
     "status": "ok",
     "timestamp": 1687512842723,
     "user": {
      "displayName": "Sony Somanagurthy",
      "userId": "04008675568867142584"
     },
     "user_tz": -330
    },
    "id": "28800bf9"
   },
   "outputs": [],
   "source": [
    "# Number of clusters shall be 4"
   ]
  },
  {
   "cell_type": "code",
   "execution_count": 67,
   "id": "a0b562c1",
   "metadata": {
    "colab": {
     "base_uri": "https://localhost:8080/",
     "height": 109
    },
    "executionInfo": {
     "elapsed": 13,
     "status": "ok",
     "timestamp": 1687512842723,
     "user": {
      "displayName": "Sony Somanagurthy",
      "userId": "04008675568867142584"
     },
     "user_tz": -330
    },
    "id": "a0b562c1",
    "outputId": "c99231e6-40c1-4e86-d3a3-fb4664b857b5"
   },
   "outputs": [
    {
     "data": {
      "text/plain": [
       "KMeans(n_clusters=4)"
      ]
     },
     "execution_count": 67,
     "metadata": {},
     "output_type": "execute_result"
    }
   ],
   "source": [
    "model = KMeans(n_clusters=4)\n",
    "model.fit(finaldf)"
   ]
  },
  {
   "cell_type": "code",
   "execution_count": 68,
   "id": "WmAe1RPs-D-l",
   "metadata": {
    "executionInfo": {
     "elapsed": 8,
     "status": "ok",
     "timestamp": 1687512842724,
     "user": {
      "displayName": "Sony Somanagurthy",
      "userId": "04008675568867142584"
     },
     "user_tz": -330
    },
    "id": "WmAe1RPs-D-l"
   },
   "outputs": [],
   "source": [
    "# Add a new column to finaldf to store the cluster labels\n",
    "finaldf['ClusterLabel'] = model.labels_\n"
   ]
  },
  {
   "cell_type": "code",
   "execution_count": 69,
   "id": "QsRQA9gxpLmB",
   "metadata": {
    "colab": {
     "base_uri": "https://localhost:8080/",
     "height": 206
    },
    "executionInfo": {
     "elapsed": 700,
     "status": "ok",
     "timestamp": 1687512843417,
     "user": {
      "displayName": "Sony Somanagurthy",
      "userId": "04008675568867142584"
     },
     "user_tz": -330
    },
    "id": "QsRQA9gxpLmB",
    "outputId": "71e85c5f-1f12-400e-a166-7a19026b89e9"
   },
   "outputs": [
    {
     "data": {
      "text/html": [
       "<div>\n",
       "<style scoped>\n",
       "    .dataframe tbody tr th:only-of-type {\n",
       "        vertical-align: middle;\n",
       "    }\n",
       "\n",
       "    .dataframe tbody tr th {\n",
       "        vertical-align: top;\n",
       "    }\n",
       "\n",
       "    .dataframe thead th {\n",
       "        text-align: right;\n",
       "    }\n",
       "</style>\n",
       "<table border=\"1\" class=\"dataframe\">\n",
       "  <thead>\n",
       "    <tr style=\"text-align: right;\">\n",
       "      <th></th>\n",
       "      <th>Age</th>\n",
       "      <th>Partners</th>\n",
       "      <th>Single</th>\n",
       "      <th>Children</th>\n",
       "      <th>Basic</th>\n",
       "      <th>Graduation</th>\n",
       "      <th>Advance Education</th>\n",
       "      <th>Income</th>\n",
       "      <th>TotalSpendings</th>\n",
       "      <th>PlaceSpendings</th>\n",
       "      <th>WebEnrollment</th>\n",
       "      <th>MonthEnrollment</th>\n",
       "      <th>Accepting_Cmps</th>\n",
       "      <th>Recency</th>\n",
       "      <th>Complain</th>\n",
       "      <th>Response</th>\n",
       "      <th>ClusterLabel</th>\n",
       "    </tr>\n",
       "  </thead>\n",
       "  <tbody>\n",
       "    <tr>\n",
       "      <th>0</th>\n",
       "      <td>66</td>\n",
       "      <td>0</td>\n",
       "      <td>1</td>\n",
       "      <td>0</td>\n",
       "      <td>0</td>\n",
       "      <td>1</td>\n",
       "      <td>0</td>\n",
       "      <td>58138.0</td>\n",
       "      <td>1617</td>\n",
       "      <td>25</td>\n",
       "      <td>7</td>\n",
       "      <td>129</td>\n",
       "      <td>0</td>\n",
       "      <td>58</td>\n",
       "      <td>0</td>\n",
       "      <td>1</td>\n",
       "      <td>3</td>\n",
       "    </tr>\n",
       "    <tr>\n",
       "      <th>1</th>\n",
       "      <td>69</td>\n",
       "      <td>0</td>\n",
       "      <td>1</td>\n",
       "      <td>2</td>\n",
       "      <td>0</td>\n",
       "      <td>1</td>\n",
       "      <td>0</td>\n",
       "      <td>46344.0</td>\n",
       "      <td>27</td>\n",
       "      <td>6</td>\n",
       "      <td>5</td>\n",
       "      <td>101</td>\n",
       "      <td>0</td>\n",
       "      <td>38</td>\n",
       "      <td>0</td>\n",
       "      <td>0</td>\n",
       "      <td>0</td>\n",
       "    </tr>\n",
       "    <tr>\n",
       "      <th>2</th>\n",
       "      <td>58</td>\n",
       "      <td>1</td>\n",
       "      <td>0</td>\n",
       "      <td>0</td>\n",
       "      <td>0</td>\n",
       "      <td>1</td>\n",
       "      <td>0</td>\n",
       "      <td>71613.0</td>\n",
       "      <td>776</td>\n",
       "      <td>21</td>\n",
       "      <td>4</td>\n",
       "      <td>113</td>\n",
       "      <td>0</td>\n",
       "      <td>26</td>\n",
       "      <td>0</td>\n",
       "      <td>0</td>\n",
       "      <td>1</td>\n",
       "    </tr>\n",
       "    <tr>\n",
       "      <th>3</th>\n",
       "      <td>39</td>\n",
       "      <td>1</td>\n",
       "      <td>0</td>\n",
       "      <td>1</td>\n",
       "      <td>0</td>\n",
       "      <td>1</td>\n",
       "      <td>0</td>\n",
       "      <td>26646.0</td>\n",
       "      <td>53</td>\n",
       "      <td>8</td>\n",
       "      <td>6</td>\n",
       "      <td>99</td>\n",
       "      <td>0</td>\n",
       "      <td>26</td>\n",
       "      <td>0</td>\n",
       "      <td>0</td>\n",
       "      <td>2</td>\n",
       "    </tr>\n",
       "    <tr>\n",
       "      <th>4</th>\n",
       "      <td>42</td>\n",
       "      <td>1</td>\n",
       "      <td>0</td>\n",
       "      <td>1</td>\n",
       "      <td>0</td>\n",
       "      <td>0</td>\n",
       "      <td>1</td>\n",
       "      <td>58293.0</td>\n",
       "      <td>422</td>\n",
       "      <td>19</td>\n",
       "      <td>5</td>\n",
       "      <td>108</td>\n",
       "      <td>0</td>\n",
       "      <td>94</td>\n",
       "      <td>0</td>\n",
       "      <td>0</td>\n",
       "      <td>3</td>\n",
       "    </tr>\n",
       "  </tbody>\n",
       "</table>\n",
       "</div>"
      ],
      "text/plain": [
       "   Age  Partners  Single  Children  Basic  Graduation  Advance Education  \\\n",
       "0   66         0       1         0      0           1                  0   \n",
       "1   69         0       1         2      0           1                  0   \n",
       "2   58         1       0         0      0           1                  0   \n",
       "3   39         1       0         1      0           1                  0   \n",
       "4   42         1       0         1      0           0                  1   \n",
       "\n",
       "    Income  TotalSpendings  PlaceSpendings  WebEnrollment  MonthEnrollment  \\\n",
       "0  58138.0            1617              25              7              129   \n",
       "1  46344.0              27               6              5              101   \n",
       "2  71613.0             776              21              4              113   \n",
       "3  26646.0              53               8              6               99   \n",
       "4  58293.0             422              19              5              108   \n",
       "\n",
       "   Accepting_Cmps  Recency  Complain  Response  ClusterLabel  \n",
       "0               0       58         0         1             3  \n",
       "1               0       38         0         0             0  \n",
       "2               0       26         0         0             1  \n",
       "3               0       26         0         0             2  \n",
       "4               0       94         0         0             3  "
      ]
     },
     "execution_count": 69,
     "metadata": {},
     "output_type": "execute_result"
    }
   ],
   "source": [
    "finaldf.head()"
   ]
  },
  {
   "cell_type": "code",
   "execution_count": 70,
   "id": "OirQK0v2_y_Y",
   "metadata": {
    "colab": {
     "base_uri": "https://localhost:8080/"
    },
    "executionInfo": {
     "elapsed": 27,
     "status": "ok",
     "timestamp": 1687512843417,
     "user": {
      "displayName": "Sony Somanagurthy",
      "userId": "04008675568867142584"
     },
     "user_tz": -330
    },
    "id": "OirQK0v2_y_Y",
    "outputId": "abba1ce4-54ea-49d4-efdf-6ef81b879a2c"
   },
   "outputs": [
    {
     "data": {
      "text/plain": [
       "0    641\n",
       "3    609\n",
       "1    510\n",
       "2    444\n",
       "Name: ClusterLabel, dtype: int64"
      ]
     },
     "execution_count": 70,
     "metadata": {},
     "output_type": "execute_result"
    }
   ],
   "source": [
    "finaldf['ClusterLabel'].value_counts()"
   ]
  },
  {
   "cell_type": "code",
   "execution_count": 71,
   "id": "7QCR2OCJUtST",
   "metadata": {
    "executionInfo": {
     "elapsed": 23,
     "status": "ok",
     "timestamp": 1687512843418,
     "user": {
      "displayName": "Sony Somanagurthy",
      "userId": "04008675568867142584"
     },
     "user_tz": -330
    },
    "id": "7QCR2OCJUtST"
   },
   "outputs": [],
   "source": [
    "cluster_0_dat = finaldf[finaldf[\"ClusterLabel\"]==0]\n",
    "cluster_1_dat = finaldf[finaldf[\"ClusterLabel\"]==1]\n",
    "cluster_2_dat = finaldf[finaldf[\"ClusterLabel\"]==2]\n",
    "cluster_3_dat = finaldf[finaldf[\"ClusterLabel\"]==3]"
   ]
  },
  {
   "cell_type": "code",
   "execution_count": 72,
   "id": "rqpNWBraUtQE",
   "metadata": {
    "colab": {
     "base_uri": "https://localhost:8080/",
     "height": 206
    },
    "executionInfo": {
     "elapsed": 23,
     "status": "ok",
     "timestamp": 1687512843418,
     "user": {
      "displayName": "Sony Somanagurthy",
      "userId": "04008675568867142584"
     },
     "user_tz": -330
    },
    "id": "rqpNWBraUtQE",
    "outputId": "01b7b04f-2053-4abf-85dc-3fa8b4d4e0b9"
   },
   "outputs": [
    {
     "data": {
      "text/html": [
       "<div>\n",
       "<style scoped>\n",
       "    .dataframe tbody tr th:only-of-type {\n",
       "        vertical-align: middle;\n",
       "    }\n",
       "\n",
       "    .dataframe tbody tr th {\n",
       "        vertical-align: top;\n",
       "    }\n",
       "\n",
       "    .dataframe thead th {\n",
       "        text-align: right;\n",
       "    }\n",
       "</style>\n",
       "<table border=\"1\" class=\"dataframe\">\n",
       "  <thead>\n",
       "    <tr style=\"text-align: right;\">\n",
       "      <th></th>\n",
       "      <th>Age</th>\n",
       "      <th>Partners</th>\n",
       "      <th>Single</th>\n",
       "      <th>Children</th>\n",
       "      <th>Basic</th>\n",
       "      <th>Graduation</th>\n",
       "      <th>Advance Education</th>\n",
       "      <th>Income</th>\n",
       "      <th>TotalSpendings</th>\n",
       "      <th>PlaceSpendings</th>\n",
       "      <th>WebEnrollment</th>\n",
       "      <th>MonthEnrollment</th>\n",
       "      <th>Accepting_Cmps</th>\n",
       "      <th>Recency</th>\n",
       "      <th>Complain</th>\n",
       "      <th>Response</th>\n",
       "      <th>ClusterLabel</th>\n",
       "    </tr>\n",
       "  </thead>\n",
       "  <tbody>\n",
       "    <tr>\n",
       "      <th>1</th>\n",
       "      <td>69</td>\n",
       "      <td>0</td>\n",
       "      <td>1</td>\n",
       "      <td>2</td>\n",
       "      <td>0</td>\n",
       "      <td>1</td>\n",
       "      <td>0</td>\n",
       "      <td>46344.0</td>\n",
       "      <td>27</td>\n",
       "      <td>6</td>\n",
       "      <td>5</td>\n",
       "      <td>101</td>\n",
       "      <td>0</td>\n",
       "      <td>38</td>\n",
       "      <td>0</td>\n",
       "      <td>0</td>\n",
       "      <td>0</td>\n",
       "    </tr>\n",
       "    <tr>\n",
       "      <th>7</th>\n",
       "      <td>38</td>\n",
       "      <td>1</td>\n",
       "      <td>0</td>\n",
       "      <td>1</td>\n",
       "      <td>0</td>\n",
       "      <td>0</td>\n",
       "      <td>1</td>\n",
       "      <td>33454.0</td>\n",
       "      <td>169</td>\n",
       "      <td>10</td>\n",
       "      <td>8</td>\n",
       "      <td>113</td>\n",
       "      <td>0</td>\n",
       "      <td>32</td>\n",
       "      <td>0</td>\n",
       "      <td>0</td>\n",
       "      <td>0</td>\n",
       "    </tr>\n",
       "    <tr>\n",
       "      <th>16</th>\n",
       "      <td>43</td>\n",
       "      <td>1</td>\n",
       "      <td>0</td>\n",
       "      <td>2</td>\n",
       "      <td>0</td>\n",
       "      <td>1</td>\n",
       "      <td>0</td>\n",
       "      <td>41850.0</td>\n",
       "      <td>96</td>\n",
       "      <td>9</td>\n",
       "      <td>8</td>\n",
       "      <td>121</td>\n",
       "      <td>0</td>\n",
       "      <td>51</td>\n",
       "      <td>0</td>\n",
       "      <td>0</td>\n",
       "      <td>0</td>\n",
       "    </tr>\n",
       "    <tr>\n",
       "      <th>17</th>\n",
       "      <td>77</td>\n",
       "      <td>1</td>\n",
       "      <td>0</td>\n",
       "      <td>0</td>\n",
       "      <td>0</td>\n",
       "      <td>1</td>\n",
       "      <td>0</td>\n",
       "      <td>37760.0</td>\n",
       "      <td>317</td>\n",
       "      <td>13</td>\n",
       "      <td>7</td>\n",
       "      <td>125</td>\n",
       "      <td>0</td>\n",
       "      <td>20</td>\n",
       "      <td>0</td>\n",
       "      <td>0</td>\n",
       "      <td>0</td>\n",
       "    </tr>\n",
       "    <tr>\n",
       "      <th>19</th>\n",
       "      <td>38</td>\n",
       "      <td>0</td>\n",
       "      <td>1</td>\n",
       "      <td>1</td>\n",
       "      <td>0</td>\n",
       "      <td>0</td>\n",
       "      <td>1</td>\n",
       "      <td>33812.0</td>\n",
       "      <td>133</td>\n",
       "      <td>8</td>\n",
       "      <td>6</td>\n",
       "      <td>130</td>\n",
       "      <td>0</td>\n",
       "      <td>86</td>\n",
       "      <td>0</td>\n",
       "      <td>0</td>\n",
       "      <td>0</td>\n",
       "    </tr>\n",
       "  </tbody>\n",
       "</table>\n",
       "</div>"
      ],
      "text/plain": [
       "    Age  Partners  Single  Children  Basic  Graduation  Advance Education  \\\n",
       "1    69         0       1         2      0           1                  0   \n",
       "7    38         1       0         1      0           0                  1   \n",
       "16   43         1       0         2      0           1                  0   \n",
       "17   77         1       0         0      0           1                  0   \n",
       "19   38         0       1         1      0           0                  1   \n",
       "\n",
       "     Income  TotalSpendings  PlaceSpendings  WebEnrollment  MonthEnrollment  \\\n",
       "1   46344.0              27               6              5              101   \n",
       "7   33454.0             169              10              8              113   \n",
       "16  41850.0              96               9              8              121   \n",
       "17  37760.0             317              13              7              125   \n",
       "19  33812.0             133               8              6              130   \n",
       "\n",
       "    Accepting_Cmps  Recency  Complain  Response  ClusterLabel  \n",
       "1                0       38         0         0             0  \n",
       "7                0       32         0         0             0  \n",
       "16               0       51         0         0             0  \n",
       "17               0       20         0         0             0  \n",
       "19               0       86         0         0             0  "
      ]
     },
     "execution_count": 72,
     "metadata": {},
     "output_type": "execute_result"
    }
   ],
   "source": [
    "cluster_0_dat.head()\n"
   ]
  },
  {
   "cell_type": "code",
   "execution_count": 73,
   "id": "rfCiDahsUtNT",
   "metadata": {
    "colab": {
     "base_uri": "https://localhost:8080/",
     "height": 206
    },
    "executionInfo": {
     "elapsed": 23,
     "status": "ok",
     "timestamp": 1687512843419,
     "user": {
      "displayName": "Sony Somanagurthy",
      "userId": "04008675568867142584"
     },
     "user_tz": -330
    },
    "id": "rfCiDahsUtNT",
    "outputId": "ca6b34d4-3616-43ab-db48-b067c5114b8d"
   },
   "outputs": [
    {
     "data": {
      "text/html": [
       "<div>\n",
       "<style scoped>\n",
       "    .dataframe tbody tr th:only-of-type {\n",
       "        vertical-align: middle;\n",
       "    }\n",
       "\n",
       "    .dataframe tbody tr th {\n",
       "        vertical-align: top;\n",
       "    }\n",
       "\n",
       "    .dataframe thead th {\n",
       "        text-align: right;\n",
       "    }\n",
       "</style>\n",
       "<table border=\"1\" class=\"dataframe\">\n",
       "  <thead>\n",
       "    <tr style=\"text-align: right;\">\n",
       "      <th></th>\n",
       "      <th>Age</th>\n",
       "      <th>Partners</th>\n",
       "      <th>Single</th>\n",
       "      <th>Children</th>\n",
       "      <th>Basic</th>\n",
       "      <th>Graduation</th>\n",
       "      <th>Advance Education</th>\n",
       "      <th>Income</th>\n",
       "      <th>TotalSpendings</th>\n",
       "      <th>PlaceSpendings</th>\n",
       "      <th>WebEnrollment</th>\n",
       "      <th>MonthEnrollment</th>\n",
       "      <th>Accepting_Cmps</th>\n",
       "      <th>Recency</th>\n",
       "      <th>Complain</th>\n",
       "      <th>Response</th>\n",
       "      <th>ClusterLabel</th>\n",
       "    </tr>\n",
       "  </thead>\n",
       "  <tbody>\n",
       "    <tr>\n",
       "      <th>2</th>\n",
       "      <td>58</td>\n",
       "      <td>1</td>\n",
       "      <td>0</td>\n",
       "      <td>0</td>\n",
       "      <td>0</td>\n",
       "      <td>1</td>\n",
       "      <td>0</td>\n",
       "      <td>71613.0</td>\n",
       "      <td>776</td>\n",
       "      <td>21</td>\n",
       "      <td>4</td>\n",
       "      <td>113</td>\n",
       "      <td>0</td>\n",
       "      <td>26</td>\n",
       "      <td>0</td>\n",
       "      <td>0</td>\n",
       "      <td>1</td>\n",
       "    </tr>\n",
       "    <tr>\n",
       "      <th>15</th>\n",
       "      <td>77</td>\n",
       "      <td>0</td>\n",
       "      <td>1</td>\n",
       "      <td>0</td>\n",
       "      <td>0</td>\n",
       "      <td>0</td>\n",
       "      <td>1</td>\n",
       "      <td>82800.0</td>\n",
       "      <td>1315</td>\n",
       "      <td>26</td>\n",
       "      <td>3</td>\n",
       "      <td>122</td>\n",
       "      <td>2</td>\n",
       "      <td>23</td>\n",
       "      <td>0</td>\n",
       "      <td>1</td>\n",
       "      <td>1</td>\n",
       "    </tr>\n",
       "    <tr>\n",
       "      <th>18</th>\n",
       "      <td>74</td>\n",
       "      <td>1</td>\n",
       "      <td>0</td>\n",
       "      <td>1</td>\n",
       "      <td>0</td>\n",
       "      <td>0</td>\n",
       "      <td>1</td>\n",
       "      <td>76995.0</td>\n",
       "      <td>1782</td>\n",
       "      <td>26</td>\n",
       "      <td>5</td>\n",
       "      <td>118</td>\n",
       "      <td>1</td>\n",
       "      <td>91</td>\n",
       "      <td>0</td>\n",
       "      <td>0</td>\n",
       "      <td>1</td>\n",
       "    </tr>\n",
       "    <tr>\n",
       "      <th>29</th>\n",
       "      <td>58</td>\n",
       "      <td>1</td>\n",
       "      <td>0</td>\n",
       "      <td>0</td>\n",
       "      <td>0</td>\n",
       "      <td>0</td>\n",
       "      <td>1</td>\n",
       "      <td>84618.0</td>\n",
       "      <td>1672</td>\n",
       "      <td>26</td>\n",
       "      <td>2</td>\n",
       "      <td>110</td>\n",
       "      <td>1</td>\n",
       "      <td>96</td>\n",
       "      <td>0</td>\n",
       "      <td>0</td>\n",
       "      <td>1</td>\n",
       "    </tr>\n",
       "    <tr>\n",
       "      <th>40</th>\n",
       "      <td>43</td>\n",
       "      <td>1</td>\n",
       "      <td>0</td>\n",
       "      <td>1</td>\n",
       "      <td>0</td>\n",
       "      <td>1</td>\n",
       "      <td>0</td>\n",
       "      <td>80011.0</td>\n",
       "      <td>1395</td>\n",
       "      <td>21</td>\n",
       "      <td>4</td>\n",
       "      <td>117</td>\n",
       "      <td>0</td>\n",
       "      <td>3</td>\n",
       "      <td>0</td>\n",
       "      <td>0</td>\n",
       "      <td>1</td>\n",
       "    </tr>\n",
       "  </tbody>\n",
       "</table>\n",
       "</div>"
      ],
      "text/plain": [
       "    Age  Partners  Single  Children  Basic  Graduation  Advance Education  \\\n",
       "2    58         1       0         0      0           1                  0   \n",
       "15   77         0       1         0      0           0                  1   \n",
       "18   74         1       0         1      0           0                  1   \n",
       "29   58         1       0         0      0           0                  1   \n",
       "40   43         1       0         1      0           1                  0   \n",
       "\n",
       "     Income  TotalSpendings  PlaceSpendings  WebEnrollment  MonthEnrollment  \\\n",
       "2   71613.0             776              21              4              113   \n",
       "15  82800.0            1315              26              3              122   \n",
       "18  76995.0            1782              26              5              118   \n",
       "29  84618.0            1672              26              2              110   \n",
       "40  80011.0            1395              21              4              117   \n",
       "\n",
       "    Accepting_Cmps  Recency  Complain  Response  ClusterLabel  \n",
       "2                0       26         0         0             1  \n",
       "15               2       23         0         1             1  \n",
       "18               1       91         0         0             1  \n",
       "29               1       96         0         0             1  \n",
       "40               0        3         0         0             1  "
      ]
     },
     "execution_count": 73,
     "metadata": {},
     "output_type": "execute_result"
    }
   ],
   "source": [
    "cluster_1_dat.head()"
   ]
  },
  {
   "cell_type": "code",
   "execution_count": 74,
   "id": "5UAdOOwNUtKv",
   "metadata": {
    "colab": {
     "base_uri": "https://localhost:8080/",
     "height": 206
    },
    "executionInfo": {
     "elapsed": 22,
     "status": "ok",
     "timestamp": 1687512843419,
     "user": {
      "displayName": "Sony Somanagurthy",
      "userId": "04008675568867142584"
     },
     "user_tz": -330
    },
    "id": "5UAdOOwNUtKv",
    "outputId": "f7facd75-5451-4936-c171-d0319e7c8ed9"
   },
   "outputs": [
    {
     "data": {
      "text/html": [
       "<div>\n",
       "<style scoped>\n",
       "    .dataframe tbody tr th:only-of-type {\n",
       "        vertical-align: middle;\n",
       "    }\n",
       "\n",
       "    .dataframe tbody tr th {\n",
       "        vertical-align: top;\n",
       "    }\n",
       "\n",
       "    .dataframe thead th {\n",
       "        text-align: right;\n",
       "    }\n",
       "</style>\n",
       "<table border=\"1\" class=\"dataframe\">\n",
       "  <thead>\n",
       "    <tr style=\"text-align: right;\">\n",
       "      <th></th>\n",
       "      <th>Age</th>\n",
       "      <th>Partners</th>\n",
       "      <th>Single</th>\n",
       "      <th>Children</th>\n",
       "      <th>Basic</th>\n",
       "      <th>Graduation</th>\n",
       "      <th>Advance Education</th>\n",
       "      <th>Income</th>\n",
       "      <th>TotalSpendings</th>\n",
       "      <th>PlaceSpendings</th>\n",
       "      <th>WebEnrollment</th>\n",
       "      <th>MonthEnrollment</th>\n",
       "      <th>Accepting_Cmps</th>\n",
       "      <th>Recency</th>\n",
       "      <th>Complain</th>\n",
       "      <th>Response</th>\n",
       "      <th>ClusterLabel</th>\n",
       "    </tr>\n",
       "  </thead>\n",
       "  <tbody>\n",
       "    <tr>\n",
       "      <th>3</th>\n",
       "      <td>39</td>\n",
       "      <td>1</td>\n",
       "      <td>0</td>\n",
       "      <td>1</td>\n",
       "      <td>0</td>\n",
       "      <td>1</td>\n",
       "      <td>0</td>\n",
       "      <td>26646.0</td>\n",
       "      <td>53</td>\n",
       "      <td>8</td>\n",
       "      <td>6</td>\n",
       "      <td>99</td>\n",
       "      <td>0</td>\n",
       "      <td>26</td>\n",
       "      <td>0</td>\n",
       "      <td>0</td>\n",
       "      <td>2</td>\n",
       "    </tr>\n",
       "    <tr>\n",
       "      <th>8</th>\n",
       "      <td>49</td>\n",
       "      <td>1</td>\n",
       "      <td>0</td>\n",
       "      <td>1</td>\n",
       "      <td>0</td>\n",
       "      <td>0</td>\n",
       "      <td>1</td>\n",
       "      <td>30351.0</td>\n",
       "      <td>46</td>\n",
       "      <td>6</td>\n",
       "      <td>9</td>\n",
       "      <td>115</td>\n",
       "      <td>0</td>\n",
       "      <td>19</td>\n",
       "      <td>0</td>\n",
       "      <td>1</td>\n",
       "      <td>2</td>\n",
       "    </tr>\n",
       "    <tr>\n",
       "      <th>9</th>\n",
       "      <td>73</td>\n",
       "      <td>1</td>\n",
       "      <td>0</td>\n",
       "      <td>2</td>\n",
       "      <td>0</td>\n",
       "      <td>0</td>\n",
       "      <td>1</td>\n",
       "      <td>5648.0</td>\n",
       "      <td>49</td>\n",
       "      <td>2</td>\n",
       "      <td>20</td>\n",
       "      <td>106</td>\n",
       "      <td>1</td>\n",
       "      <td>68</td>\n",
       "      <td>0</td>\n",
       "      <td>0</td>\n",
       "      <td>2</td>\n",
       "    </tr>\n",
       "    <tr>\n",
       "      <th>11</th>\n",
       "      <td>47</td>\n",
       "      <td>1</td>\n",
       "      <td>0</td>\n",
       "      <td>0</td>\n",
       "      <td>1</td>\n",
       "      <td>0</td>\n",
       "      <td>0</td>\n",
       "      <td>7500.0</td>\n",
       "      <td>61</td>\n",
       "      <td>6</td>\n",
       "      <td>8</td>\n",
       "      <td>122</td>\n",
       "      <td>0</td>\n",
       "      <td>59</td>\n",
       "      <td>0</td>\n",
       "      <td>0</td>\n",
       "      <td>2</td>\n",
       "    </tr>\n",
       "    <tr>\n",
       "      <th>14</th>\n",
       "      <td>36</td>\n",
       "      <td>1</td>\n",
       "      <td>0</td>\n",
       "      <td>0</td>\n",
       "      <td>0</td>\n",
       "      <td>1</td>\n",
       "      <td>0</td>\n",
       "      <td>17323.0</td>\n",
       "      <td>46</td>\n",
       "      <td>5</td>\n",
       "      <td>8</td>\n",
       "      <td>123</td>\n",
       "      <td>0</td>\n",
       "      <td>38</td>\n",
       "      <td>0</td>\n",
       "      <td>0</td>\n",
       "      <td>2</td>\n",
       "    </tr>\n",
       "  </tbody>\n",
       "</table>\n",
       "</div>"
      ],
      "text/plain": [
       "    Age  Partners  Single  Children  Basic  Graduation  Advance Education  \\\n",
       "3    39         1       0         1      0           1                  0   \n",
       "8    49         1       0         1      0           0                  1   \n",
       "9    73         1       0         2      0           0                  1   \n",
       "11   47         1       0         0      1           0                  0   \n",
       "14   36         1       0         0      0           1                  0   \n",
       "\n",
       "     Income  TotalSpendings  PlaceSpendings  WebEnrollment  MonthEnrollment  \\\n",
       "3   26646.0              53               8              6               99   \n",
       "8   30351.0              46               6              9              115   \n",
       "9    5648.0              49               2             20              106   \n",
       "11   7500.0              61               6              8              122   \n",
       "14  17323.0              46               5              8              123   \n",
       "\n",
       "    Accepting_Cmps  Recency  Complain  Response  ClusterLabel  \n",
       "3                0       26         0         0             2  \n",
       "8                0       19         0         1             2  \n",
       "9                1       68         0         0             2  \n",
       "11               0       59         0         0             2  \n",
       "14               0       38         0         0             2  "
      ]
     },
     "execution_count": 74,
     "metadata": {},
     "output_type": "execute_result"
    }
   ],
   "source": [
    "cluster_2_dat.head()"
   ]
  },
  {
   "cell_type": "code",
   "execution_count": 75,
   "id": "Ui1wXBGUVXsr",
   "metadata": {
    "colab": {
     "base_uri": "https://localhost:8080/",
     "height": 206
    },
    "executionInfo": {
     "elapsed": 22,
     "status": "ok",
     "timestamp": 1687512843420,
     "user": {
      "displayName": "Sony Somanagurthy",
      "userId": "04008675568867142584"
     },
     "user_tz": -330
    },
    "id": "Ui1wXBGUVXsr",
    "outputId": "f3afd198-9385-470c-a067-86c5017fc79f"
   },
   "outputs": [
    {
     "data": {
      "text/html": [
       "<div>\n",
       "<style scoped>\n",
       "    .dataframe tbody tr th:only-of-type {\n",
       "        vertical-align: middle;\n",
       "    }\n",
       "\n",
       "    .dataframe tbody tr th {\n",
       "        vertical-align: top;\n",
       "    }\n",
       "\n",
       "    .dataframe thead th {\n",
       "        text-align: right;\n",
       "    }\n",
       "</style>\n",
       "<table border=\"1\" class=\"dataframe\">\n",
       "  <thead>\n",
       "    <tr style=\"text-align: right;\">\n",
       "      <th></th>\n",
       "      <th>Age</th>\n",
       "      <th>Partners</th>\n",
       "      <th>Single</th>\n",
       "      <th>Children</th>\n",
       "      <th>Basic</th>\n",
       "      <th>Graduation</th>\n",
       "      <th>Advance Education</th>\n",
       "      <th>Income</th>\n",
       "      <th>TotalSpendings</th>\n",
       "      <th>PlaceSpendings</th>\n",
       "      <th>WebEnrollment</th>\n",
       "      <th>MonthEnrollment</th>\n",
       "      <th>Accepting_Cmps</th>\n",
       "      <th>Recency</th>\n",
       "      <th>Complain</th>\n",
       "      <th>Response</th>\n",
       "      <th>ClusterLabel</th>\n",
       "    </tr>\n",
       "  </thead>\n",
       "  <tbody>\n",
       "    <tr>\n",
       "      <th>0</th>\n",
       "      <td>66</td>\n",
       "      <td>0</td>\n",
       "      <td>1</td>\n",
       "      <td>0</td>\n",
       "      <td>0</td>\n",
       "      <td>1</td>\n",
       "      <td>0</td>\n",
       "      <td>58138.0</td>\n",
       "      <td>1617</td>\n",
       "      <td>25</td>\n",
       "      <td>7</td>\n",
       "      <td>129</td>\n",
       "      <td>0</td>\n",
       "      <td>58</td>\n",
       "      <td>0</td>\n",
       "      <td>1</td>\n",
       "      <td>3</td>\n",
       "    </tr>\n",
       "    <tr>\n",
       "      <th>4</th>\n",
       "      <td>42</td>\n",
       "      <td>1</td>\n",
       "      <td>0</td>\n",
       "      <td>1</td>\n",
       "      <td>0</td>\n",
       "      <td>0</td>\n",
       "      <td>1</td>\n",
       "      <td>58293.0</td>\n",
       "      <td>422</td>\n",
       "      <td>19</td>\n",
       "      <td>5</td>\n",
       "      <td>108</td>\n",
       "      <td>0</td>\n",
       "      <td>94</td>\n",
       "      <td>0</td>\n",
       "      <td>0</td>\n",
       "      <td>3</td>\n",
       "    </tr>\n",
       "    <tr>\n",
       "      <th>5</th>\n",
       "      <td>56</td>\n",
       "      <td>1</td>\n",
       "      <td>0</td>\n",
       "      <td>1</td>\n",
       "      <td>0</td>\n",
       "      <td>0</td>\n",
       "      <td>1</td>\n",
       "      <td>62513.0</td>\n",
       "      <td>716</td>\n",
       "      <td>22</td>\n",
       "      <td>6</td>\n",
       "      <td>112</td>\n",
       "      <td>0</td>\n",
       "      <td>16</td>\n",
       "      <td>0</td>\n",
       "      <td>0</td>\n",
       "      <td>3</td>\n",
       "    </tr>\n",
       "    <tr>\n",
       "      <th>6</th>\n",
       "      <td>52</td>\n",
       "      <td>0</td>\n",
       "      <td>1</td>\n",
       "      <td>1</td>\n",
       "      <td>0</td>\n",
       "      <td>1</td>\n",
       "      <td>0</td>\n",
       "      <td>55635.0</td>\n",
       "      <td>590</td>\n",
       "      <td>21</td>\n",
       "      <td>6</td>\n",
       "      <td>122</td>\n",
       "      <td>0</td>\n",
       "      <td>34</td>\n",
       "      <td>0</td>\n",
       "      <td>0</td>\n",
       "      <td>3</td>\n",
       "    </tr>\n",
       "    <tr>\n",
       "      <th>12</th>\n",
       "      <td>64</td>\n",
       "      <td>0</td>\n",
       "      <td>1</td>\n",
       "      <td>0</td>\n",
       "      <td>0</td>\n",
       "      <td>1</td>\n",
       "      <td>0</td>\n",
       "      <td>63033.0</td>\n",
       "      <td>1102</td>\n",
       "      <td>16</td>\n",
       "      <td>2</td>\n",
       "      <td>110</td>\n",
       "      <td>0</td>\n",
       "      <td>82</td>\n",
       "      <td>0</td>\n",
       "      <td>0</td>\n",
       "      <td>3</td>\n",
       "    </tr>\n",
       "  </tbody>\n",
       "</table>\n",
       "</div>"
      ],
      "text/plain": [
       "    Age  Partners  Single  Children  Basic  Graduation  Advance Education  \\\n",
       "0    66         0       1         0      0           1                  0   \n",
       "4    42         1       0         1      0           0                  1   \n",
       "5    56         1       0         1      0           0                  1   \n",
       "6    52         0       1         1      0           1                  0   \n",
       "12   64         0       1         0      0           1                  0   \n",
       "\n",
       "     Income  TotalSpendings  PlaceSpendings  WebEnrollment  MonthEnrollment  \\\n",
       "0   58138.0            1617              25              7              129   \n",
       "4   58293.0             422              19              5              108   \n",
       "5   62513.0             716              22              6              112   \n",
       "6   55635.0             590              21              6              122   \n",
       "12  63033.0            1102              16              2              110   \n",
       "\n",
       "    Accepting_Cmps  Recency  Complain  Response  ClusterLabel  \n",
       "0                0       58         0         1             3  \n",
       "4                0       94         0         0             3  \n",
       "5                0       16         0         0             3  \n",
       "6                0       34         0         0             3  \n",
       "12               0       82         0         0             3  "
      ]
     },
     "execution_count": 75,
     "metadata": {},
     "output_type": "execute_result"
    }
   ],
   "source": [
    "cluster_3_dat.head()"
   ]
  },
  {
   "cell_type": "code",
   "execution_count": 76,
   "id": "UJ8xaw4x_y1b",
   "metadata": {
    "colab": {
     "base_uri": "https://localhost:8080/",
     "height": 472
    },
    "executionInfo": {
     "elapsed": 22,
     "status": "ok",
     "timestamp": 1687512843421,
     "user": {
      "displayName": "Sony Somanagurthy",
      "userId": "04008675568867142584"
     },
     "user_tz": -330
    },
    "id": "UJ8xaw4x_y1b",
    "outputId": "12f47fb0-4fd3-4c49-ac3e-02ca313837c0"
   },
   "outputs": [
    {
     "data": {
      "image/png": "[encoded data removed]",
      "text/plain": [
       "<Figure size 432x288 with 1 Axes>"
      ]
     },
     "metadata": {
      "needs_background": "light"
     },
     "output_type": "display_data"
    }
   ],
   "source": [
    "# Define the color palette\n",
    "pal = [\"red\", \"blue\", \"green\",\"Grey\"]  # Example color palette\n",
    "\n",
    "# Create the countplot\n",
    "fig = sns.countplot(x=finaldf[\"ClusterLabel\"], palette=pal)\n",
    "fig.set_title(\"Distribution of clusters\")\n",
    "plt.show()\n"
   ]
  },
  {
   "cell_type": "code",
   "execution_count": 77,
   "id": "H1O10F4wAf7A",
   "metadata": {
    "colab": {
     "base_uri": "https://localhost:8080/",
     "height": 449
    },
    "executionInfo": {
     "elapsed": 1580,
     "status": "ok",
     "timestamp": 1687512844980,
     "user": {
      "displayName": "Sony Somanagurthy",
      "userId": "04008675568867142584"
     },
     "user_tz": -330
    },
    "id": "H1O10F4wAf7A",
    "outputId": "7f81c821-1fab-4c21-adc8-1224cc0cb31d"
   },
   "outputs": [
    {
     "data": {
      "image/png": "[encoded data removed]",
      "text/plain": [
       "<Figure size 432x288 with 1 Axes>"
      ]
     },
     "metadata": {
      "needs_background": "light"
     },
     "output_type": "display_data"
    }
   ],
   "source": [
    "sns.scatterplot(data=finaldf, x='Income', y='TotalSpendings', hue='ClusterLabel', palette='Set1')\n",
    "plt.show()"
   ]
  },
  {
   "cell_type": "code",
   "execution_count": null,
   "id": "AMUfr0vQaiEb",
   "metadata": {
    "executionInfo": {
     "elapsed": 12,
     "status": "ok",
     "timestamp": 1687512844980,
     "user": {
      "displayName": "Sony Somanagurthy",
      "userId": "04008675568867142584"
     },
     "user_tz": -330
    },
    "id": "AMUfr0vQaiEb"
   },
   "outputs": [],
   "source": []
  },
  {
   "cell_type": "code",
   "execution_count": 78,
   "id": "Hk63svS8ZrMc",
   "metadata": {
    "executionInfo": {
     "elapsed": 12,
     "status": "ok",
     "timestamp": 1687512844981,
     "user": {
      "displayName": "Sony Somanagurthy",
      "userId": "04008675568867142584"
     },
     "user_tz": -330
    },
    "id": "Hk63svS8ZrMc"
   },
   "outputs": [],
   "source": [
    "finaldf['clusters']= finaldf.ClusterLabel.map({0:'High', 1:'Middle',2:'Low',3:'Upper Middle'})"
   ]
  },
  {
   "cell_type": "code",
   "execution_count": 79,
   "id": "L7atnGlaajXZ",
   "metadata": {
    "colab": {
     "base_uri": "https://localhost:8080/",
     "height": 206
    },
    "executionInfo": {
     "elapsed": 12,
     "status": "ok",
     "timestamp": 1687512844981,
     "user": {
      "displayName": "Sony Somanagurthy",
      "userId": "04008675568867142584"
     },
     "user_tz": -330
    },
    "id": "L7atnGlaajXZ",
    "outputId": "580a8768-5e59-4102-a8c2-2a7d010d48a4"
   },
   "outputs": [
    {
     "data": {
      "text/html": [
       "<div>\n",
       "<style scoped>\n",
       "    .dataframe tbody tr th:only-of-type {\n",
       "        vertical-align: middle;\n",
       "    }\n",
       "\n",
       "    .dataframe tbody tr th {\n",
       "        vertical-align: top;\n",
       "    }\n",
       "\n",
       "    .dataframe thead th {\n",
       "        text-align: right;\n",
       "    }\n",
       "</style>\n",
       "<table border=\"1\" class=\"dataframe\">\n",
       "  <thead>\n",
       "    <tr style=\"text-align: right;\">\n",
       "      <th></th>\n",
       "      <th>Age</th>\n",
       "      <th>Partners</th>\n",
       "      <th>Single</th>\n",
       "      <th>Children</th>\n",
       "      <th>Basic</th>\n",
       "      <th>Graduation</th>\n",
       "      <th>Advance Education</th>\n",
       "      <th>Income</th>\n",
       "      <th>TotalSpendings</th>\n",
       "      <th>PlaceSpendings</th>\n",
       "      <th>WebEnrollment</th>\n",
       "      <th>MonthEnrollment</th>\n",
       "      <th>Accepting_Cmps</th>\n",
       "      <th>Recency</th>\n",
       "      <th>Complain</th>\n",
       "      <th>Response</th>\n",
       "      <th>ClusterLabel</th>\n",
       "      <th>clusters</th>\n",
       "    </tr>\n",
       "  </thead>\n",
       "  <tbody>\n",
       "    <tr>\n",
       "      <th>0</th>\n",
       "      <td>66</td>\n",
       "      <td>0</td>\n",
       "      <td>1</td>\n",
       "      <td>0</td>\n",
       "      <td>0</td>\n",
       "      <td>1</td>\n",
       "      <td>0</td>\n",
       "      <td>58138.0</td>\n",
       "      <td>1617</td>\n",
       "      <td>25</td>\n",
       "      <td>7</td>\n",
       "      <td>129</td>\n",
       "      <td>0</td>\n",
       "      <td>58</td>\n",
       "      <td>0</td>\n",
       "      <td>1</td>\n",
       "      <td>3</td>\n",
       "      <td>Upper Middle</td>\n",
       "    </tr>\n",
       "    <tr>\n",
       "      <th>1</th>\n",
       "      <td>69</td>\n",
       "      <td>0</td>\n",
       "      <td>1</td>\n",
       "      <td>2</td>\n",
       "      <td>0</td>\n",
       "      <td>1</td>\n",
       "      <td>0</td>\n",
       "      <td>46344.0</td>\n",
       "      <td>27</td>\n",
       "      <td>6</td>\n",
       "      <td>5</td>\n",
       "      <td>101</td>\n",
       "      <td>0</td>\n",
       "      <td>38</td>\n",
       "      <td>0</td>\n",
       "      <td>0</td>\n",
       "      <td>0</td>\n",
       "      <td>High</td>\n",
       "    </tr>\n",
       "    <tr>\n",
       "      <th>2</th>\n",
       "      <td>58</td>\n",
       "      <td>1</td>\n",
       "      <td>0</td>\n",
       "      <td>0</td>\n",
       "      <td>0</td>\n",
       "      <td>1</td>\n",
       "      <td>0</td>\n",
       "      <td>71613.0</td>\n",
       "      <td>776</td>\n",
       "      <td>21</td>\n",
       "      <td>4</td>\n",
       "      <td>113</td>\n",
       "      <td>0</td>\n",
       "      <td>26</td>\n",
       "      <td>0</td>\n",
       "      <td>0</td>\n",
       "      <td>1</td>\n",
       "      <td>Middle</td>\n",
       "    </tr>\n",
       "    <tr>\n",
       "      <th>3</th>\n",
       "      <td>39</td>\n",
       "      <td>1</td>\n",
       "      <td>0</td>\n",
       "      <td>1</td>\n",
       "      <td>0</td>\n",
       "      <td>1</td>\n",
       "      <td>0</td>\n",
       "      <td>26646.0</td>\n",
       "      <td>53</td>\n",
       "      <td>8</td>\n",
       "      <td>6</td>\n",
       "      <td>99</td>\n",
       "      <td>0</td>\n",
       "      <td>26</td>\n",
       "      <td>0</td>\n",
       "      <td>0</td>\n",
       "      <td>2</td>\n",
       "      <td>Low</td>\n",
       "    </tr>\n",
       "    <tr>\n",
       "      <th>4</th>\n",
       "      <td>42</td>\n",
       "      <td>1</td>\n",
       "      <td>0</td>\n",
       "      <td>1</td>\n",
       "      <td>0</td>\n",
       "      <td>0</td>\n",
       "      <td>1</td>\n",
       "      <td>58293.0</td>\n",
       "      <td>422</td>\n",
       "      <td>19</td>\n",
       "      <td>5</td>\n",
       "      <td>108</td>\n",
       "      <td>0</td>\n",
       "      <td>94</td>\n",
       "      <td>0</td>\n",
       "      <td>0</td>\n",
       "      <td>3</td>\n",
       "      <td>Upper Middle</td>\n",
       "    </tr>\n",
       "  </tbody>\n",
       "</table>\n",
       "</div>"
      ],
      "text/plain": [
       "   Age  Partners  Single  Children  Basic  Graduation  Advance Education  \\\n",
       "0   66         0       1         0      0           1                  0   \n",
       "1   69         0       1         2      0           1                  0   \n",
       "2   58         1       0         0      0           1                  0   \n",
       "3   39         1       0         1      0           1                  0   \n",
       "4   42         1       0         1      0           0                  1   \n",
       "\n",
       "    Income  TotalSpendings  PlaceSpendings  WebEnrollment  MonthEnrollment  \\\n",
       "0  58138.0            1617              25              7              129   \n",
       "1  46344.0              27               6              5              101   \n",
       "2  71613.0             776              21              4              113   \n",
       "3  26646.0              53               8              6               99   \n",
       "4  58293.0             422              19              5              108   \n",
       "\n",
       "   Accepting_Cmps  Recency  Complain  Response  ClusterLabel      clusters  \n",
       "0               0       58         0         1             3  Upper Middle  \n",
       "1               0       38         0         0             0          High  \n",
       "2               0       26         0         0             1        Middle  \n",
       "3               0       26         0         0             2           Low  \n",
       "4               0       94         0         0             3  Upper Middle  "
      ]
     },
     "execution_count": 79,
     "metadata": {},
     "output_type": "execute_result"
    }
   ],
   "source": [
    "finaldf.head()"
   ]
  },
  {
   "cell_type": "code",
   "execution_count": 80,
   "id": "GPuYz73EB8a9",
   "metadata": {
    "colab": {
     "base_uri": "https://localhost:8080/",
     "height": 449
    },
    "executionInfo": {
     "elapsed": 12,
     "status": "ok",
     "timestamp": 1687512844982,
     "user": {
      "displayName": "Sony Somanagurthy",
      "userId": "04008675568867142584"
     },
     "user_tz": -330
    },
    "id": "GPuYz73EB8a9",
    "outputId": "36cd44b2-cd95-4959-ed0c-9a9746f7d47f"
   },
   "outputs": [
    {
     "data": {
      "image/png": "[encoded data removed]",
      "text/plain": [
       "<Figure size 432x288 with 1 Axes>"
      ]
     },
     "metadata": {
      "needs_background": "light"
     },
     "output_type": "display_data"
    }
   ],
   "source": [
    "sns.scatterplot(data=finaldf, x='Income', y='PlaceSpendings', hue='ClusterLabel', palette='Set1')\n",
    "plt.show()\n"
   ]
  },
  {
   "cell_type": "code",
   "execution_count": 81,
   "id": "JT9mUHPPTJyR",
   "metadata": {
    "colab": {
     "base_uri": "https://localhost:8080/",
     "height": 449
    },
    "executionInfo": {
     "elapsed": 1889,
     "status": "ok",
     "timestamp": 1687512846861,
     "user": {
      "displayName": "Sony Somanagurthy",
      "userId": "04008675568867142584"
     },
     "user_tz": -330
    },
    "id": "JT9mUHPPTJyR",
    "outputId": "12424a88-8fec-4776-8758-4025df1ab7a0"
   },
   "outputs": [
    {
     "data": {
      "image/png": "[encoded data removed]",
      "text/plain": [
       "<Figure size 432x288 with 1 Axes>"
      ]
     },
     "metadata": {
      "needs_background": "light"
     },
     "output_type": "display_data"
    }
   ],
   "source": [
    "sns.scatterplot(data=finaldf, x='Income', y='Accepting_Cmps', hue='ClusterLabel', palette='Set1')\n",
    "plt.show()"
   ]
  },
  {
   "cell_type": "code",
   "execution_count": 82,
   "id": "pZbKIH4iTUdI",
   "metadata": {
    "colab": {
     "base_uri": "https://localhost:8080/",
     "height": 449
    },
    "executionInfo": {
     "elapsed": 32,
     "status": "ok",
     "timestamp": 1687512846862,
     "user": {
      "displayName": "Sony Somanagurthy",
      "userId": "04008675568867142584"
     },
     "user_tz": -330
    },
    "id": "pZbKIH4iTUdI",
    "outputId": "1431be86-faaf-40d3-9590-9414d868d845"
   },
   "outputs": [
    {
     "data": {
      "image/png": "[encoded data removed]",
      "text/plain": [
       "<Figure size 432x288 with 1 Axes>"
      ]
     },
     "metadata": {
      "needs_background": "light"
     },
     "output_type": "display_data"
    }
   ],
   "source": [
    "sns.scatterplot(data=finaldf, x='Income', y='WebEnrollment', hue='ClusterLabel', palette='Set1')\n",
    "plt.show()"
   ]
  },
  {
   "cell_type": "code",
   "execution_count": 83,
   "id": "vENf8PeZTbfw",
   "metadata": {
    "colab": {
     "base_uri": "https://localhost:8080/",
     "height": 449
    },
    "executionInfo": {
     "elapsed": 29,
     "status": "ok",
     "timestamp": 1687512846862,
     "user": {
      "displayName": "Sony Somanagurthy",
      "userId": "04008675568867142584"
     },
     "user_tz": -330
    },
    "id": "vENf8PeZTbfw",
    "outputId": "3cff57e2-f074-4807-8d54-7c7effa0d828"
   },
   "outputs": [
    {
     "data": {
      "image/png": "[encoded data removed]",
      "text/plain": [
       "<Figure size 432x288 with 1 Axes>"
      ]
     },
     "metadata": {
      "needs_background": "light"
     },
     "output_type": "display_data"
    }
   ],
   "source": [
    "sns.scatterplot(data=finaldf, x='Income', y='MonthEnrollment', hue='ClusterLabel', palette='Set1')\n",
    "plt.show()"
   ]
  },
  {
   "cell_type": "code",
   "execution_count": 84,
   "id": "U3rfAM2aox6a",
   "metadata": {
    "executionInfo": {
     "elapsed": 28,
     "status": "ok",
     "timestamp": 1687512846863,
     "user": {
      "displayName": "Sony Somanagurthy",
      "userId": "04008675568867142584"
     },
     "user_tz": -330
    },
    "id": "U3rfAM2aox6a"
   },
   "outputs": [],
   "source": [
    "\n",
    "import pickle"
   ]
  },
  {
   "cell_type": "code",
   "execution_count": 92,
   "id": "f820f876",
   "metadata": {
    "executionInfo": {
     "elapsed": 28,
     "status": "ok",
     "timestamp": 1687512846863,
     "user": {
      "displayName": "Sony Somanagurthy",
      "userId": "04008675568867142584"
     },
     "user_tz": -330
    },
    "id": "f820f876"
   },
   "outputs": [],
   "source": [
    "# Save the trained model using pickle\n",
    "file = open('kmeans_model.pkl', 'wb')\n",
    "pickle.dump(model, file)\n"
   ]
  },
  {
   "cell_type": "code",
   "execution_count": 86,
   "id": "c2341af3",
   "metadata": {
    "executionInfo": {
     "elapsed": 28,
     "status": "ok",
     "timestamp": 1687512846864,
     "user": {
      "displayName": "Sony Somanagurthy",
      "userId": "04008675568867142584"
     },
     "user_tz": -330
    },
    "id": "c2341af3"
   },
   "outputs": [],
   "source": [
    "predictions = pd.DataFrame(model.labels_,columns = ['Cluster'])"
   ]
  },
  {
   "cell_type": "code",
   "execution_count": 87,
   "id": "65419634",
   "metadata": {
    "executionInfo": {
     "elapsed": 28,
     "status": "ok",
     "timestamp": 1687512846864,
     "user": {
      "displayName": "Sony Somanagurthy",
      "userId": "04008675568867142584"
     },
     "user_tz": -330
    },
    "id": "65419634"
   },
   "outputs": [],
   "source": [
    "predictions.to_csv(\"Cluster.csv\", index = False)"
   ]
  },
  {
   "cell_type": "code",
   "execution_count": 88,
   "id": "4d5b3047",
   "metadata": {
    "colab": {
     "base_uri": "https://localhost:8080/",
     "height": 206
    },
    "executionInfo": {
     "elapsed": 29,
     "status": "ok",
     "timestamp": 1687512846865,
     "user": {
      "displayName": "Sony Somanagurthy",
      "userId": "04008675568867142584"
     },
     "user_tz": -330
    },
    "id": "4d5b3047",
    "outputId": "ed33b744-3321-42af-b242-aedc4891d3ab"
   },
   "outputs": [
    {
     "data": {
      "text/html": [
       "<div>\n",
       "<style scoped>\n",
       "    .dataframe tbody tr th:only-of-type {\n",
       "        vertical-align: middle;\n",
       "    }\n",
       "\n",
       "    .dataframe tbody tr th {\n",
       "        vertical-align: top;\n",
       "    }\n",
       "\n",
       "    .dataframe thead th {\n",
       "        text-align: right;\n",
       "    }\n",
       "</style>\n",
       "<table border=\"1\" class=\"dataframe\">\n",
       "  <thead>\n",
       "    <tr style=\"text-align: right;\">\n",
       "      <th></th>\n",
       "      <th>Cluster</th>\n",
       "    </tr>\n",
       "  </thead>\n",
       "  <tbody>\n",
       "    <tr>\n",
       "      <th>0</th>\n",
       "      <td>3</td>\n",
       "    </tr>\n",
       "    <tr>\n",
       "      <th>1</th>\n",
       "      <td>0</td>\n",
       "    </tr>\n",
       "    <tr>\n",
       "      <th>2</th>\n",
       "      <td>1</td>\n",
       "    </tr>\n",
       "    <tr>\n",
       "      <th>3</th>\n",
       "      <td>2</td>\n",
       "    </tr>\n",
       "    <tr>\n",
       "      <th>4</th>\n",
       "      <td>3</td>\n",
       "    </tr>\n",
       "  </tbody>\n",
       "</table>\n",
       "</div>"
      ],
      "text/plain": [
       "   Cluster\n",
       "0        3\n",
       "1        0\n",
       "2        1\n",
       "3        2\n",
       "4        3"
      ]
     },
     "execution_count": 88,
     "metadata": {},
     "output_type": "execute_result"
    }
   ],
   "source": [
    "predictions.head()"
   ]
  },
  {
   "cell_type": "code",
   "execution_count": 89,
   "id": "a32f56d7",
   "metadata": {
    "executionInfo": {
     "elapsed": 28,
     "status": "ok",
     "timestamp": 1687512846865,
     "user": {
      "displayName": "Sony Somanagurthy",
      "userId": "04008675568867142584"
     },
     "user_tz": -330
    },
    "id": "a32f56d7"
   },
   "outputs": [],
   "source": [
    "import pickle"
   ]
  },
  {
   "cell_type": "code",
   "execution_count": 90,
   "id": "2c1cc411",
   "metadata": {
    "executionInfo": {
     "elapsed": 29,
     "status": "ok",
     "timestamp": 1687512846866,
     "user": {
      "displayName": "Sony Somanagurthy",
      "userId": "04008675568867142584"
     },
     "user_tz": -330
    },
    "id": "2c1cc411"
   },
   "outputs": [],
   "source": [
    "file = open('CPAnalysis.pkl','wb')\n",
    "pickle.dump(model,file)\n"
   ]
  },
  {
   "cell_type": "code",
   "execution_count": 91,
   "id": "f6c1a6f0",
   "metadata": {
    "colab": {
     "base_uri": "https://localhost:8080/"
    },
    "executionInfo": {
     "elapsed": 28,
     "status": "ok",
     "timestamp": 1687512846866,
     "user": {
      "displayName": "Sony Somanagurthy",
      "userId": "04008675568867142584"
     },
     "user_tz": -330
    },
    "id": "f6c1a6f0",
    "outputId": "60b10725-2bcd-413d-cee4-5db07b8359b4"
   },
   "outputs": [
    {
     "data": {
      "text/plain": [
       "Cluster\n",
       "0          641\n",
       "3          609\n",
       "1          510\n",
       "2          444\n",
       "dtype: int64"
      ]
     },
     "execution_count": 91,
     "metadata": {},
     "output_type": "execute_result"
    }
   ],
   "source": [
    "predictions.value_counts()"
   ]
  },
  {
   "cell_type": "code",
   "execution_count": null,
   "id": "pi8pYcOikTQd",
   "metadata": {
    "executionInfo": {
     "elapsed": 25,
     "status": "ok",
     "timestamp": 1687512846867,
     "user": {
      "displayName": "Sony Somanagurthy",
      "userId": "04008675568867142584"
     },
     "user_tz": -330
    },
    "id": "pi8pYcOikTQd"
   },
   "outputs": [],
   "source": []
  }
 ],
 "metadata": {
  "colab": {
   "provenance": []
  },
  "kernelspec": {
   "display_name": "Python 3 (ipykernel)",
   "language": "python",
   "name": "python3"
  },
  "language_info": {
   "codemirror_mode": {
    "name": "ipython",
    "version": 3
   },
   "file_extension": ".py",
   "mimetype": "text/x-python",
   "name": "python",
   "nbconvert_exporter": "python",
   "pygments_lexer": "ipython3",
   "version": "3.9.12"
  }
 },
 "nbformat": 4,
 "nbformat_minor": 5
}
